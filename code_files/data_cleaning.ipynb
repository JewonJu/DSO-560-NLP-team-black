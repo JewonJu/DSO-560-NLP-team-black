{
 "cells": [
  {
   "cell_type": "code",
   "execution_count": 16,
   "metadata": {},
   "outputs": [],
   "source": [
    "import pandas as pd \n",
    "pd.set_option('display.max_colwidth', None)"
   ]
  },
  {
   "cell_type": "code",
   "execution_count": null,
   "metadata": {},
   "outputs": [],
   "source": []
  },
  {
   "cell_type": "code",
   "execution_count": 4,
   "metadata": {},
   "outputs": [],
   "source": [
    "df=pd.read_csv('steam_reviews.csv', usecols = ['app_name','language','review','recommended'])"
   ]
  },
  {
   "cell_type": "code",
   "execution_count": 6,
   "metadata": {},
   "outputs": [
    {
     "data": {
      "text/plain": [
       "(21747371, 4)"
      ]
     },
     "execution_count": 6,
     "metadata": {},
     "output_type": "execute_result"
    }
   ],
   "source": [
    "df.shape"
   ]
  },
  {
   "cell_type": "code",
   "execution_count": 7,
   "metadata": {},
   "outputs": [
    {
     "data": {
      "text/html": [
       "<div>\n",
       "<style scoped>\n",
       "    .dataframe tbody tr th:only-of-type {\n",
       "        vertical-align: middle;\n",
       "    }\n",
       "\n",
       "    .dataframe tbody tr th {\n",
       "        vertical-align: top;\n",
       "    }\n",
       "\n",
       "    .dataframe thead th {\n",
       "        text-align: right;\n",
       "    }\n",
       "</style>\n",
       "<table border=\"1\" class=\"dataframe\">\n",
       "  <thead>\n",
       "    <tr style=\"text-align: right;\">\n",
       "      <th></th>\n",
       "      <th>app_name</th>\n",
       "      <th>language</th>\n",
       "      <th>review</th>\n",
       "      <th>recommended</th>\n",
       "    </tr>\n",
       "  </thead>\n",
       "  <tbody>\n",
       "    <tr>\n",
       "      <th>0</th>\n",
       "      <td>The Witcher 3: Wild Hunt</td>\n",
       "      <td>schinese</td>\n",
       "      <td>不玩此生遗憾，RPG游戏里的天花板，太吸引人了</td>\n",
       "      <td>True</td>\n",
       "    </tr>\n",
       "    <tr>\n",
       "      <th>1</th>\n",
       "      <td>The Witcher 3: Wild Hunt</td>\n",
       "      <td>schinese</td>\n",
       "      <td>拔DIAO无情打桩机--杰洛特!!!</td>\n",
       "      <td>True</td>\n",
       "    </tr>\n",
       "    <tr>\n",
       "      <th>2</th>\n",
       "      <td>The Witcher 3: Wild Hunt</td>\n",
       "      <td>schinese</td>\n",
       "      <td>巫师3NB</td>\n",
       "      <td>True</td>\n",
       "    </tr>\n",
       "    <tr>\n",
       "      <th>3</th>\n",
       "      <td>The Witcher 3: Wild Hunt</td>\n",
       "      <td>english</td>\n",
       "      <td>One of the best RPG's of all time, worthy of a...</td>\n",
       "      <td>True</td>\n",
       "    </tr>\n",
       "    <tr>\n",
       "      <th>4</th>\n",
       "      <td>The Witcher 3: Wild Hunt</td>\n",
       "      <td>schinese</td>\n",
       "      <td>大作</td>\n",
       "      <td>True</td>\n",
       "    </tr>\n",
       "  </tbody>\n",
       "</table>\n",
       "</div>"
      ],
      "text/plain": [
       "                   app_name  language  \\\n",
       "0  The Witcher 3: Wild Hunt  schinese   \n",
       "1  The Witcher 3: Wild Hunt  schinese   \n",
       "2  The Witcher 3: Wild Hunt  schinese   \n",
       "3  The Witcher 3: Wild Hunt   english   \n",
       "4  The Witcher 3: Wild Hunt  schinese   \n",
       "\n",
       "                                              review  recommended  \n",
       "0                            不玩此生遗憾，RPG游戏里的天花板，太吸引人了         True  \n",
       "1                                 拔DIAO无情打桩机--杰洛特!!!         True  \n",
       "2                                              巫师3NB         True  \n",
       "3  One of the best RPG's of all time, worthy of a...         True  \n",
       "4                                                 大作         True  "
      ]
     },
     "execution_count": 7,
     "metadata": {},
     "output_type": "execute_result"
    }
   ],
   "source": [
    "df.head()"
   ]
  },
  {
   "cell_type": "code",
   "execution_count": 8,
   "metadata": {},
   "outputs": [],
   "source": [
    "gta = df[(df['app_name'] == 'Grand Theft Auto V') & (df['language']== 'english')]\n"
   ]
  },
  {
   "cell_type": "code",
   "execution_count": 9,
   "metadata": {},
   "outputs": [
    {
     "data": {
      "text/plain": [
       "(319751, 4)"
      ]
     },
     "execution_count": 9,
     "metadata": {},
     "output_type": "execute_result"
    }
   ],
   "source": [
    "gta.shape"
   ]
  },
  {
   "cell_type": "code",
   "execution_count": 12,
   "metadata": {},
   "outputs": [
    {
     "data": {
      "text/html": [
       "<div>\n",
       "<style scoped>\n",
       "    .dataframe tbody tr th:only-of-type {\n",
       "        vertical-align: middle;\n",
       "    }\n",
       "\n",
       "    .dataframe tbody tr th {\n",
       "        vertical-align: top;\n",
       "    }\n",
       "\n",
       "    .dataframe thead th {\n",
       "        text-align: right;\n",
       "    }\n",
       "</style>\n",
       "<table border=\"1\" class=\"dataframe\">\n",
       "  <thead>\n",
       "    <tr style=\"text-align: right;\">\n",
       "      <th></th>\n",
       "      <th>app_name</th>\n",
       "      <th>language</th>\n",
       "      <th>review</th>\n",
       "      <th>recommended</th>\n",
       "    </tr>\n",
       "  </thead>\n",
       "  <tbody>\n",
       "    <tr>\n",
       "      <th>12750210</th>\n",
       "      <td>Grand Theft Auto V</td>\n",
       "      <td>english</td>\n",
       "      <td>It's fun.\\nWish the loading times for Online w...</td>\n",
       "      <td>True</td>\n",
       "    </tr>\n",
       "    <tr>\n",
       "      <th>12750213</th>\n",
       "      <td>Grand Theft Auto V</td>\n",
       "      <td>english</td>\n",
       "      <td>hn</td>\n",
       "      <td>True</td>\n",
       "    </tr>\n",
       "    <tr>\n",
       "      <th>12750214</th>\n",
       "      <td>Grand Theft Auto V</td>\n",
       "      <td>english</td>\n",
       "      <td>---{Graphics}---\\n☐ You forget what reality is...</td>\n",
       "      <td>True</td>\n",
       "    </tr>\n",
       "    <tr>\n",
       "      <th>12750216</th>\n",
       "      <td>Grand Theft Auto V</td>\n",
       "      <td>english</td>\n",
       "      <td>a</td>\n",
       "      <td>True</td>\n",
       "    </tr>\n",
       "    <tr>\n",
       "      <th>12750223</th>\n",
       "      <td>Grand Theft Auto V</td>\n",
       "      <td>english</td>\n",
       "      <td>It is one of the best games I’ve played.. Too ...</td>\n",
       "      <td>True</td>\n",
       "    </tr>\n",
       "  </tbody>\n",
       "</table>\n",
       "</div>"
      ],
      "text/plain": [
       "                    app_name language  \\\n",
       "12750210  Grand Theft Auto V  english   \n",
       "12750213  Grand Theft Auto V  english   \n",
       "12750214  Grand Theft Auto V  english   \n",
       "12750216  Grand Theft Auto V  english   \n",
       "12750223  Grand Theft Auto V  english   \n",
       "\n",
       "                                                     review  recommended  \n",
       "12750210  It's fun.\\nWish the loading times for Online w...         True  \n",
       "12750213                                                 hn         True  \n",
       "12750214  ---{Graphics}---\\n☐ You forget what reality is...         True  \n",
       "12750216                                                  a         True  \n",
       "12750223  It is one of the best games I’ve played.. Too ...         True  "
      ]
     },
     "execution_count": 12,
     "metadata": {},
     "output_type": "execute_result"
    }
   ],
   "source": [
    "gta.head()"
   ]
  },
  {
   "cell_type": "code",
   "execution_count": 14,
   "metadata": {},
   "outputs": [
    {
     "data": {
      "text/plain": [
       "app_name\n",
       "PLAYERUNKNOWN'S BATTLEGROUNDS     1644255\n",
       "Grand Theft Auto V                1019116\n",
       "Tom Clancy's Rainbow Six Siege     841918\n",
       "Terraria                           672815\n",
       "Garry's Mod                        655524\n",
       "Rust                               549074\n",
       "Rocket League                      498565\n",
       "PAYDAY 2                           487747\n",
       "Among Us                           485293\n",
       "The Witcher 3: Wild Hunt           469395\n",
       "Name: app_name, dtype: int64"
      ]
     },
     "execution_count": 14,
     "metadata": {},
     "output_type": "execute_result"
    }
   ],
   "source": [
    "df.groupby('app_name')['app_name'].count().sort_values(ascending=False).head(10)"
   ]
  },
  {
   "cell_type": "code",
   "execution_count": 24,
   "metadata": {},
   "outputs": [
    {
     "data": {
      "text/html": [
       "<div>\n",
       "<style scoped>\n",
       "    .dataframe tbody tr th:only-of-type {\n",
       "        vertical-align: middle;\n",
       "    }\n",
       "\n",
       "    .dataframe tbody tr th {\n",
       "        vertical-align: top;\n",
       "    }\n",
       "\n",
       "    .dataframe thead th {\n",
       "        text-align: right;\n",
       "    }\n",
       "</style>\n",
       "<table border=\"1\" class=\"dataframe\">\n",
       "  <thead>\n",
       "    <tr style=\"text-align: right;\">\n",
       "      <th></th>\n",
       "      <th>app_name</th>\n",
       "      <th>language</th>\n",
       "      <th>review</th>\n",
       "      <th>recommended</th>\n",
       "    </tr>\n",
       "  </thead>\n",
       "  <tbody>\n",
       "    <tr>\n",
       "      <th>12924620</th>\n",
       "      <td>Grand Theft Auto V</td>\n",
       "      <td>english</td>\n",
       "      <td>Super Addictive</td>\n",
       "      <td>True</td>\n",
       "    </tr>\n",
       "    <tr>\n",
       "      <th>13376698</th>\n",
       "      <td>Grand Theft Auto V</td>\n",
       "      <td>english</td>\n",
       "      <td>don't do drugs.\\n\\nEdit: 19 December 2019. I will never play this trash game again.\\n\\nEdit: 1 February 2020. Pls fix GTA Online performance its horrible!</td>\n",
       "      <td>True</td>\n",
       "    </tr>\n",
       "    <tr>\n",
       "      <th>13532931</th>\n",
       "      <td>Grand Theft Auto V</td>\n",
       "      <td>english</td>\n",
       "      <td>My thoughts on this game is it is a very intrect game!!!</td>\n",
       "      <td>True</td>\n",
       "    </tr>\n",
       "    <tr>\n",
       "      <th>13151980</th>\n",
       "      <td>Grand Theft Auto V</td>\n",
       "      <td>english</td>\n",
       "      <td>uh, GOOD GAME</td>\n",
       "      <td>True</td>\n",
       "    </tr>\n",
       "    <tr>\n",
       "      <th>13252377</th>\n",
       "      <td>Grand Theft Auto V</td>\n",
       "      <td>english</td>\n",
       "      <td>It's good.</td>\n",
       "      <td>True</td>\n",
       "    </tr>\n",
       "    <tr>\n",
       "      <th>13085098</th>\n",
       "      <td>Grand Theft Auto V</td>\n",
       "      <td>english</td>\n",
       "      <td>good game\\n</td>\n",
       "      <td>True</td>\n",
       "    </tr>\n",
       "    <tr>\n",
       "      <th>12762861</th>\n",
       "      <td>Grand Theft Auto V</td>\n",
       "      <td>english</td>\n",
       "      <td>op gameee broo</td>\n",
       "      <td>True</td>\n",
       "    </tr>\n",
       "    <tr>\n",
       "      <th>13063443</th>\n",
       "      <td>Grand Theft Auto V</td>\n",
       "      <td>english</td>\n",
       "      <td>Amazing Game</td>\n",
       "      <td>True</td>\n",
       "    </tr>\n",
       "    <tr>\n",
       "      <th>13392331</th>\n",
       "      <td>Grand Theft Auto V</td>\n",
       "      <td>english</td>\n",
       "      <td>It is such a good game</td>\n",
       "      <td>True</td>\n",
       "    </tr>\n",
       "    <tr>\n",
       "      <th>12996944</th>\n",
       "      <td>Grand Theft Auto V</td>\n",
       "      <td>english</td>\n",
       "      <td>PLAYED FIRST ON MY PLAYSTATION AND THEN PC. SURELY A GREAT GAME FOR ANYONE WHO WANTS TO RIDE FAST CAR OF LOS SANTOS OR DO HUNTING ON THE COUNTRY SIDE. EVEN MY NON-GAMER FRIEND ENJOYED FEW MISSIONS LIKE THE JEWEL HEIST AND THE BIG SCORE.\\nSIMPLE MECHANICS AND EASY TO CATCH UP TO THE MAIN STORY. EASILY ONE OF THE GAMES YOU COULD PLAY WHENEVER YOU WANT AT ANYTIME AND STILL MAKES YOU FEEL LIKE YOU CONTROL THE CITY WITH THE DIRECTOR MODE.\\nHOWEVER, STILL TRYING TO DO GTA ONLINE MISSIONS AND HEISTS MATTER OF FACT BUT THE CAMPAIGN MODE IS STILL GOING GREAT.</td>\n",
       "      <td>True</td>\n",
       "    </tr>\n",
       "  </tbody>\n",
       "</table>\n",
       "</div>"
      ],
      "text/plain": [
       "                    app_name language  \\\n",
       "12924620  Grand Theft Auto V  english   \n",
       "13376698  Grand Theft Auto V  english   \n",
       "13532931  Grand Theft Auto V  english   \n",
       "13151980  Grand Theft Auto V  english   \n",
       "13252377  Grand Theft Auto V  english   \n",
       "13085098  Grand Theft Auto V  english   \n",
       "12762861  Grand Theft Auto V  english   \n",
       "13063443  Grand Theft Auto V  english   \n",
       "13392331  Grand Theft Auto V  english   \n",
       "12996944  Grand Theft Auto V  english   \n",
       "\n",
       "                                                                                                                                                                                                                                                                                                                                                                                                                                                                                                                                                                                review  \\\n",
       "12924620                                                                                                                                                                                                                                                                                                                                                                                                                                                                                                                                                               Super Addictive   \n",
       "13376698                                                                                                                                                                                                                                                                                                                                                                                                                    don't do drugs.\\n\\nEdit: 19 December 2019. I will never play this trash game again.\\n\\nEdit: 1 February 2020. Pls fix GTA Online performance its horrible!   \n",
       "13532931                                                                                                                                                                                                                                                                                                                                                                                                                                                                                                                      My thoughts on this game is it is a very intrect game!!!   \n",
       "13151980                                                                                                                                                                                                                                                                                                                                                                                                                                                                                                                                                                 uh, GOOD GAME   \n",
       "13252377                                                                                                                                                                                                                                                                                                                                                                                                                                                                                                                                                                    It's good.   \n",
       "13085098                                                                                                                                                                                                                                                                                                                                                                                                                                                                                                                                                                   good game\\n   \n",
       "12762861                                                                                                                                                                                                                                                                                                                                                                                                                                                                                                                                                                op gameee broo   \n",
       "13063443                                                                                                                                                                                                                                                                                                                                                                                                                                                                                                                                                                  Amazing Game   \n",
       "13392331                                                                                                                                                                                                                                                                                                                                                                                                                                                                                                                                                        It is such a good game   \n",
       "12996944  PLAYED FIRST ON MY PLAYSTATION AND THEN PC. SURELY A GREAT GAME FOR ANYONE WHO WANTS TO RIDE FAST CAR OF LOS SANTOS OR DO HUNTING ON THE COUNTRY SIDE. EVEN MY NON-GAMER FRIEND ENJOYED FEW MISSIONS LIKE THE JEWEL HEIST AND THE BIG SCORE.\\nSIMPLE MECHANICS AND EASY TO CATCH UP TO THE MAIN STORY. EASILY ONE OF THE GAMES YOU COULD PLAY WHENEVER YOU WANT AT ANYTIME AND STILL MAKES YOU FEEL LIKE YOU CONTROL THE CITY WITH THE DIRECTOR MODE.\\nHOWEVER, STILL TRYING TO DO GTA ONLINE MISSIONS AND HEISTS MATTER OF FACT BUT THE CAMPAIGN MODE IS STILL GOING GREAT.   \n",
       "\n",
       "          recommended  \n",
       "12924620         True  \n",
       "13376698         True  \n",
       "13532931         True  \n",
       "13151980         True  \n",
       "13252377         True  \n",
       "13085098         True  \n",
       "12762861         True  \n",
       "13063443         True  \n",
       "13392331         True  \n",
       "12996944         True  "
      ]
     },
     "execution_count": 24,
     "metadata": {},
     "output_type": "execute_result"
    }
   ],
   "source": [
    "gta.sample(10)"
   ]
  },
  {
   "cell_type": "code",
   "execution_count": 22,
   "metadata": {},
   "outputs": [
    {
     "data": {
      "text/html": [
       "<div>\n",
       "<style scoped>\n",
       "    .dataframe tbody tr th:only-of-type {\n",
       "        vertical-align: middle;\n",
       "    }\n",
       "\n",
       "    .dataframe tbody tr th {\n",
       "        vertical-align: top;\n",
       "    }\n",
       "\n",
       "    .dataframe thead th {\n",
       "        text-align: right;\n",
       "    }\n",
       "</style>\n",
       "<table border=\"1\" class=\"dataframe\">\n",
       "  <thead>\n",
       "    <tr style=\"text-align: right;\">\n",
       "      <th></th>\n",
       "      <th>app_name</th>\n",
       "      <th>language</th>\n",
       "      <th>review</th>\n",
       "    </tr>\n",
       "    <tr>\n",
       "      <th>recommended</th>\n",
       "      <th></th>\n",
       "      <th></th>\n",
       "      <th></th>\n",
       "    </tr>\n",
       "  </thead>\n",
       "  <tbody>\n",
       "    <tr>\n",
       "      <th>False</th>\n",
       "      <td>80336</td>\n",
       "      <td>80336</td>\n",
       "      <td>80315</td>\n",
       "    </tr>\n",
       "    <tr>\n",
       "      <th>True</th>\n",
       "      <td>239415</td>\n",
       "      <td>239415</td>\n",
       "      <td>238784</td>\n",
       "    </tr>\n",
       "  </tbody>\n",
       "</table>\n",
       "</div>"
      ],
      "text/plain": [
       "             app_name  language  review\n",
       "recommended                            \n",
       "False           80336     80336   80315\n",
       "True           239415    239415  238784"
      ]
     },
     "execution_count": 22,
     "metadata": {},
     "output_type": "execute_result"
    }
   ],
   "source": [
    "gta.groupby('recommended').count()"
   ]
  },
  {
   "cell_type": "code",
   "execution_count": null,
   "metadata": {},
   "outputs": [],
   "source": []
  }
 ],
 "metadata": {
  "kernelspec": {
   "display_name": "Python 3.9.12 ('base')",
   "language": "python",
   "name": "python3"
  },
  "language_info": {
   "codemirror_mode": {
    "name": "ipython",
    "version": 3
   },
   "file_extension": ".py",
   "mimetype": "text/x-python",
   "name": "python",
   "nbconvert_exporter": "python",
   "pygments_lexer": "ipython3",
   "version": "3.9.12"
  },
  "orig_nbformat": 4,
  "vscode": {
   "interpreter": {
    "hash": "ed343a87219b975df84d5260125e17249ec3c1727fa796fd58ecd90702b8aed1"
   }
  }
 },
 "nbformat": 4,
 "nbformat_minor": 2
}
