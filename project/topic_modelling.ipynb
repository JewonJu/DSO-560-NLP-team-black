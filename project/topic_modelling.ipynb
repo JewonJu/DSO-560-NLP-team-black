{
 "cells": [
  {
   "attachments": {},
   "cell_type": "markdown",
   "metadata": {},
   "source": [
    "## Import Packages "
   ]
  },
  {
   "cell_type": "code",
   "execution_count": 5,
   "metadata": {},
   "outputs": [],
   "source": [
    "import re\n",
    "import numpy as np\n",
    "import pandas as pd\n",
    "from pprint import pprint\n",
    "\n",
    "# Gensim\n",
    "import gensim\n",
    "import gensim.corpora as corpora\n",
    "from gensim.utils import simple_preprocess\n",
    "from gensim.models import CoherenceModel\n",
    "\n",
    "# spacy for lemmatization\n",
    "import spacy\n",
    "\n",
    "# Plotting tools\n",
    "import pyLDAvis\n",
    "import pyLDAvis.gensim_models  # don't skip this\n",
    "import matplotlib.pyplot as plt\n",
    "%matplotlib inline\n",
    "\n",
    "import warnings\n",
    "warnings.filterwarnings(\"ignore\",category=DeprecationWarning)"
   ]
  },
  {
   "attachments": {},
   "cell_type": "markdown",
   "metadata": {},
   "source": [
    "## Import GTA Reviews from Steam "
   ]
  },
  {
   "cell_type": "code",
   "execution_count": 6,
   "metadata": {},
   "outputs": [
    {
     "data": {
      "text/html": [
       "<div>\n",
       "<style scoped>\n",
       "    .dataframe tbody tr th:only-of-type {\n",
       "        vertical-align: middle;\n",
       "    }\n",
       "\n",
       "    .dataframe tbody tr th {\n",
       "        vertical-align: top;\n",
       "    }\n",
       "\n",
       "    .dataframe thead th {\n",
       "        text-align: right;\n",
       "    }\n",
       "</style>\n",
       "<table border=\"1\" class=\"dataframe\">\n",
       "  <thead>\n",
       "    <tr style=\"text-align: right;\">\n",
       "      <th></th>\n",
       "      <th>Unnamed: 0</th>\n",
       "      <th>app_name</th>\n",
       "      <th>language</th>\n",
       "      <th>review</th>\n",
       "      <th>recommended</th>\n",
       "    </tr>\n",
       "  </thead>\n",
       "  <tbody>\n",
       "    <tr>\n",
       "      <th>0</th>\n",
       "      <td>12750210</td>\n",
       "      <td>Grand Theft Auto V</td>\n",
       "      <td>english</td>\n",
       "      <td>It's fun.\\nWish the loading times for Online w...</td>\n",
       "      <td>True</td>\n",
       "    </tr>\n",
       "    <tr>\n",
       "      <th>1</th>\n",
       "      <td>12750213</td>\n",
       "      <td>Grand Theft Auto V</td>\n",
       "      <td>english</td>\n",
       "      <td>hn</td>\n",
       "      <td>True</td>\n",
       "    </tr>\n",
       "    <tr>\n",
       "      <th>2</th>\n",
       "      <td>12750214</td>\n",
       "      <td>Grand Theft Auto V</td>\n",
       "      <td>english</td>\n",
       "      <td>---{Graphics}---\\n☐ You forget what reality is...</td>\n",
       "      <td>True</td>\n",
       "    </tr>\n",
       "    <tr>\n",
       "      <th>3</th>\n",
       "      <td>12750216</td>\n",
       "      <td>Grand Theft Auto V</td>\n",
       "      <td>english</td>\n",
       "      <td>a</td>\n",
       "      <td>True</td>\n",
       "    </tr>\n",
       "    <tr>\n",
       "      <th>4</th>\n",
       "      <td>12750223</td>\n",
       "      <td>Grand Theft Auto V</td>\n",
       "      <td>english</td>\n",
       "      <td>It is one of the best games I’ve played.. Too ...</td>\n",
       "      <td>True</td>\n",
       "    </tr>\n",
       "  </tbody>\n",
       "</table>\n",
       "</div>"
      ],
      "text/plain": [
       "   Unnamed: 0            app_name language  \\\n",
       "0    12750210  Grand Theft Auto V  english   \n",
       "1    12750213  Grand Theft Auto V  english   \n",
       "2    12750214  Grand Theft Auto V  english   \n",
       "3    12750216  Grand Theft Auto V  english   \n",
       "4    12750223  Grand Theft Auto V  english   \n",
       "\n",
       "                                              review  recommended  \n",
       "0  It's fun.\\nWish the loading times for Online w...         True  \n",
       "1                                                 hn         True  \n",
       "2  ---{Graphics}---\\n☐ You forget what reality is...         True  \n",
       "3                                                  a         True  \n",
       "4  It is one of the best games I’ve played.. Too ...         True  "
      ]
     },
     "execution_count": 6,
     "metadata": {},
     "output_type": "execute_result"
    }
   ],
   "source": [
    "df = pd.read_csv('gta_data.csv')\n",
    "df.head()"
   ]
  },
  {
   "attachments": {},
   "cell_type": "markdown",
   "metadata": {},
   "source": [
    "## Data Cleaning and Text Preprocessing"
   ]
  },
  {
   "attachments": {},
   "cell_type": "markdown",
   "metadata": {},
   "source": [
    "**TEXT PRE-PROCESSING**\n",
    "\n",
    "For our business case, we want to look only at reviews concerning Grand Theft Auto 5, that are in English, and that are negative. We will filter out all other reviews that are in our dataset that do not meet these requirements. "
   ]
  },
  {
   "cell_type": "code",
   "execution_count": 7,
   "metadata": {},
   "outputs": [],
   "source": [
    "#drop positive reviews\n",
    "df = df.drop(df[df['recommended'] == True].index)\n",
    "df['cleaned_reviews'] = df['review'].astype(str)\n",
    "df['cleaned_reviews'].astype(str)\n",
    "\n",
    "# Convert to lowercase \n",
    "df['cleaned_reviews'] = df['cleaned_reviews'].map(lambda x: x.lower())\n",
    "\n",
    "# replace common entities/concept \n",
    "from textacy.preprocessing.replace import urls, hashtags, numbers, emails, emojis, currency_symbols\n",
    "df[\"cleaned_reviews\"] = df['cleaned_reviews'].\\\n",
    "  apply(urls).\\\n",
    "  apply(hashtags).\\\n",
    "  apply(numbers).\\\n",
    "  apply(currency_symbols).\\\n",
    "  apply(emojis).\\\n",
    "  apply(emails).\\\n",
    "  apply(numbers)\n",
    "# remove punctuation\n",
    "from textacy.preprocessing.remove import punctuation\n",
    "df[\"cleaned_reviews\"] = df['cleaned_reviews'].apply(punctuation)"
   ]
  },
  {
   "attachments": {},
   "cell_type": "markdown",
   "metadata": {},
   "source": [
    "We downloaded stopwords fromthe NLTK library. Since a lot of the reviews have foul language that doesn't add to our analysis of topic modeling, we will be adding some custom stopwords. "
   ]
  },
  {
   "cell_type": "code",
   "execution_count": 8,
   "metadata": {},
   "outputs": [
    {
     "name": "stdout",
     "output_type": "stream",
     "text": [
      "['i', 'me', 'my', 'myself', 'we', 'our', 'ours', 'ourselves', 'you', \"you're\", \"you've\", \"you'll\", \"you'd\", 'your', 'yours', 'yourself', 'yourselves', 'he', 'him', 'his', 'himself', 'she', \"she's\", 'her', 'hers', 'herself', 'it', \"it's\", 'its', 'itself', 'they', 'them', 'their', 'theirs', 'themselves', 'what', 'which', 'who', 'whom', 'this', 'that', \"that'll\", 'these', 'those', 'am', 'is', 'are', 'was', 'were', 'be', 'been', 'being', 'have', 'has', 'had', 'having', 'do', 'does', 'did', 'doing', 'a', 'an', 'the', 'and', 'but', 'if', 'or', 'because', 'as', 'until', 'while', 'of', 'at', 'by', 'for', 'with', 'about', 'against', 'between', 'into', 'through', 'during', 'before', 'after', 'above', 'below', 'to', 'from', 'up', 'down', 'in', 'out', 'on', 'off', 'over', 'under', 'again', 'further', 'then', 'once', 'here', 'there', 'when', 'where', 'why', 'how', 'all', 'any', 'both', 'each', 'few', 'more', 'most', 'other', 'some', 'such', 'no', 'nor', 'not', 'only', 'own', 'same', 'so', 'than', 'too', 'very', 's', 't', 'can', 'will', 'just', 'don', \"don't\", 'should', \"should've\", 'now', 'd', 'll', 'm', 'o', 're', 've', 'y', 'ain', 'aren', \"aren't\", 'couldn', \"couldn't\", 'didn', \"didn't\", 'doesn', \"doesn't\", 'hadn', \"hadn't\", 'hasn', \"hasn't\", 'haven', \"haven't\", 'isn', \"isn't\", 'ma', 'mightn', \"mightn't\", 'mustn', \"mustn't\", 'needn', \"needn't\", 'shan', \"shan't\", 'shouldn', \"shouldn't\", 'wasn', \"wasn't\", 'weren', \"weren't\", 'won', \"won't\", 'wouldn', \"wouldn't\", 'number', 'shit', 'fucking', 'card', 'way', 'emoji', 'fuck', 'bad', 'ass', 'gay', 'online', 'play', 'two', 'much', 'suck', 'game']\n"
     ]
    }
   ],
   "source": [
    "from nltk.corpus import stopwords\n",
    "stop_words = stopwords.words('english')\n",
    "# Adding custom stopwords to optimize our model \n",
    "new_stopwords = ['number', 'shit', 'fucking', 'card', 'way', 'emoji','fuck', 'bad','ass','gay','online','play','two','much', 'suck', 'game']\n",
    "stop_words.extend(new_stopwords)\n",
    "print(stop_words)"
   ]
  },
  {
   "cell_type": "code",
   "execution_count": 9,
   "metadata": {},
   "outputs": [
    {
     "data": {
      "text/html": [
       "<div>\n",
       "<style scoped>\n",
       "    .dataframe tbody tr th:only-of-type {\n",
       "        vertical-align: middle;\n",
       "    }\n",
       "\n",
       "    .dataframe tbody tr th {\n",
       "        vertical-align: top;\n",
       "    }\n",
       "\n",
       "    .dataframe thead th {\n",
       "        text-align: right;\n",
       "    }\n",
       "</style>\n",
       "<table border=\"1\" class=\"dataframe\">\n",
       "  <thead>\n",
       "    <tr style=\"text-align: right;\">\n",
       "      <th></th>\n",
       "      <th>Unnamed: 0</th>\n",
       "      <th>app_name</th>\n",
       "      <th>language</th>\n",
       "      <th>review</th>\n",
       "      <th>recommended</th>\n",
       "      <th>cleaned_reviews</th>\n",
       "    </tr>\n",
       "  </thead>\n",
       "  <tbody>\n",
       "    <tr>\n",
       "      <th>229184</th>\n",
       "      <td>13534382</td>\n",
       "      <td>Grand Theft Auto V</td>\n",
       "      <td>english</td>\n",
       "      <td>Game was pretty good long ago before they deci...</td>\n",
       "      <td>False</td>\n",
       "      <td>game was pretty good long ago before they deci...</td>\n",
       "    </tr>\n",
       "    <tr>\n",
       "      <th>239028</th>\n",
       "      <td>13547362</td>\n",
       "      <td>Grand Theft Auto V</td>\n",
       "      <td>english</td>\n",
       "      <td>Fuck you Take Two Interactive. I can't play as...</td>\n",
       "      <td>False</td>\n",
       "      <td>fuck you take two interactive  i can t play as...</td>\n",
       "    </tr>\n",
       "    <tr>\n",
       "      <th>277287</th>\n",
       "      <td>13657568</td>\n",
       "      <td>Grand Theft Auto V</td>\n",
       "      <td>english</td>\n",
       "      <td>the servres of the game are very poor, when u ...</td>\n",
       "      <td>False</td>\n",
       "      <td>the servres of the game are very poor  when u ...</td>\n",
       "    </tr>\n",
       "    <tr>\n",
       "      <th>189388</th>\n",
       "      <td>13414475</td>\n",
       "      <td>Grand Theft Auto V</td>\n",
       "      <td>english</td>\n",
       "      <td>ich habe einen ban for nothing fucking rokstar...</td>\n",
       "      <td>False</td>\n",
       "      <td>ich habe einen ban for nothing fucking rokstar...</td>\n",
       "    </tr>\n",
       "    <tr>\n",
       "      <th>230374</th>\n",
       "      <td>13536157</td>\n",
       "      <td>Grand Theft Auto V</td>\n",
       "      <td>english</td>\n",
       "      <td>Fuck you Take 2, shit that even rhymed, well y...</td>\n",
       "      <td>False</td>\n",
       "      <td>fuck you take  NUMBER   shit that even rhymed ...</td>\n",
       "    </tr>\n",
       "    <tr>\n",
       "      <th>244614</th>\n",
       "      <td>13553443</td>\n",
       "      <td>Grand Theft Auto V</td>\n",
       "      <td>english</td>\n",
       "      <td>Just here to grab a slice of that delicious ou...</td>\n",
       "      <td>False</td>\n",
       "      <td>just here to grab a slice of that delicious ou...</td>\n",
       "    </tr>\n",
       "    <tr>\n",
       "      <th>218669</th>\n",
       "      <td>13518736</td>\n",
       "      <td>Grand Theft Auto V</td>\n",
       "      <td>english</td>\n",
       "      <td>Fix it</td>\n",
       "      <td>False</td>\n",
       "      <td>fix it</td>\n",
       "    </tr>\n",
       "    <tr>\n",
       "      <th>62121</th>\n",
       "      <td>12952998</td>\n",
       "      <td>Grand Theft Auto V</td>\n",
       "      <td>english</td>\n",
       "      <td>shits fucking broken cant change any settings</td>\n",
       "      <td>False</td>\n",
       "      <td>shits fucking broken cant change any settings</td>\n",
       "    </tr>\n",
       "    <tr>\n",
       "      <th>285132</th>\n",
       "      <td>13682839</td>\n",
       "      <td>Grand Theft Auto V</td>\n",
       "      <td>english</td>\n",
       "      <td>Greed Killed this game. Cheaters/Moders are on...</td>\n",
       "      <td>False</td>\n",
       "      <td>greed killed this game  cheaters moders are on...</td>\n",
       "    </tr>\n",
       "    <tr>\n",
       "      <th>241854</th>\n",
       "      <td>13550483</td>\n",
       "      <td>Grand Theft Auto V</td>\n",
       "      <td>english</td>\n",
       "      <td>2K hates modders.  That's ok.  PC gamers hate ...</td>\n",
       "      <td>False</td>\n",
       "      <td>2k hates modders   that s ok   pc gamers hate ...</td>\n",
       "    </tr>\n",
       "  </tbody>\n",
       "</table>\n",
       "</div>"
      ],
      "text/plain": [
       "        Unnamed: 0            app_name language  \\\n",
       "229184    13534382  Grand Theft Auto V  english   \n",
       "239028    13547362  Grand Theft Auto V  english   \n",
       "277287    13657568  Grand Theft Auto V  english   \n",
       "189388    13414475  Grand Theft Auto V  english   \n",
       "230374    13536157  Grand Theft Auto V  english   \n",
       "244614    13553443  Grand Theft Auto V  english   \n",
       "218669    13518736  Grand Theft Auto V  english   \n",
       "62121     12952998  Grand Theft Auto V  english   \n",
       "285132    13682839  Grand Theft Auto V  english   \n",
       "241854    13550483  Grand Theft Auto V  english   \n",
       "\n",
       "                                                   review  recommended  \\\n",
       "229184  Game was pretty good long ago before they deci...        False   \n",
       "239028  Fuck you Take Two Interactive. I can't play as...        False   \n",
       "277287  the servres of the game are very poor, when u ...        False   \n",
       "189388  ich habe einen ban for nothing fucking rokstar...        False   \n",
       "230374  Fuck you Take 2, shit that even rhymed, well y...        False   \n",
       "244614  Just here to grab a slice of that delicious ou...        False   \n",
       "218669                                             Fix it        False   \n",
       "62121       shits fucking broken cant change any settings        False   \n",
       "285132  Greed Killed this game. Cheaters/Moders are on...        False   \n",
       "241854  2K hates modders.  That's ok.  PC gamers hate ...        False   \n",
       "\n",
       "                                          cleaned_reviews  \n",
       "229184  game was pretty good long ago before they deci...  \n",
       "239028  fuck you take two interactive  i can t play as...  \n",
       "277287  the servres of the game are very poor  when u ...  \n",
       "189388  ich habe einen ban for nothing fucking rokstar...  \n",
       "230374  fuck you take  NUMBER   shit that even rhymed ...  \n",
       "244614  just here to grab a slice of that delicious ou...  \n",
       "218669                                             fix it  \n",
       "62121       shits fucking broken cant change any settings  \n",
       "285132  greed killed this game  cheaters moders are on...  \n",
       "241854  2k hates modders   that s ok   pc gamers hate ...  "
      ]
     },
     "execution_count": 9,
     "metadata": {},
     "output_type": "execute_result"
    }
   ],
   "source": [
    "df.sample(10)"
   ]
  },
  {
   "attachments": {},
   "cell_type": "markdown",
   "metadata": {},
   "source": [
    "We tokenized each sentence into a list of words while removing punctuation and unnecesary characters. We used Gensim's `simple_preprocees` to do this. "
   ]
  },
  {
   "cell_type": "code",
   "execution_count": 10,
   "metadata": {},
   "outputs": [
    {
     "name": "stdout",
     "output_type": "stream",
     "text": [
      "[['hackers', 'in', 'every', 'lobby']]\n"
     ]
    }
   ],
   "source": [
    "data = df.cleaned_reviews.values.tolist()\n",
    "\n",
    "# Tokenize each sentence into a list of words \n",
    "def sent_to_words(sentences):\n",
    "    for sentence in sentences:\n",
    "        yield(gensim.utils.simple_preprocess(str(sentence), deacc=True))  # deacc=True removes punctuations\n",
    "\n",
    "data_words = list(sent_to_words(data))\n",
    "print(data_words[:1])"
   ]
  },
  {
   "attachments": {},
   "cell_type": "markdown",
   "metadata": {},
   "source": [
    "We used bigram and trigram models using Gensim's `Phrases` method to find two word pairs or three word groups that appear frequently in our corpus. This will help us isolate the key topics from our messey and sparse review data. "
   ]
  },
  {
   "cell_type": "code",
   "execution_count": 11,
   "metadata": {},
   "outputs": [
    {
     "name": "stdout",
     "output_type": "stream",
     "text": [
      "['hackers', 'in', 'every', 'lobby']\n"
     ]
    }
   ],
   "source": [
    "# Build the bigram and trigram models\n",
    "bigram = gensim.models.Phrases(data_words, min_count=5, threshold=100) # higher threshold fewer phrases.\n",
    "trigram = gensim.models.Phrases(bigram[data_words], threshold=100)  \n",
    "\n",
    "# Faster way to get a sentence clubbed as a trigram/bigram\n",
    "bigram_mod = gensim.models.phrases.Phraser(bigram)\n",
    "trigram_mod = gensim.models.phrases.Phraser(trigram)\n",
    "\n",
    "# See trigram example\n",
    "print(trigram_mod[bigram_mod[data_words[0]]])"
   ]
  },
  {
   "attachments": {},
   "cell_type": "markdown",
   "metadata": {},
   "source": [
    "Here, we remoce stopwords we defined previously, make bigrams and trigrams using the model we defined above, and perform lemmatization using `spacy`. "
   ]
  },
  {
   "cell_type": "code",
   "execution_count": 12,
   "metadata": {},
   "outputs": [],
   "source": [
    "# Define functions for stopwords, bigrams, trigrams and lemmatization\n",
    "def remove_stopwords(texts):\n",
    "    return [[word for word in simple_preprocess(str(doc)) if word not in stop_words] for doc in texts]\n",
    "\n",
    "def make_bigrams(texts):\n",
    "    return [bigram_mod[doc] for doc in texts]\n",
    "\n",
    "def make_trigrams(texts):\n",
    "    return [trigram_mod[bigram_mod[doc]] for doc in texts]\n",
    "\n",
    "def lemmatization(texts, allowed_postags=['NOUN', 'ADJ', 'VERB', 'ADV']):\n",
    "    \"\"\"https://spacy.io/api/annotation\"\"\"\n",
    "    texts_out = []\n",
    "    for sent in texts:\n",
    "        doc = nlp(\" \".join(sent)) \n",
    "        texts_out.append([token.lemma_ for token in doc if token.pos_ in allowed_postags])\n",
    "    return texts_out"
   ]
  },
  {
   "cell_type": "code",
   "execution_count": 13,
   "metadata": {},
   "outputs": [
    {
     "name": "stderr",
     "output_type": "stream",
     "text": [
      "/Users/jewonju/opt/anaconda3/lib/python3.9/site-packages/spacy/language.py:1895: UserWarning: [W123] Argument disable with value ['parser', 'ner'] is used instead of ['senter'] as specified in the config. Be aware that this might affect other components in your pipeline.\n",
      "  warnings.warn(\n"
     ]
    },
    {
     "name": "stdout",
     "output_type": "stream",
     "text": [
      "[['hacker', 'lobby']]\n"
     ]
    }
   ],
   "source": [
    "# Remove Stop Words\n",
    "data_words_nostops = remove_stopwords(data_words)\n",
    "\n",
    "# Form Bigrams\n",
    "data_words_bigrams = make_bigrams(data_words_nostops)\n",
    "\n",
    "# Initialize spacy 'en' model, keeping only tagger component (for efficiency)\n",
    "# python3 -m spacy download en\n",
    "nlp = spacy.load(\"en_core_web_md\", disable=['parser', 'ner'])\n",
    "\n",
    "# Do lemmatization keeping only noun, adj, vb, adv\n",
    "data_lemmatized = lemmatization(data_words_bigrams, allowed_postags=['NOUN', 'ADJ', 'VERB', 'ADV'])\n",
    "\n",
    "print(data_lemmatized[:1])"
   ]
  },
  {
   "attachments": {},
   "cell_type": "markdown",
   "metadata": {},
   "source": [
    "## LDA Model"
   ]
  },
  {
   "cell_type": "code",
   "execution_count": 14,
   "metadata": {},
   "outputs": [
    {
     "name": "stdout",
     "output_type": "stream",
     "text": [
      "[[(0, 1), (1, 1)]]\n"
     ]
    }
   ],
   "source": [
    "# Create Dictionary\n",
    "id2word = corpora.Dictionary(data_lemmatized)\n",
    "\n",
    "# Create Corpus\n",
    "texts = data_lemmatized\n",
    "\n",
    "# Term Document Frequency\n",
    "corpus = [id2word.doc2bow(text) for text in texts]\n",
    "\n",
    "# View\n",
    "print(corpus[:1])"
   ]
  },
  {
   "cell_type": "code",
   "execution_count": 15,
   "metadata": {},
   "outputs": [],
   "source": [
    "# Build LDA model with 20 topics to begin with \n",
    "lda_model = gensim.models.ldamodel.LdaModel(corpus=corpus,\n",
    "                                           id2word=id2word,\n",
    "                                           num_topics=20, \n",
    "                                           random_state=100,\n",
    "                                           update_every=1,\n",
    "                                           chunksize=100,\n",
    "                                           passes=10,\n",
    "                                           alpha='auto',\n",
    "                                           per_word_topics=True)"
   ]
  },
  {
   "cell_type": "code",
   "execution_count": 16,
   "metadata": {},
   "outputs": [
    {
     "name": "stderr",
     "output_type": "stream",
     "text": [
      "/Users/jewonju/opt/anaconda3/lib/python3.9/site-packages/pyLDAvis/_prepare.py:246: FutureWarning: In a future version of pandas all arguments of DataFrame.drop except for the argument 'labels' will be keyword-only.\n",
      "  default_term_info = default_term_info.sort_values(\n",
      "/Users/jewonju/opt/anaconda3/lib/python3.9/site-packages/past/builtins/misc.py:45: DeprecationWarning: the imp module is deprecated in favour of importlib; see the module's documentation for alternative uses\n",
      "  from imp import reload\n",
      "/Users/jewonju/opt/anaconda3/lib/python3.9/site-packages/past/builtins/misc.py:45: DeprecationWarning: the imp module is deprecated in favour of importlib; see the module's documentation for alternative uses\n",
      "  from imp import reload\n",
      "/Users/jewonju/opt/anaconda3/lib/python3.9/site-packages/past/builtins/misc.py:45: DeprecationWarning: the imp module is deprecated in favour of importlib; see the module's documentation for alternative uses\n",
      "  from imp import reload\n",
      "/Users/jewonju/opt/anaconda3/lib/python3.9/site-packages/past/builtins/misc.py:45: DeprecationWarning: the imp module is deprecated in favour of importlib; see the module's documentation for alternative uses\n",
      "  from imp import reload\n",
      "/Users/jewonju/opt/anaconda3/lib/python3.9/site-packages/past/builtins/misc.py:45: DeprecationWarning: the imp module is deprecated in favour of importlib; see the module's documentation for alternative uses\n",
      "  from imp import reload\n",
      "/Users/jewonju/opt/anaconda3/lib/python3.9/site-packages/past/builtins/misc.py:45: DeprecationWarning: the imp module is deprecated in favour of importlib; see the module's documentation for alternative uses\n",
      "  from imp import reload\n",
      "/Users/jewonju/opt/anaconda3/lib/python3.9/site-packages/past/builtins/misc.py:45: DeprecationWarning: the imp module is deprecated in favour of importlib; see the module's documentation for alternative uses\n",
      "  from imp import reload\n",
      "/Users/jewonju/opt/anaconda3/lib/python3.9/site-packages/past/builtins/misc.py:45: DeprecationWarning: the imp module is deprecated in favour of importlib; see the module's documentation for alternative uses\n",
      "  from imp import reload\n",
      "/Users/jewonju/opt/anaconda3/lib/python3.9/site-packages/past/builtins/misc.py:45: DeprecationWarning: the imp module is deprecated in favour of importlib; see the module's documentation for alternative uses\n",
      "  from imp import reload\n",
      "/Users/jewonju/opt/anaconda3/lib/python3.9/site-packages/joblib/backports.py:36: DeprecationWarning: distutils Version classes are deprecated. Use packaging.version instead.\n",
      "  if LooseVersion(np.__version__) < '1.13':\n",
      "/Users/jewonju/opt/anaconda3/lib/python3.9/site-packages/joblib/backports.py:36: DeprecationWarning: distutils Version classes are deprecated. Use packaging.version instead.\n",
      "  if LooseVersion(np.__version__) < '1.13':\n",
      "/Users/jewonju/opt/anaconda3/lib/python3.9/site-packages/joblib/backports.py:36: DeprecationWarning: distutils Version classes are deprecated. Use packaging.version instead.\n",
      "  if LooseVersion(np.__version__) < '1.13':\n",
      "/Users/jewonju/opt/anaconda3/lib/python3.9/site-packages/setuptools/_distutils/version.py:351: DeprecationWarning: distutils Version classes are deprecated. Use packaging.version instead.\n",
      "  other = LooseVersion(other)\n",
      "/Users/jewonju/opt/anaconda3/lib/python3.9/site-packages/setuptools/_distutils/version.py:351: DeprecationWarning: distutils Version classes are deprecated. Use packaging.version instead.\n",
      "  other = LooseVersion(other)\n",
      "/Users/jewonju/opt/anaconda3/lib/python3.9/site-packages/setuptools/_distutils/version.py:351: DeprecationWarning: distutils Version classes are deprecated. Use packaging.version instead.\n",
      "  other = LooseVersion(other)\n",
      "/Users/jewonju/opt/anaconda3/lib/python3.9/site-packages/joblib/backports.py:36: DeprecationWarning: distutils Version classes are deprecated. Use packaging.version instead.\n",
      "  if LooseVersion(np.__version__) < '1.13':\n",
      "/Users/jewonju/opt/anaconda3/lib/python3.9/site-packages/joblib/backports.py:36: DeprecationWarning: distutils Version classes are deprecated. Use packaging.version instead.\n",
      "  if LooseVersion(np.__version__) < '1.13':\n",
      "/Users/jewonju/opt/anaconda3/lib/python3.9/site-packages/setuptools/_distutils/version.py:351: DeprecationWarning: distutils Version classes are deprecated. Use packaging.version instead.\n",
      "  other = LooseVersion(other)\n",
      "/Users/jewonju/opt/anaconda3/lib/python3.9/site-packages/setuptools/_distutils/version.py:351: DeprecationWarning: distutils Version classes are deprecated. Use packaging.version instead.\n",
      "  other = LooseVersion(other)\n",
      "/Users/jewonju/opt/anaconda3/lib/python3.9/site-packages/joblib/backports.py:36: DeprecationWarning: distutils Version classes are deprecated. Use packaging.version instead.\n",
      "  if LooseVersion(np.__version__) < '1.13':\n",
      "/Users/jewonju/opt/anaconda3/lib/python3.9/site-packages/setuptools/_distutils/version.py:351: DeprecationWarning: distutils Version classes are deprecated. Use packaging.version instead.\n",
      "  other = LooseVersion(other)\n",
      "/Users/jewonju/opt/anaconda3/lib/python3.9/site-packages/joblib/backports.py:36: DeprecationWarning: distutils Version classes are deprecated. Use packaging.version instead.\n",
      "  if LooseVersion(np.__version__) < '1.13':\n",
      "/Users/jewonju/opt/anaconda3/lib/python3.9/site-packages/setuptools/_distutils/version.py:351: DeprecationWarning: distutils Version classes are deprecated. Use packaging.version instead.\n",
      "  other = LooseVersion(other)\n",
      "/Users/jewonju/opt/anaconda3/lib/python3.9/site-packages/joblib/backports.py:36: DeprecationWarning: distutils Version classes are deprecated. Use packaging.version instead.\n",
      "  if LooseVersion(np.__version__) < '1.13':\n",
      "/Users/jewonju/opt/anaconda3/lib/python3.9/site-packages/setuptools/_distutils/version.py:351: DeprecationWarning: distutils Version classes are deprecated. Use packaging.version instead.\n",
      "  other = LooseVersion(other)\n",
      "/Users/jewonju/opt/anaconda3/lib/python3.9/site-packages/joblib/backports.py:36: DeprecationWarning: distutils Version classes are deprecated. Use packaging.version instead.\n",
      "  if LooseVersion(np.__version__) < '1.13':\n",
      "/Users/jewonju/opt/anaconda3/lib/python3.9/site-packages/setuptools/_distutils/version.py:351: DeprecationWarning: distutils Version classes are deprecated. Use packaging.version instead.\n",
      "  other = LooseVersion(other)\n",
      "/Users/jewonju/opt/anaconda3/lib/python3.9/site-packages/joblib/backports.py:36: DeprecationWarning: distutils Version classes are deprecated. Use packaging.version instead.\n",
      "  if LooseVersion(np.__version__) < '1.13':\n",
      "/Users/jewonju/opt/anaconda3/lib/python3.9/site-packages/setuptools/_distutils/version.py:351: DeprecationWarning: distutils Version classes are deprecated. Use packaging.version instead.\n",
      "  other = LooseVersion(other)\n",
      "/Users/jewonju/opt/anaconda3/lib/python3.9/site-packages/joblib/backports.py:36: DeprecationWarning: distutils Version classes are deprecated. Use packaging.version instead.\n",
      "  if LooseVersion(np.__version__) < '1.13':\n",
      "/Users/jewonju/opt/anaconda3/lib/python3.9/site-packages/setuptools/_distutils/version.py:351: DeprecationWarning: distutils Version classes are deprecated. Use packaging.version instead.\n",
      "  other = LooseVersion(other)\n",
      "/Users/jewonju/opt/anaconda3/lib/python3.9/site-packages/joblib/backports.py:36: DeprecationWarning: distutils Version classes are deprecated. Use packaging.version instead.\n",
      "  if LooseVersion(np.__version__) < '1.13':\n",
      "/Users/jewonju/opt/anaconda3/lib/python3.9/site-packages/setuptools/_distutils/version.py:351: DeprecationWarning: distutils Version classes are deprecated. Use packaging.version instead.\n",
      "  other = LooseVersion(other)\n",
      "/Users/jewonju/opt/anaconda3/lib/python3.9/site-packages/joblib/backports.py:36: DeprecationWarning: distutils Version classes are deprecated. Use packaging.version instead.\n",
      "  if LooseVersion(np.__version__) < '1.13':\n",
      "/Users/jewonju/opt/anaconda3/lib/python3.9/site-packages/setuptools/_distutils/version.py:351: DeprecationWarning: distutils Version classes are deprecated. Use packaging.version instead.\n",
      "  other = LooseVersion(other)\n",
      "/Users/jewonju/opt/anaconda3/lib/python3.9/site-packages/joblib/backports.py:36: DeprecationWarning: distutils Version classes are deprecated. Use packaging.version instead.\n",
      "  if LooseVersion(np.__version__) < '1.13':\n",
      "/Users/jewonju/opt/anaconda3/lib/python3.9/site-packages/setuptools/_distutils/version.py:351: DeprecationWarning: distutils Version classes are deprecated. Use packaging.version instead.\n",
      "  other = LooseVersion(other)\n",
      "/Users/jewonju/opt/anaconda3/lib/python3.9/site-packages/joblib/backports.py:36: DeprecationWarning: distutils Version classes are deprecated. Use packaging.version instead.\n",
      "  if LooseVersion(np.__version__) < '1.13':\n",
      "/Users/jewonju/opt/anaconda3/lib/python3.9/site-packages/setuptools/_distutils/version.py:351: DeprecationWarning: distutils Version classes are deprecated. Use packaging.version instead.\n",
      "  other = LooseVersion(other)\n",
      "/Users/jewonju/opt/anaconda3/lib/python3.9/site-packages/joblib/backports.py:36: DeprecationWarning: distutils Version classes are deprecated. Use packaging.version instead.\n",
      "  if LooseVersion(np.__version__) < '1.13':\n",
      "/Users/jewonju/opt/anaconda3/lib/python3.9/site-packages/setuptools/_distutils/version.py:351: DeprecationWarning: distutils Version classes are deprecated. Use packaging.version instead.\n",
      "  other = LooseVersion(other)\n",
      "/Users/jewonju/opt/anaconda3/lib/python3.9/site-packages/joblib/backports.py:36: DeprecationWarning: distutils Version classes are deprecated. Use packaging.version instead.\n",
      "  if LooseVersion(np.__version__) < '1.13':\n",
      "/Users/jewonju/opt/anaconda3/lib/python3.9/site-packages/setuptools/_distutils/version.py:351: DeprecationWarning: distutils Version classes are deprecated. Use packaging.version instead.\n",
      "  other = LooseVersion(other)\n",
      "/Users/jewonju/opt/anaconda3/lib/python3.9/site-packages/joblib/backports.py:36: DeprecationWarning: distutils Version classes are deprecated. Use packaging.version instead.\n",
      "  if LooseVersion(np.__version__) < '1.13':\n",
      "/Users/jewonju/opt/anaconda3/lib/python3.9/site-packages/setuptools/_distutils/version.py:351: DeprecationWarning: distutils Version classes are deprecated. Use packaging.version instead.\n",
      "  other = LooseVersion(other)\n"
     ]
    },
    {
     "data": {
      "text/html": [
       "\n",
       "<link rel=\"stylesheet\" type=\"text/css\" href=\"https://cdn.jsdelivr.net/gh/bmabey/pyLDAvis@3.3.1/pyLDAvis/js/ldavis.v1.0.0.css\">\n",
       "\n",
       "\n",
       "<div id=\"ldavis_el76370122219103683776094815\"></div>\n",
       "<script type=\"text/javascript\">\n",
       "\n",
       "var ldavis_el76370122219103683776094815_data = {\"mdsDat\": {\"x\": [-0.29164623596889444, -0.29044202474500197, -0.1612057233325984, -0.08316699203188417, -0.036702738046932935, -0.044615362526525634, -0.005488685382363183, -0.016367126573832304, 0.004267769202896942, 0.03075874718873135, -0.016795725794683986, 0.09539564942243593, 0.055316679479388946, 0.08773354357651127, 0.07082904096837546, 0.04235459796036194, 0.05379807222499228, 0.1529060101140996, 0.13497818331932485, 0.21809232094559952], \"y\": [-0.20250133347262086, -0.1955852747424563, 0.33773983402615393, 0.1328905721688142, 0.06413613542444763, 0.07335744228152784, 0.029359976009317126, 0.04106858821537651, 0.020212900314301972, -0.0016862647144473442, 0.04113876548350451, -0.041549435028413705, -0.01915946661639446, -0.03759506389004429, -0.028375832771687398, -0.009832877601553392, -0.01760448066615783, -0.06406502127715996, -0.05819470316052615, -0.06375445998198136], \"topics\": [1, 2, 3, 4, 5, 6, 7, 8, 9, 10, 11, 12, 13, 14, 15, 16, 17, 18, 19, 20], \"cluster\": [1, 1, 1, 1, 1, 1, 1, 1, 1, 1, 1, 1, 1, 1, 1, 1, 1, 1, 1, 1], \"Freq\": [31.405393787541747, 27.13671997394991, 8.409903213185236, 4.297669708202115, 3.607744327215512, 3.4007395786104406, 2.415657606827345, 2.3346135927769107, 2.090695226788512, 2.0619092704969217, 2.0252062103005364, 1.846882350355934, 1.7679319379375231, 1.6237311953913942, 1.2374997821983786, 1.1377950116078748, 1.0763046808407954, 1.0750783267372956, 1.0396811126906491, 0.008843106344966791]}, \"tinfo\": {\"Term\": [\"mod\", \"ban\", \"get\", \"rockstar\", \"modde\", \"crash\", \"loading\", \"still\", \"fix\", \"hacker\", \"support\", \"say\", \"work\", \"play\", \"mode\", \"buy\", \"player\", \"wait\", \"community\", \"story\", \"take\", \"reason\", \"screen\", \"money\", \"time\", \"friend\", \"make\", \"pay\", \"many\", \"hour\", \"get\", \"money\", \"time\", \"make\", \"good\", \"want\", \"fun\", \"well\", \"really\", \"thing\", \"mission\", \"run\", \"car\", \"start\", \"update\", \"new\", \"also\", \"long\", \"heist\", \"lot\", \"spend\", \"worth\", \"character\", \"feel\", \"grind\", \"able\", \"actually\", \"point\", \"sale\", \"enjoy\", \"find\", \"even\", \"think\", \"rockstar\", \"player\", \"take\", \"go\", \"single\", \"try\", \"great\", \"issue\", \"problem\", \"game\", \"review\", \"recommend\", \"know\", \"release\", \"kill\", \"modder\", \"experience\", \"keep\", \"ruin\", \"session\", \"let\", \"system\", \"lobby\", \"already\", \"seem\", \"join\", \"happen\", \"care\", \"company\", \"month\", \"buy\", \"people\", \"use\", \"give\", \"even\", \"work\", \"play\", \"hour\", \"day\", \"first\", \"see\", \"never\", \"come\", \"ever\", \"need\", \"back\", \"leave\", \"guy\", \"however\", \"last\", \"lose\", \"person\", \"anymore\", \"life\", \"maybe\", \"simply\", \"later\", \"place\", \"screw\", \"feature\", \"video\", \"bring\", \"couple\", \"close\", \"multiple\", \"still\", \"multiplayer\", \"year\", \"server\", \"look\", \"account\", \"bad\", \"always\", \"wrong\", \"old\", \"level\", \"connection\", \"internet\", \"idea\", \"push\", \"fantastic\", \"sign\", \"interesting\", \"build\", \"sorry\", \"endless\", \"grab\", \"cheap\", \"technical\", \"official\", \"billion\", \"concept\", \"corner\", \"text\", \"dear\", \"ban\", \"support\", \"waste\", \"help\", \"open\", \"shark\", \"greedy\", \"buying\", \"sad\", \"provide\", \"type\", \"everytime\", \"delete\", \"sadly\", \"previous\", \"platform\", \"appeal\", \"enable\", \"cash_grab\", \"lol\", \"false\", \"playstation\", \"d\", \"pos\", \"pc\", \"testicle\", \"ticket\", \"refund\", \"section\", \"change\", \"auto\", \"edit\", \"drive\", \"say\", \"friend\", \"put\", \"stuff\", \"race\", \"next\", \"horrible\", \"other\", \"sometimes\", \"like\", \"attempt\", \"menu\", \"title\", \"simple\", \"manage\", \"understand\", \"constant\", \"bunch\", \"joke\", \"though\", \"garage\", \"perfect\", \"properly\", \"group\", \"ai\", \"potential\", \"stable\", \"disappoint\", \"power\", \"script\", \"singleplayer\", \"graphic\", \"patch\", \"gameplay\", \"week\", \"amazing\", \"free\", \"suck\", \"avoid\", \"together\", \"decent\", \"ridiculous\", \"disconnect\", \"state\", \"handle\", \"private\", \"super\", \"true\", \"music\", \"essentially\", \"mid\", \"epic\", \"boy\", \"grinding\", \"replay\", \"replayability\", \"dedicate\", \"difficulty\", \"stupidly\", \"toxicity\", \"hacker\", \"many\", \"launch\", \"version\", \"error\", \"launcher\", \"offline\", \"damn\", \"restart\", \"milk\", \"host\", \"teleport\", \"suddenly\", \"alt\", \"advise\", \"cage\", \"scratch\", \"cow\", \"delay\", \"social_club\", \"driver\", \"disable\", \"response\", \"fail\", \"window\", \"user\", \"stopped_worke\", \"pre_ordere\", \"none\", \"code\", \"pc\", \"different\", \"change\", \"edit\", \"auto\", \"refund\", \"probably\", \"job\", \"drive\", \"real\", \"pay\", \"steam\", \"right\", \"m\", \"computer\", \"win\", \"bullshit\", \"order\", \"mouse\", \"spec\", \"stick\", \"install\", \"keyboard\", \"suggest\", \"alone\", \"program\", \"extra\", \"star\", \"incredible\", \"retard\", \"willing\", \"verify\", \"slowly\", \"gaming_industry\", \"annoyed\", \"resort\", \"refund\", \"social_club\", \"link\", \"option\", \"pc\", \"setting\", \"drive\", \"change\", \"mode\", \"story\", \"download\", \"sell\", \"save\", \"hate\", \"stay\", \"awful\", \"buggy\", \"finish\", \"useless\", \"gta\", \"interest\", \"terribly\", \"flying_bike\", \"pump\", \"obsolete\", \"cargo\", \"cop\", \"suspension\", \"boring\", \"cat\", \"windowed\", \"file\", \"slow\", \"warehouse\", \"thishity\", \"rob\", \"crate\", \"san_andreas\", \"expensive\", \"dlc\", \"real\", \"drive\", \"random\", \"fail\", \"move\", \"probably\", \"pc\", \"different\", \"edit\", \"change\", \"job\", \"refund\", \"auto\", \"hope\", \"sure\", \"setting\", \"fix\", \"bug\", \"break\", \"high\", \"port\", \"nice\", \"lag\", \"simulator\", \"connect\", \"everywhere\", \"annoying\", \"quit\", \"design\", \"mechanic\", \"rate\", \"quickly\", \"social\", \"website\", \"dick\", \"pvp\", \"casino\", \"pure\", \"credit\", \"survive\", \"ridiculously\", \"limitation\", \"setting\", \"fps\", \"delay\", \"invite\", \"job\", \"drive\", \"pc\", \"change\", \"edit\", \"modde\", \"community\", \"due\", \"fuck\", \"plan\", \"toxic\", \"annoy\", \"reset\", \"playtime\", \"unbalanced\", \"endlessly\", \"plot\", \"pc\", \"change\", \"tool\", \"edit\", \"interactive\", \"developer\", \"destroy\", \"publisher\", \"taketwo\", \"openiv\", \"illegal\", \"desist\", \"gamer\", \"gaming\", \"user\", \"positive\", \"recent\", \"future\", \"auto\", \"refund\", \"real\", \"setting\", \"job\", \"drive\", \"hope\", \"sure\", \"dollar\", \"else\", \"expect\", \"full\", \"decide\", \"terrible\", \"unplayable\", \"remove\", \"garbage\", \"shoot\", \"glitch\", \"randomly\", \"trash\", \"line\", \"absolute\", \"stuck\", \"passive\", \"ready\", \"lie\", \"btw\", \"freemode\", \"eternity\", \"testicle\", \"section\", \"cuff\", \"weight\", \"scrotum\", \"man\", \"ball\", \"sexual\", \"skill\", \"device\", \"micro_transaction\", \"developer\", \"delay\", \"pc\", \"drive\", \"hope\", \"else\", \"change\", \"setting\", \"refund\", \"edit\", \"job\", \"real\", \"mod\", \"thank\", \"thumb\", \"case\", \"truly\", \"cut\", \"function\", \"therefore\", \"be\", \"pc\", \"avoid_avoid\", \"change\", \"edit\", \"rip\", \"openiv\", \"interactive\", \"developer\", \"publisher\", \"dlc\", \"cease\", \"gamer\", \"eula\", \"auto\", \"sp\", \"shut\", \"shady\", \"gaming\", \"desist\", \"tool\", \"consumer\", \"guess\", \"hope\", \"real\", \"gtav\", \"refund\", \"grand_theft\", \"user\", \"job\", \"probably\", \"dollar\", \"sure\", \"setting\", \"drive\", \"expect\", \"move\", \"little\", \"social_club\", \"crash\", \"cheater\", \"cheat\", \"control\", \"playable\", \"devs\", \"boot\", \"disappointed\", \"balance\", \"re\", \"bully\", \"driver\", \"cheating\", \"desktop\", \"roughly\", \"frame\", \"suspension\", \"detection\", \"safe\", \"solution\", \"software\", \"block\", \"thread\", \"compound\", \"startup\", \"serious\", \"graphic_setting\", \"focused\", \"prime\", \"harm\", \"upset\", \"helicopter\", \"controller\", \"fps\", \"set\", \"window\", \"setting\", \"different\", \"random\", \"drive\", \"pc\", \"user\", \"instal\", \"sure\", \"hope\", \"change\", \"edit\", \"second\", \"file\", \"else\", \"refund\", \"little\", \"real\", \"job\", \"auto\", \"loading\", \"screen\", \"modding\", \"pass\", \"crazy\", \"bank\", \"dime\", \"loadingloade\", \"invite\", \"search\", \"repeat\", \"ing\", \"return\", \"camp\", \"targeting\", \"godamn\", \"idle\", \"bullsh\", \"spectate\", \"witcher\", \"accomplish\", \"cutscene\", \"active\", \"min\", \"leader\", \"smoother\", \"appreciated\", \"fornication\", \"gsys\", \"frend\", \"matchmake\", \"accept\", \"queue\", \"board\", \"city\", \"skip\", \"fail\", \"job\", \"testicle\", \"setup\", \"watch\", \"black\", \"random\", \"gaming\", \"forever\", \"send\", \"different\", \"else\", \"delay\", \"option\", \"pc\", \"second\", \"drive\", \"change\", \"real\", \"edit\", \"refund\", \"sure\", \"auto\", \"social_club\", \"wait\", \"load\", \"minute\", \"stupid\", \"glitchy\", \"min\", \"loadingloade\", \"invite\", \"sky\", \"blur\", \"swim\", \"location\", \"ssd\", \"area\", \"crew\", \"setup\", \"search\", \"cutscene\", \"cop\", \"matchmaking\", \"scream\", \"idle\", \"queue\", \"takes_forever\", \"skip\", \"dump\", \"quick\", \"estimate\", \"sweet\", \"decrease\", \"select\", \"set\", \"different\", \"black\", \"fail\", \"job\", \"drive\", \"second\", \"random\", \"log\", \"delay\", \"mention\", \"pc\", \"else\", \"social_club\", \"probably\", \"refund\", \"click\", \"call\", \"expect\", \"edit\", \"setting\", \"real\", \"change\", \"sure\", \"fps\", \"user\", \"auto\", \"reason\", \"finally\", \"absolutely\", \"hit\", \"aim\", \"rock\", \"enemy\", \"respawn\", \"heavy\", \"struggle\", \"boat\", \"pistol\", \"grant\", \"wave\", \"forth\", \"cop\", \"cover\", \"gather_additional\", \"jump\", \"target\", \"fire\", \"traffic\", \"air\", \"assist\", \"headshot\", \"shot\", \"street\", \"police\", \"awsome\", \"empty\", \"sound\", \"drive\", \"less\", \"edit\", \"bit\", \"refund\", \"pc\", \"second\", \"call\", \"window\", \"different\", \"random\", \"fps\", \"option\", \"change\", \"sure\", \"real\", \"hope\", \"job\", \"user\", \"auto\", \"else\", \"price\", \"love\", \"cur\", \"easy\", \"hear\", \"shark_card\", \"lead\", \"barely\", \"utter\", \"radio\", \"rubbish\", \"greifer\", \"summer_sale\", \"raise\", \"bundle\", \"actively\", \"personality\", \"increase\", \"vulnerable\", \"business_practice\", \"property\", \"jack\", \"trick\", \"cat\", \"virtual\", \"nerf\", \"wholly\", \"predatory\", \"heartily\", \"charge\", \"legitimate\", \"dlc\", \"tag\", \"item\", \"move\", \"original\", \"expensive\", \"dollar\", \"bit\", \"change\", \"real\", \"probably\", \"less\", \"edit\", \"hope\", \"drive\", \"pc\", \"refund\", \"user\", \"random\", \"sure\", \"job\", \"setting\", \"orivel\", \"cdprojektred\", \"connec\", \"pickin\", \"evolutionary\", \"goo\", \"mkii\", \"disheartening\", \"phantom_wedge\", \"acont\", \"vipe\", \"camel\", \"\\ud835\\uddee\\ud835\\uddfb\\ud835\\uddf1\", \"\\ud835\\uddef\\ud835\\ude02\\ud835\\uddf4\\ud835\\ude00\", \"\\ud835\\uddfd\\ud835\\uddff\\ud835\\uddfc\\ud835\\uddf9\\ud835\\uddfc\\ud835\\uddfb\\ud835\\uddf4\\ud835\\uddf6\\ud835\\uddfb\\ud835\\uddf4\", \"\\ud835\\ude00\\ud835\\uddf6\\ud835\\uddfa\\ud835\\uddfd\\ud835\\uddf9\\ud835\\uddf2\", \"\\ud835\\ude22\\ud835\\ude2d\\ud835\\ude2d\", \"\\ud835\\ude22\\ud835\\ude35\", \"\\ud835\\ude23\\ud835\\ude36\\ud835\\ude35\", \"\\ud835\\ude2d\\ud835\\ude2a\\ud835\\ude2c\\ud835\\ude26\", \"\\ud835\\ude2f\\ud835\\ude30\\ud835\\ude35\", \"\\ud835\\ude31\\ud835\\ude30\\ud835\\ude2a\\ud835\\ude2f\\ud835\\ude35\", \"\\ud835\\ude35\\ud835\\ude29\\ud835\\ude2a\\ud835\\ude34\", \"hackr\", \"brainlet\", \"cramped\", \"las_ventura\", \"repaint\", \"betrayal\", \"hecker\", \"hacker\", \"lobby\", \"trash\", \"almost\", \"anymore\", \"bug\", \"cheater\", \"due\", \"fun\", \"modder\", \"recommend\", \"still\", \"unplayable\", \"disconnect\", \"epic\", \"free\", \"game\", \"handle\", \"heist\", \"make\", \"mid\", \"server\", \"buggy\", \"exist\", \"get\", \"glitchy\", \"mislead\", \"ridden\"], \"Freq\": [18038.0, 20958.0, 48620.0, 42144.0, 11335.0, 10059.0, 9474.0, 12835.0, 10335.0, 10546.0, 11076.0, 10760.0, 14209.0, 14121.0, 8807.0, 27202.0, 24717.0, 7037.0, 7570.0, 7758.0, 23069.0, 6589.0, 6541.0, 24846.0, 24844.0, 8423.0, 23600.0, 6886.0, 6781.0, 10281.0, 48619.067721136824, 24845.070901700874, 24843.47686198277, 23599.876624704608, 17960.308832011644, 14596.58049084925, 13013.019624006096, 12928.382748431315, 11214.167913646777, 10914.179890405083, 10368.659497116294, 10219.939410679997, 9497.488649235007, 9489.154615601637, 9170.720557715316, 8636.82177934484, 8215.718397206323, 7986.634486810329, 7557.444318056509, 7268.166814522243, 6958.8773785622625, 5831.168653122377, 5726.710305731325, 5051.635490183125, 4881.905437626234, 4813.686367092587, 4629.261198067594, 4540.016080306487, 4470.176838256079, 4336.4217293624815, 6621.510832548615, 19252.67100558462, 5862.41575136703, 42143.06333103153, 24716.443263727284, 23068.21500152259, 18603.542854619413, 14670.148452095587, 14355.80382240768, 11113.801382242253, 10924.765759627116, 10422.004718227488, 10327.895950868739, 9274.255188510535, 8554.83546530232, 7533.089709450188, 7277.026026342706, 6979.400525276257, 6313.23771628345, 6247.526238862041, 5470.608918631439, 4994.488275643753, 4725.40118901928, 4636.183579876569, 4510.753857073681, 4421.181916867024, 4278.57582204766, 4157.613449717658, 4089.6361640956748, 3975.8576803954784, 3806.8808435253372, 3769.2635640282374, 3517.351763847127, 26942.8512395257, 18320.32638259085, 13843.952625992559, 8806.762246392385, 4695.998658379691, 14208.47719137962, 14120.462124377957, 10280.098461243759, 7582.921922048053, 7433.684412012319, 6878.7227963473815, 6655.462951660961, 6550.42352820366, 6014.420867188991, 6003.460297228207, 5754.068843204972, 3794.236092073669, 3523.2518523021326, 3292.462738765577, 2947.433287208332, 2901.761105706139, 2537.8685143229554, 2496.4649370732436, 2429.679851372698, 2338.418653482689, 1774.3717200719207, 1711.9616845874027, 1677.1826527833684, 1554.0237309597499, 1534.0507809424425, 1481.938685931344, 1463.786486719083, 1416.1003099065929, 1382.5283834034649, 1052.5896321069067, 12834.703812301901, 7597.32676626435, 7497.586490330648, 6880.215115683089, 6240.747882339342, 5789.392806467708, 4114.508507179876, 2588.7298549585994, 2374.448769302033, 2192.3975273813276, 2112.39982389595, 1310.7992828545748, 1264.2713340065484, 1077.946835097065, 977.8523283783624, 935.4692441922653, 931.2756908493454, 811.2851185524174, 723.9327422338936, 616.5788769643224, 547.60730295151, 528.679956447818, 506.15002578212426, 302.9844353339238, 293.1989732254058, 243.48851762756553, 177.68973669763204, 156.56032768830485, 126.67682449864009, 79.79302019034613, 20957.11356194638, 11075.228122659157, 5010.660044170831, 4149.938324943463, 3802.5076769444577, 1885.0786220535786, 1655.7421212988693, 1329.9042528349419, 1285.7946760839377, 1096.8648692809713, 945.2595230173914, 841.4998307415685, 824.4890958988947, 807.2317408180237, 761.5807875782868, 633.6967059111919, 524.6518241627117, 523.2693191382859, 451.2463378476398, 384.6208009578285, 301.9745894044356, 186.36097587968925, 140.2016859106815, 105.95325286707718, 0.069604684773583, 0.06951370027493069, 0.06950970459599522, 0.06952318560799443, 0.06950511696462487, 0.06953478505689706, 0.0695155606968689, 0.06952379870158772, 0.06951712514258966, 10759.015043411046, 8422.11043851054, 4154.67000070979, 2279.2405853924215, 1852.5618420870326, 1831.450851625754, 1740.3433028412937, 1557.5248288862736, 1486.9118340820548, 1428.511334053636, 1336.7723296789607, 1287.51803180333, 1270.6946705099426, 1232.9840817152012, 1155.1903202121223, 1130.4782262401527, 1055.173936500358, 1048.7726398010013, 1035.3817979594903, 890.5449641862211, 809.9514992480367, 756.1794968653707, 752.0243188269677, 700.3851931987373, 660.8015691217488, 537.5223810566113, 534.4115752766886, 530.6607704277795, 523.3747611305503, 478.5143689453624, 5900.49429489895, 4920.84597554258, 4884.03879353003, 3231.7003908487814, 2717.069952508832, 2477.853110497465, 2185.2617262954914, 1840.998750925311, 1275.0199481388113, 1221.1321550022403, 1132.4896424776728, 1060.6092301722642, 987.5456117020733, 925.1356418401889, 852.9717393677591, 745.8498735343036, 605.6472486582304, 564.7235837799994, 346.2233636045187, 279.46776856578686, 259.01701056529305, 256.1825147645615, 196.50021972214844, 180.7635390763101, 145.6738420789047, 138.681232800292, 123.2662423702282, 100.36880651906036, 59.58753901457277, 26.937835100898493, 10545.175979565103, 6780.748358286093, 6171.055150537131, 3351.1480050171476, 3020.908824328369, 2717.8332604138895, 1407.7835556912153, 1233.415466763936, 774.0075218239914, 642.4459409275753, 541.3208966066669, 444.3479786651527, 253.50230325378882, 139.10167855180828, 134.33276270102505, 92.70195764985256, 88.46848551630484, 69.03812754094294, 0.05139149791056324, 0.05139119693535884, 0.05138596635112478, 0.051383412622117736, 0.05138240481120603, 0.05138943212620576, 0.05138524583472636, 0.051390316810897486, 0.051379946847036756, 0.051380106455099696, 0.05138079504988552, 0.05138352662787698, 0.051448072128529906, 0.05138848815851923, 0.05140266591473867, 0.0513964275195929, 0.051389076428236924, 0.051392806696679345, 0.05138764451590083, 0.05139020736536861, 0.051392382595254964, 0.05138967837864573, 6885.28232480864, 6305.196945434366, 3541.321825491948, 2679.4997995396266, 1991.7936873494828, 1302.4327897704716, 1241.0496993486274, 1176.0137966382574, 1035.5727521577935, 1028.0429166055642, 969.725983196102, 927.1900633331724, 728.7215992867538, 717.2290304561382, 708.0537098210845, 556.96110512012, 492.42467568032635, 458.1804804697, 277.98067783742425, 251.76326564706306, 250.12405325266687, 234.7451106707975, 182.58690348617424, 119.56419085428988, 81.5958837966705, 61.28300340528382, 0.05177686935008986, 0.051768705870813836, 0.05176062406716839, 0.05176607999929084, 0.05182688750625433, 0.05176909383005907, 0.05177423939478533, 0.05177922160825044, 8806.103239663678, 7757.147401779822, 2938.473115360652, 2360.5511789839584, 2145.3623182092315, 1789.4116953774612, 1423.1180696259169, 1234.8109071671856, 1219.246582272255, 1122.7406148854648, 1100.2579690866419, 653.2796559246435, 298.5369001415583, 275.0184660340436, 211.4650082143357, 79.38640107561197, 5.99299762758829, 0.06044814166179537, 0.06045237059302802, 0.060447448922583934, 0.06045513349476669, 0.06044781140240387, 0.06044669577006916, 0.06045353455600539, 0.060451122051426005, 0.06044659105367674, 0.060445580137734455, 0.06044717102138864, 0.060445946645107954, 0.06044860483045419, 0.06045322040682811, 0.06045700227961616, 0.06046165813152563, 0.06046620523948912, 0.060456696185545986, 0.06045722379506168, 0.06045611219028053, 0.06045650689052891, 0.0605133880293848, 0.06045663979979622, 0.06046523459908238, 0.06046937492413682, 0.06045973296092638, 0.060461074136260166, 0.06045726407059723, 0.06045722379506168, 0.06045726407059723, 0.06045700227961616, 10334.678978390719, 3855.157926226938, 2578.7561545838475, 2402.117610099364, 2200.7903044368477, 1619.1134624888737, 1418.239457735933, 1207.0849720457522, 1075.4432509642006, 753.8318943362609, 752.3118391128872, 744.5319666533775, 692.1379257194649, 595.8343613624655, 591.4105618796118, 420.570075647811, 392.8382874458319, 345.0651418006094, 277.68718550603063, 272.1489294689658, 209.37861424002764, 207.38239538247836, 185.979806547562, 92.27844477406344, 82.70085084021693, 26.549825038012607, 0.044083996324440246, 0.04408110854590918, 0.044082196407684585, 0.04407587098594325, 0.044084637173922483, 0.04408782164202866, 0.04412684225494706, 0.044090804361223764, 0.04408673773611426, 11334.361101940518, 7569.280287499238, 4262.218771995691, 1940.933268212915, 938.1589273639108, 836.1647560745693, 694.6947491257279, 687.0590924231195, 250.29132513295622, 192.2108980060379, 170.8303972524894, 165.1726904339586, 0.08122007673028532, 0.08113123026614906, 0.08109664118469143, 0.08111869767655959, 0.08109463539315091, 0.0810991087411909, 0.08109651131329672, 0.08109226884773621, 0.08108931066596782, 0.08109195138432691, 0.08108857472806447, 0.08108773777907634, 0.08108958483891221, 0.08109471475900323, 0.08109966430215716, 0.08108827890988762, 0.08108680703408092, 0.08108641741989679, 0.08109892114917633, 0.08110560231092638, 0.08110115060811883, 0.08109846659929484, 0.0811009413708718, 0.0811045633397687, 0.08109703079887555, 0.08109730497181994, 0.08109454159714362, 0.08109501779225756, 0.0810949528565602, 4798.780695111008, 2833.993739468713, 2649.9339422539892, 2531.9526087132567, 2219.512210197357, 2216.5902309578555, 2202.138756684883, 2132.196382271522, 1113.5534786297444, 960.9436018733935, 900.7991142790951, 764.1105277798346, 687.6433200875299, 668.7663293527162, 652.7529280623613, 547.6899971991883, 243.08873985364255, 226.60657940444514, 33.88565754807409, 0.0600094108576139, 0.060003402074029565, 0.06000187570486619, 0.06000161325224986, 0.06000104000048262, 0.06000518398916147, 0.0600014613059983, 0.06000050128195437, 0.060000452935419786, 0.06000079136116189, 0.060001019280539226, 0.06000760131589081, 0.060009949576142155, 0.060071805513821824, 0.060016980543600607, 0.060010267281940866, 0.06000900336539382, 0.06002218124939257, 0.060010032455915734, 0.060013768952374494, 0.060015910013191905, 0.06001070930739994, 0.060010018642620136, 18037.1379604409, 3491.424695530717, 1203.1761430985612, 1071.2334604324901, 595.8074487040265, 475.3123136397434, 364.5642174458384, 240.06829191141853, 161.17940828611862, 0.06815230176602241, 0.0680499144071267, 0.06807767907287768, 0.06806733313505729, 0.06804673640905924, 0.06804582931579847, 0.06804586103234606, 0.06805025060253105, 0.06804524573132302, 0.0680513923982439, 0.06804245467513603, 0.06804529647779914, 0.06803966361894905, 0.0680534730037651, 0.06804395803949129, 0.06804189012058912, 0.06804052630904321, 0.06804910246350866, 0.0680418837772796, 0.06804506177534705, 0.06804101474387593, 0.06804702820129697, 0.06805277523971835, 0.06805520472726294, 0.06804545506053704, 0.06805819876935443, 0.06804772596534372, 0.06805209016229065, 0.06805418345443089, 0.0680499524669838, 0.06804922932969898, 0.06805178568343388, 0.0680511513524823, 0.06805534428007229, 0.06804958455503188, 0.0680489565673898, 0.06804865208853304, 0.06804913418005624, 10058.237559901701, 3001.0738379335417, 2173.7104062978124, 1847.479976756561, 731.3514674630181, 563.0133433378486, 452.9085654550876, 425.5377465872243, 241.1025199109503, 150.5987015511939, 72.13604686779132, 0.046556024984256615, 0.04655070225693117, 0.04655106000608837, 0.04654993841413606, 0.04655101649605574, 0.04655012212316273, 0.04654928092919849, 0.04655149027196663, 0.046552370141515434, 0.046550934310438545, 0.04655102133050381, 0.04654922291582164, 0.04654887483556058, 0.04654993357968799, 0.046551045502744165, 0.04654879748439145, 0.04654893284893742, 0.0465488554977683, 0.046549063379035326, 0.046549242253613926, 0.04654998675861676, 0.046552060736838936, 0.04655675498591524, 0.04655441027860112, 0.04655444895418568, 0.04655838419491494, 0.04655709339728016, 0.046556779158155585, 0.04656265301256105, 0.0465996123680588, 0.046557779888906144, 0.04655481637223903, 0.04655770737218509, 0.04655719492068963, 0.04656537480682465, 0.046561719964083474, 0.046555918626399066, 0.0465538591515211, 0.04655610716987381, 0.04655917704439847, 0.04655557538058607, 0.04655719492068963, 0.046556996708318754, 0.04655607332873732, 9473.474605984706, 6540.839977236574, 1435.3609268361865, 375.7651479701496, 274.33961825545003, 198.12467811200145, 52.557289608360136, 0.03611347489865665, 0.03611300151266572, 0.036110494567136296, 0.03611021675845617, 0.036109674475912575, 0.03611181026904536, 0.036108883276791584, 0.036108498789578294, 0.03610850101204773, 0.03610897884297754, 0.03610866547478637, 0.03610851212439494, 0.036108789933075064, 0.03610849212216997, 0.0361096544736876, 0.03610871881405295, 0.03611310819119889, 0.03610854990637544, 0.036108136527059416, 0.03610807207544563, 0.03610807207544563, 0.03610807207544563, 0.036108074297915065, 0.036108889944199904, 0.03610915441806338, 0.0361083854436368, 0.03610850101204773, 0.03611055901875008, 0.03610898995532475, 0.03611338155494013, 0.036114630582765955, 0.036110910168921755, 0.03610936999759916, 0.03611020120117008, 0.03610955446256276, 0.036111841383617525, 0.03611117019784635, 0.036109616691707105, 0.03611013008214797, 0.03611141466948486, 0.0361114546739348, 0.036111316880829455, 0.036110792378041386, 0.036123218204685906, 0.0361109612857189, 0.03611247923234709, 0.03611363936139528, 0.03611154801765132, 0.03611232588195566, 0.03611147023122088, 0.03611089905657455, 0.036110723481488714, 0.036110681254569336, 7036.634084821042, 5423.369129309021, 3028.3071351633025, 1562.979715183634, 224.46543344963712, 0.036663570401548176, 0.036656973197132015, 0.036659453981456765, 0.03665635930812962, 0.03665575382856561, 0.03665565291530495, 0.036656018725874866, 0.03665629623734171, 0.03665674193757632, 0.036656897512186516, 0.0366570657009543, 0.03665656533937015, 0.036656376127006396, 0.036658793840543234, 0.036655770647442396, 0.036655669734181724, 0.03665539222271489, 0.036655190396193554, 0.03665528290001583, 0.036655892584299035, 0.03665544267934522, 0.03665597667868292, 0.0366548498139388, 0.036655081073494494, 0.03665528710473503, 0.03665540063215328, 0.03665943716257999, 0.036661922151623935, 0.03665687228387135, 0.036662044088480575, 0.03666395303099487, 0.03666655154745707, 0.03666125360127201, 0.03666116950688812, 0.03665999218551366, 0.036661165302168924, 0.036657730046587025, 0.03668412727369004, 0.03666000059495205, 0.03666018139787741, 0.03665979035899233, 0.03666177078173293, 0.036657086724550265, 0.0366586676989674, 0.03665928999740818, 0.036661934765781515, 0.03665955909943663, 0.03665995013832172, 0.03666274207186686, 0.03665933624931932, 0.036658663494248206, 0.03665883588773518, 0.03665878122638565, 6588.311791758844, 2774.023134737747, 2038.2354287199066, 1490.4698456726696, 726.2336935572258, 511.3222926958339, 378.2548193968168, 327.3410980020853, 260.5271432123555, 204.07663202902515, 197.93720723090516, 188.2909011781556, 179.44428942624248, 174.0306724465321, 81.31317489670006, 0.07087116071185233, 0.07086665838872716, 0.07086402083376203, 0.07086560840665505, 0.07086471802185791, 0.07086662478930085, 0.07086365124007266, 0.07086485241956314, 0.07086268525656632, 0.0708631640483912, 0.07086492801827232, 0.07086553280794586, 0.07086594440091812, 0.07086326484667012, 0.07086487761913286, 0.07086585200249577, 0.07088636445225639, 0.07087257188775724, 0.07088752363246399, 0.07087300028044266, 0.07088092974505118, 0.0709369567884186, 0.07087394106437926, 0.0708718998992311, 0.07087027032705519, 0.070873966263949, 0.0708736722689688, 0.07087258868747039, 0.0708724038906257, 0.07088797722471914, 0.07087524304214866, 0.07087667941762331, 0.07087441145634757, 0.07087590663081823, 0.07087408386194106, 0.07087366386911223, 0.07087330267527943, 5532.442128632228, 3750.340099989765, 1555.621816664605, 1168.8738498998994, 1056.6758540465814, 810.1084701099311, 607.9261273342108, 572.7997622516854, 385.91926960514206, 248.38054577173696, 118.12668585399138, 70.81707339653549, 0.059828919009615254, 0.059823374864690866, 0.05982068605594366, 0.05981886237750333, 0.059817859151278914, 0.05982027176819106, 0.05981720116484832, 0.059818115034890804, 0.05981792413759304, 0.05981719304155906, 0.059817412370369256, 0.0598184683979739, 0.059817822596477215, 0.05981639289756631, 0.05981616544546685, 0.059816254801648774, 0.059816189815334646, 0.05981788758279134, 0.05981757077450995, 0.05982752586550605, 0.059819260418677384, 0.059820446418910295, 0.05982664855026527, 0.059821047542316014, 0.0598231717824592, 0.059825312269180926, 0.05982459741972548, 0.05983852886081753, 0.0598284478588378, 0.059825458488387724, 0.059823220522194805, 0.05983250950347105, 0.059826144906330744, 0.05983087266068385, 0.059865542859273285, 0.0598282650848293, 0.05982533663904873, 0.05982426842651018, 0.059825044200635134, 0.05982517011161877, 0.05982438215255991, 0.0045761699724548455, 0.0045761699724548455, 0.0045761699724548455, 0.0045761699724548455, 0.0045761699724548455, 0.0045761699724548455, 0.0045761699724548455, 0.0045761699724548455, 0.0045761699724548455, 0.0045761699724548455, 0.0045761699724548455, 0.0045761699724548455, 0.0045761699724548455, 0.0045761699724548455, 0.0045761699724548455, 0.0045761699724548455, 0.0045761699724548455, 0.0045761699724548455, 0.0045761699724548455, 0.0045761699724548455, 0.0045761699724548455, 0.0045761699724548455, 0.0045761699724548455, 0.0045761699724548455, 0.0045761699724548455, 0.0045761699724548455, 0.0045761699724548455, 0.0045761699724548455, 0.0045761699724548455, 0.0045761699724548455, 0.0045761699724548455, 0.0045761699724548455, 0.0045761699724548455, 0.0045761699724548455, 0.0045761699724548455, 0.0045761699724548455, 0.0045761699724548455, 0.0045761699724548455, 0.0045761699724548455, 0.0045761699724548455, 0.0045761699724548455, 0.0045761699724548455, 0.0045761699724548455, 0.0045761699724548455, 0.0045761699724548455, 0.0045761699724548455, 0.0045761699724548455, 0.0045761699724548455, 0.0045761699724548455, 0.0045761699724548455, 0.0045761699724548455, 0.0045761699724548455, 0.0045761699724548455, 0.0045761699724548455, 0.0045761699724548455, 0.0045761699724548455, 0.0045761699724548455, 0.0045761699724548455], \"Total\": [18038.0, 20958.0, 48620.0, 42144.0, 11335.0, 10059.0, 9474.0, 12835.0, 10335.0, 10546.0, 11076.0, 10760.0, 14209.0, 14121.0, 8807.0, 27202.0, 24717.0, 7037.0, 7570.0, 7758.0, 23069.0, 6589.0, 6541.0, 24846.0, 24844.0, 8423.0, 23600.0, 6886.0, 6781.0, 10281.0, 48620.1131031374, 24846.116283701467, 24844.522243983363, 23600.9220067052, 17961.354214012237, 14597.625872849836, 13014.065006006682, 12929.428130431901, 11215.213295647363, 10915.225272405669, 10369.70487911688, 10220.984792680583, 9498.534031235593, 9490.199997602223, 9171.765939715902, 8637.867161345426, 8216.763779206909, 7987.679868810917, 7558.489700057096, 7269.212196522831, 6959.92276056285, 5832.214035122965, 5727.755687731913, 5052.680872183712, 4882.950819626822, 4814.731749093175, 4630.306580068182, 4541.061462307075, 4471.222220256666, 4337.467111363069, 6631.576531407668, 23949.649588265005, 6763.731368838221, 42144.10860531027, 24717.488538006033, 23069.260275801338, 18604.58812889816, 14671.193726374331, 14356.849096686425, 11114.846656520996, 10925.81103390586, 10423.049992506232, 10328.941225147482, 9275.300462789279, 8555.880739581064, 7534.134983728933, 7278.071300621451, 6980.445799555002, 6314.282990562195, 6248.571513140786, 5471.654192910184, 4995.5335499224975, 4726.446463298024, 4637.2288541553135, 4511.799131352425, 4422.227191145768, 4279.621096326405, 4158.658723996403, 4090.6814383744195, 3976.902954674223, 3807.926117804082, 3770.308838306982, 3518.397038125872, 27202.99808249872, 18869.712505060917, 14443.300046372258, 9933.522168378202, 23949.649588265005, 14209.526451025076, 14121.511384023413, 10281.147720889216, 7583.971181693509, 7434.733671657775, 6879.7720559928375, 6656.512211306417, 6551.472787849116, 6015.470126834447, 6004.509556873663, 5755.118102850428, 3795.285351719125, 3524.3011119475887, 3293.511998411033, 2948.482546853788, 2902.810365351595, 2538.9177739684114, 2497.5141967186996, 2430.729111018154, 2339.467913128145, 1775.420979717377, 1713.010944232859, 1678.2319124288247, 1555.072990605206, 1535.1000405878988, 1482.9879455768003, 1464.8357463645393, 1417.1495695520491, 1383.5776430489211, 1053.638891752363, 12835.754077497175, 7598.377031459623, 7498.636755525921, 6881.265380878362, 6241.798147534615, 5790.443071662981, 4115.558772375149, 2589.7801201538723, 2375.4990344973057, 2193.4477925766005, 2113.4500890912227, 1311.8495480498477, 1265.3215992018213, 1078.997100292338, 978.9025935736354, 936.5195093875383, 932.3259560446185, 812.3353837476905, 724.9830074291666, 617.6291421595954, 548.657568146783, 529.730221643091, 507.2002909773973, 304.0347005291968, 294.2492384206788, 244.53878282283858, 178.7400018929051, 157.6105928835779, 127.72708969391313, 80.84328538561917, 20958.154800513214, 11076.269361225992, 5011.701282737664, 4150.979563510296, 3803.5489155112914, 1886.1198606204127, 1656.7833598657035, 1330.945491401776, 1286.8359146507719, 1097.9061078478055, 946.3007615842255, 842.5410693084026, 825.5303344657287, 808.2729793848578, 762.6220261451209, 634.737944478026, 525.6930627295458, 524.31055770512, 452.28757642557787, 385.6620395246626, 303.0158279712697, 187.40221444652337, 141.24292447751563, 106.99449150229776, 1.1122716136332502, 1.1108689746873892, 1.110879349258052, 1.1111063030439712, 1.1108198533454046, 1.111302920497641, 1.110999161667376, 1.1111756379832585, 1.1111431146816848, 10760.064744674864, 8423.160139774358, 4155.719701973606, 2280.290286656238, 1853.6115433508492, 1832.5005528895706, 1741.3930041051103, 1558.5745301500901, 1487.9615353458714, 1429.5610353174525, 1337.8220309427772, 1288.5677330671465, 1271.7443717737592, 1234.0337829790178, 1156.2400214759389, 1131.5279275039693, 1056.2236377641746, 1049.822341064818, 1036.431499223307, 891.5946654500377, 811.0012005118533, 757.2291981291872, 753.0740200907843, 701.4348944625539, 661.8512703855654, 538.5720823204279, 535.4612765450654, 531.7104716915961, 524.4244623943669, 479.5640702091791, 5901.548877018067, 4921.900557661697, 4885.093375653351, 3232.754972967899, 2718.1245346279497, 2478.9076926165826, 2186.316308414609, 1842.0533330444289, 1276.0745302579292, 1222.1867371213582, 1133.5442245967906, 1061.663812291382, 988.600193821191, 926.1902239593066, 854.0263214868769, 746.9044556534213, 606.7018307773482, 565.7781658991172, 347.27794572363655, 280.5223506849047, 260.0715926844109, 257.2370968836794, 197.55480184126634, 181.818121195428, 146.7284241980226, 139.7358149194099, 124.32082449598876, 101.42338864657806, 60.64212113369064, 27.992417220016346, 10546.235335208603, 6781.807713929592, 6172.11450618063, 3352.207360660647, 3021.9681799718683, 2718.8926160573888, 1408.8429113347147, 1234.4748224074353, 775.0668774674908, 643.5052965821787, 542.3802522501663, 445.40733430865214, 254.56165889728828, 140.16103420173494, 135.3921183445245, 93.76131329335202, 89.52784117392602, 70.0974831844424, 1.1109831281225333, 1.1109862421564358, 1.1108869699841433, 1.1108352026004267, 1.1108253455692887, 1.110977977317049, 1.1108889419403067, 1.1110007033531297, 1.110778696886134, 1.1107843836556948, 1.1107996255125345, 1.110859378485323, 1.1122716136332502, 1.1109696181686213, 1.111302920497641, 1.1111756379832585, 1.110999161667376, 1.1111063030439712, 1.1109652328839816, 1.1110503493923374, 1.1111431146816848, 1.1110464237932118, 6886.341303126063, 6306.25592375179, 3542.380803809372, 2680.5587778570507, 1992.8526656669071, 1303.491768087896, 1242.1086776660518, 1177.0727749556818, 1036.6317304752179, 1029.1018949229885, 970.7849615135262, 928.2490416505966, 729.780577604178, 718.2880087735624, 709.1126881385087, 558.0200834375443, 493.4836539977507, 459.23945878712436, 279.0396561548486, 252.82224396448746, 251.18303157009126, 235.80408898822188, 183.64588180359863, 120.62316917171425, 82.65486211409488, 62.34198172681499, 1.1111063030439712, 1.1109862421564358, 1.1108173105991492, 1.1109383783972404, 1.1122716136332502, 1.1110062648059782, 1.1111431146816848, 1.111302920497641, 8807.153527616822, 7758.197689732963, 2939.523403313794, 2361.6014669371, 2146.4126061623733, 1790.4619833306033, 1424.168357579059, 1235.8611951203277, 1220.296870225397, 1123.7909028386068, 1101.308257039784, 654.3299438777854, 299.58718809470025, 276.06875399537614, 212.51529616747771, 80.43668903509725, 7.04328558073026, 1.110768447273427, 1.1108486939433562, 1.1107629339501972, 1.110906614950099, 1.110776115523993, 1.1107566913875886, 1.1108854516369386, 1.1108419146513424, 1.1107591400546353, 1.110741229579685, 1.1107707959464217, 1.1107495664123492, 1.1107987487156237, 1.1108841952677886, 1.1109558257612968, 1.1110464237932118, 1.1111431146816848, 1.110964493915784, 1.110977977317049, 1.110954993821452, 1.1109652328839816, 1.1122716136332502, 1.1109696181686213, 1.1111756379832585, 1.111302920497641, 1.1110503493923374, 1.1111063030439712, 1.110999161667376, 1.110999870156286, 1.1110093088703972, 1.1110062648059782, 10335.745639462983, 3856.2245872992016, 2579.8228156561113, 2403.1842711716276, 2201.8569655091114, 1620.1801235611374, 1419.3061188081967, 1208.151633118016, 1076.5099120364644, 754.8985554085244, 753.3785001851508, 745.598627725641, 693.2045867917284, 596.901022434729, 592.4772229518753, 421.6367367200746, 393.90494852229284, 346.13180287287304, 278.75384657829426, 273.2155905412294, 210.4452753122913, 208.44905645474202, 187.04646761982565, 93.34510585043388, 83.76751191248059, 27.616486110276252, 1.1110062648059782, 1.1109410424767223, 1.1109831281225333, 1.1108264217685069, 1.1110503493923374, 1.1111431146816848, 1.1122716136332502, 1.111302920497641, 1.1111756379832585, 11335.390759060296, 7570.309944619015, 4263.248429115469, 1941.9629253326934, 939.1885844836889, 837.1944131943474, 695.724406245506, 688.0887495428976, 251.3209822527345, 193.24055512581617, 171.86005437449018, 166.20234755373687, 1.1122716136332502, 1.111302920497641, 1.1108671608979892, 1.1111756379832585, 1.1108580297146267, 1.1109311106100417, 1.1109029052610808, 1.1108501241768434, 1.1108123458872987, 1.1108522867456314, 1.1108249874282095, 1.1108144142688503, 1.1108586489097008, 1.1109321963649146, 1.1110007033531297, 1.1108448563158653, 1.1108258791717098, 1.110821912739627, 1.110999161667376, 1.1111063030439712, 1.1110464237932118, 1.1110062648059782, 1.1110503493923374, 1.1111431146816848, 1.110999870156286, 1.1110093088703972, 1.1109505433309104, 1.110975549808198, 1.1109739262728853, 4799.831431906488, 2835.044476264194, 2650.9846790494703, 2533.0033455087378, 2220.562946992838, 2217.6409677533366, 2203.189493480364, 2133.247119067003, 1114.6042154252252, 961.9943386688743, 901.8498510745759, 765.1612645753154, 688.6940568830107, 669.817066148197, 653.8036648578421, 548.7407339946691, 244.13947664912345, 227.65731619992604, 34.93639435899496, 1.1108689746873892, 1.1108198533454046, 1.1107964421603649, 1.1107954618186338, 1.1107883854650016, 1.1108662387170338, 1.1108014938083381, 1.1107854558770471, 1.1107876939737114, 1.1107943100212587, 1.110799035692285, 1.1109311106100417, 1.1109831281225333, 1.1122716136332502, 1.1111431146816848, 1.110999870156286, 1.110975549808198, 1.111302920497641, 1.1110062648059782, 1.1111063030439712, 1.1111756379832585, 1.1110503493923374, 1.1110464237932118, 18038.18065792572, 3492.4673930155395, 1204.2188405833836, 1072.2761579173125, 596.8501461888487, 476.35501112456575, 365.6069149306607, 241.11098939624085, 162.22210577094094, 1.1122716136332502, 1.1108155700635205, 1.111302920497641, 1.1111756379832585, 1.1108581957573787, 1.1108522867456314, 1.1108580297146267, 1.1109311106100417, 1.1108501241768434, 1.1109558257612968, 1.110811131087967, 1.1108586489097008, 1.1107734117133854, 1.110999161667376, 1.1108439119239875, 1.1108118660939488, 1.110789827492569, 1.1109321963649146, 1.1108144142688503, 1.1108671608979892, 1.1108031587092762, 1.1109014010483127, 1.110999870156286, 1.1110464237932118, 1.110876610589263, 1.1111063030439712, 1.1109177075825327, 1.1110007033531297, 1.1110503493923374, 1.1109652328839816, 1.1109505433309104, 1.1110093088703972, 1.1110062648059782, 1.1111431146816848, 1.1109739262728853, 1.110954993821452, 1.1109594861729266, 1.1109862421564358, 10059.3017438322, 3002.1380218640406, 2174.7745902283114, 1848.54416068706, 732.4156513935172, 564.0775272683477, 453.9727493855867, 426.6019305253915, 242.1667038414494, 151.662885481693, 73.20023079829042, 1.1108869699841433, 1.1107617187510752, 1.110779856795324, 1.1107548796499622, 1.1107824249825715, 1.1107629339501972, 1.1107428944466389, 1.1107956956159326, 1.110817515375021, 1.1107850327695186, 1.1107873260667875, 1.1107451350442052, 1.110736962740186, 1.11076228633868, 1.1107892671759065, 1.110736325629036, 1.1107406321748314, 1.1107393340904252, 1.1107444106403173, 1.110748711717402, 1.1107669870730166, 1.1108180978183202, 1.1109410424767223, 1.110884955246182, 1.1108889419403067, 1.1110062648059782, 1.1109696181686213, 1.110964493915784, 1.1111431146816848, 1.1122716136332502, 1.1110007033531297, 1.1109094076683916, 1.1110093088703972, 1.110999870156286, 1.111302920497641, 1.1111756379832585, 1.110962508001538, 1.1108854516369386, 1.110975549808198, 1.1111063030439712, 1.1109594861729266, 1.1110464237932118, 1.1110503493923374, 1.110999161667376, 9474.549230418, 6541.914601669867, 1436.4355512830386, 376.83977244219386, 275.4142426953866, 199.19930254529532, 53.63191404886906, 1.1107435805423194, 1.1108264217685069, 1.1107782980143808, 1.1107702536049824, 1.110755280663295, 1.1108233211203364, 1.1107366628314848, 1.1107350543772363, 1.1107352590579742, 1.1107501827221695, 1.1107406882855286, 1.110736734730642, 1.110746224227366, 1.1107386642036767, 1.1107753230511601, 1.1107481623448547, 1.1108837223947625, 1.1107464217615153, 1.110736305536161, 1.110734704934659, 1.110734704934659, 1.110734704934659, 1.1107347834460082, 1.1107600923394183, 1.110768949061289, 1.1107446197673947, 1.110749003776886, 1.1108227463291278, 1.110769950540266, 1.110977977317049, 1.1110503493923374, 1.1108689746873892, 1.1107927113829306, 1.110846719884585, 1.110806922356698, 1.110964493915784, 1.1109321963649146, 1.1108155798912622, 1.1108599809535633, 1.1109696181686213, 1.110975549808198, 1.1109831281225333, 1.1109383783972404, 1.1122716136332502, 1.110962508001538, 1.1111431146816848, 1.111302920497641, 1.1110464237932118, 1.1111756379832585, 1.1111063030439712, 1.1110093088703972, 1.110999161667376, 1.1109862421564358, 7037.70816294639, 5424.4432074343695, 3029.381213288651, 1564.0537933089824, 225.53951157498568, 1.1108837223947625, 1.1107435805423194, 1.1108264217685069, 1.110752773938017, 1.1107389974578314, 1.1107420305852462, 1.1107556481432599, 1.1107672848325807, 1.1107815389318352, 1.1107863993109304, 1.1107927113829306, 1.1107782980143808, 1.1107753230511601, 1.1108486939433562, 1.1107594079498129, 1.1107566375674152, 1.1107501827221695, 1.1107446197673947, 1.110749954818091, 1.110769950540266, 1.110757048580804, 1.1107739131790737, 1.1107408105654304, 1.1107485012523617, 1.1107562403801805, 1.1107597111055243, 1.110884955246182, 1.1109696181686213, 1.110806922356698, 1.110977977317049, 1.1110503493923374, 1.1111431146816848, 1.110962508001538, 1.110964493915784, 1.110921119841713, 1.1109831281225333, 1.1108425802640398, 1.1122716136332502, 1.110975549808198, 1.1109862421564358, 1.1109652328839816, 1.1111063030439712, 1.1108193461434817, 1.1109237537509766, 1.1109739262728853, 1.1111756379832585, 1.1110062648059782, 1.1110464237932118, 1.111302920497641, 1.1110093088703972, 1.1109410424767223, 1.1110007033531297, 1.110999161667376, 6589.351662782601, 2775.0630057615053, 2039.2752997436646, 1491.5097166964276, 727.2735645809837, 512.3621637195918, 379.29469042057474, 328.3809690327499, 261.56701423611344, 205.1165030527831, 198.9770782546631, 189.33077220191353, 180.48416045000042, 175.07054347029003, 82.35304599624772, 1.1108486939433562, 1.1107782699922797, 1.1107514203216733, 1.1107798142534788, 1.1107687429401274, 1.1107992624600544, 1.1107537615963399, 1.1107730651483454, 1.1107398797026429, 1.1107481481625054, 1.1107773697588637, 1.1107880212891414, 1.110794788436375, 1.1107532971760163, 1.110778585776392, 1.1107951376371707, 1.1111431146816848, 1.1109085537915155, 1.1111756379832585, 1.1109341185227766, 1.1111063030439712, 1.1122716136332502, 1.110962508001538, 1.1109237537509766, 1.1108889419403067, 1.1109696181686213, 1.110964493915784, 1.1109410424767223, 1.1109383783972404, 1.111302920497641, 1.1110093088703972, 1.1110464237932118, 1.110999870156286, 1.1110503493923374, 1.1110007033531297, 1.110999161667376, 1.110975549808198, 5533.493045448652, 3751.39101680619, 1556.6727334810298, 1169.9247667163243, 1057.7267708630063, 811.1593869263559, 608.9770441506356, 573.8506790681101, 386.97018642156684, 249.43146258816176, 119.17760267041616, 71.86799029583887, 1.110876291265964, 1.1107969696787492, 1.1107762393859704, 1.1107697252641178, 1.1107531907257433, 1.1107980313870565, 1.1107410855161126, 1.1107651790468749, 1.1107626355503746, 1.1107514774049239, 1.1107560321071641, 1.110776115523993, 1.1107654859823552, 1.1107394984028924, 1.1107353100728063, 1.110737284782543, 1.1107363153548815, 1.1107678977042903, 1.1107624811652375, 1.1109558257612968, 1.1107958750661948, 1.1108197310528425, 1.110954993821452, 1.1108363755891926, 1.1108841952677886, 1.1109505433309104, 1.1109341185227766, 1.111302920497641, 1.1110464237932118, 1.1109652328839816, 1.1109085537915155, 1.1111756379832585, 1.110999870156286, 1.1111431146816848, 1.1122716136332502, 1.1111063030439712, 1.1110007033531297, 1.110964493915784, 1.1110093088703972, 1.1110503493923374, 1.1110062648059782, 1.1107319786440324, 1.1107319786440324, 1.1107319786440324, 1.1107319786440324, 1.1107319786440324, 1.1107319786440324, 1.1107319786440324, 1.1107319786440324, 1.1107319786440324, 1.1107319786440324, 1.1107319786440324, 1.1107319786440324, 1.1107319786440324, 1.1107319786440324, 1.1107319786440324, 1.1107319786440324, 1.1107319786440324, 1.1107319786440324, 1.1107319786440324, 1.1107319786440324, 1.1107319786440324, 1.1107319786440324, 1.1107319786440324, 1.1107319786440324, 1.1107319786440324, 1.1107319786440324, 1.1107319786440324, 1.1107319786440324, 1.1107319786440324, 1.1107319786440324, 10546.235335208603, 4422.227191145768, 961.9943386688743, 3563.633695738679, 2497.5141967186996, 3856.2245872992016, 3002.1380218640406, 4263.248429115469, 13014.065006006682, 6314.282990562195, 8555.880739581064, 12835.754077497175, 2533.0033455087378, 988.600193821191, 257.2370968836794, 2186.316308414609, 10328.941225147482, 854.0263214868769, 7558.489700057096, 23600.9220067052, 260.0715926844109, 6881.265380878362, 1220.296870225397, 721.3813297512876, 48620.1131031374, 225.53951157498568, 1.1107334283129244, 20.772229177600188], \"Category\": [\"Default\", \"Default\", \"Default\", \"Default\", \"Default\", \"Default\", \"Default\", \"Default\", \"Default\", \"Default\", \"Default\", \"Default\", \"Default\", \"Default\", \"Default\", \"Default\", \"Default\", \"Default\", \"Default\", \"Default\", \"Default\", \"Default\", \"Default\", \"Default\", \"Default\", \"Default\", \"Default\", \"Default\", \"Default\", \"Default\", \"Topic1\", \"Topic1\", \"Topic1\", \"Topic1\", \"Topic1\", \"Topic1\", \"Topic1\", \"Topic1\", \"Topic1\", \"Topic1\", \"Topic1\", \"Topic1\", \"Topic1\", \"Topic1\", \"Topic1\", \"Topic1\", \"Topic1\", \"Topic1\", \"Topic1\", \"Topic1\", \"Topic1\", \"Topic1\", \"Topic1\", \"Topic1\", \"Topic1\", \"Topic1\", \"Topic1\", \"Topic1\", \"Topic1\", \"Topic1\", \"Topic1\", \"Topic1\", \"Topic1\", \"Topic2\", \"Topic2\", \"Topic2\", \"Topic2\", \"Topic2\", \"Topic2\", \"Topic2\", \"Topic2\", \"Topic2\", \"Topic2\", \"Topic2\", \"Topic2\", \"Topic2\", \"Topic2\", \"Topic2\", \"Topic2\", \"Topic2\", \"Topic2\", \"Topic2\", \"Topic2\", \"Topic2\", \"Topic2\", \"Topic2\", \"Topic2\", \"Topic2\", \"Topic2\", \"Topic2\", \"Topic2\", \"Topic2\", \"Topic2\", \"Topic2\", \"Topic2\", \"Topic2\", \"Topic2\", \"Topic2\", \"Topic3\", \"Topic3\", \"Topic3\", \"Topic3\", \"Topic3\", \"Topic3\", \"Topic3\", \"Topic3\", \"Topic3\", \"Topic3\", \"Topic3\", \"Topic3\", \"Topic3\", \"Topic3\", \"Topic3\", \"Topic3\", \"Topic3\", \"Topic3\", \"Topic3\", \"Topic3\", \"Topic3\", \"Topic3\", \"Topic3\", \"Topic3\", \"Topic3\", \"Topic3\", \"Topic3\", \"Topic3\", \"Topic3\", \"Topic3\", \"Topic4\", \"Topic4\", \"Topic4\", \"Topic4\", \"Topic4\", \"Topic4\", \"Topic4\", \"Topic4\", \"Topic4\", \"Topic4\", \"Topic4\", \"Topic4\", \"Topic4\", \"Topic4\", \"Topic4\", \"Topic4\", \"Topic4\", \"Topic4\", \"Topic4\", \"Topic4\", \"Topic4\", \"Topic4\", \"Topic4\", \"Topic4\", \"Topic4\", \"Topic4\", \"Topic4\", \"Topic4\", \"Topic4\", \"Topic4\", \"Topic5\", \"Topic5\", \"Topic5\", \"Topic5\", \"Topic5\", \"Topic5\", \"Topic5\", \"Topic5\", \"Topic5\", \"Topic5\", \"Topic5\", \"Topic5\", \"Topic5\", \"Topic5\", \"Topic5\", \"Topic5\", \"Topic5\", \"Topic5\", \"Topic5\", \"Topic5\", \"Topic5\", \"Topic5\", \"Topic5\", \"Topic5\", \"Topic5\", \"Topic5\", \"Topic5\", \"Topic5\", \"Topic5\", \"Topic5\", \"Topic5\", \"Topic5\", \"Topic5\", \"Topic6\", \"Topic6\", \"Topic6\", \"Topic6\", \"Topic6\", \"Topic6\", \"Topic6\", \"Topic6\", \"Topic6\", \"Topic6\", \"Topic6\", \"Topic6\", \"Topic6\", \"Topic6\", \"Topic6\", \"Topic6\", \"Topic6\", \"Topic6\", \"Topic6\", \"Topic6\", \"Topic6\", \"Topic6\", \"Topic6\", \"Topic6\", \"Topic6\", \"Topic6\", \"Topic6\", \"Topic6\", \"Topic6\", \"Topic6\", \"Topic7\", \"Topic7\", \"Topic7\", \"Topic7\", \"Topic7\", \"Topic7\", \"Topic7\", \"Topic7\", \"Topic7\", \"Topic7\", \"Topic7\", \"Topic7\", \"Topic7\", \"Topic7\", \"Topic7\", \"Topic7\", \"Topic7\", \"Topic7\", \"Topic7\", \"Topic7\", \"Topic7\", \"Topic7\", \"Topic7\", \"Topic7\", \"Topic7\", \"Topic7\", \"Topic7\", \"Topic7\", \"Topic7\", \"Topic7\", \"Topic8\", \"Topic8\", \"Topic8\", \"Topic8\", \"Topic8\", \"Topic8\", \"Topic8\", \"Topic8\", \"Topic8\", \"Topic8\", \"Topic8\", \"Topic8\", \"Topic8\", \"Topic8\", \"Topic8\", \"Topic8\", \"Topic8\", \"Topic8\", \"Topic8\", \"Topic8\", \"Topic8\", \"Topic8\", \"Topic8\", \"Topic8\", \"Topic8\", \"Topic8\", \"Topic8\", \"Topic8\", \"Topic8\", \"Topic8\", \"Topic8\", \"Topic8\", \"Topic8\", \"Topic8\", \"Topic8\", \"Topic8\", \"Topic8\", \"Topic8\", \"Topic8\", \"Topic8\", \"Topic9\", \"Topic9\", \"Topic9\", \"Topic9\", \"Topic9\", \"Topic9\", \"Topic9\", \"Topic9\", \"Topic9\", \"Topic9\", \"Topic9\", \"Topic9\", \"Topic9\", \"Topic9\", \"Topic9\", \"Topic9\", \"Topic9\", \"Topic9\", \"Topic9\", \"Topic9\", \"Topic9\", \"Topic9\", \"Topic9\", \"Topic9\", \"Topic9\", \"Topic9\", \"Topic9\", \"Topic9\", \"Topic9\", \"Topic9\", \"Topic9\", \"Topic9\", \"Topic9\", \"Topic9\", \"Topic10\", \"Topic10\", \"Topic10\", \"Topic10\", \"Topic10\", \"Topic10\", \"Topic10\", \"Topic10\", \"Topic10\", \"Topic10\", \"Topic10\", \"Topic10\", \"Topic10\", \"Topic10\", \"Topic10\", \"Topic10\", \"Topic10\", \"Topic10\", \"Topic10\", \"Topic10\", \"Topic10\", \"Topic10\", \"Topic10\", \"Topic10\", \"Topic10\", \"Topic10\", \"Topic10\", \"Topic10\", \"Topic10\", \"Topic10\", \"Topic10\", \"Topic10\", \"Topic10\", \"Topic10\", \"Topic10\", \"Topic10\", \"Topic10\", \"Topic10\", \"Topic10\", \"Topic10\", \"Topic10\", \"Topic10\", \"Topic10\", \"Topic10\", \"Topic10\", \"Topic10\", \"Topic10\", \"Topic10\", \"Topic11\", \"Topic11\", \"Topic11\", \"Topic11\", \"Topic11\", \"Topic11\", \"Topic11\", \"Topic11\", \"Topic11\", \"Topic11\", \"Topic11\", \"Topic11\", \"Topic11\", \"Topic11\", \"Topic11\", \"Topic11\", \"Topic11\", \"Topic11\", \"Topic11\", \"Topic11\", \"Topic11\", \"Topic11\", \"Topic11\", \"Topic11\", \"Topic11\", \"Topic11\", \"Topic11\", \"Topic11\", \"Topic11\", \"Topic11\", \"Topic11\", \"Topic11\", \"Topic11\", \"Topic11\", \"Topic11\", \"Topic12\", \"Topic12\", \"Topic12\", \"Topic12\", \"Topic12\", \"Topic12\", \"Topic12\", \"Topic12\", \"Topic12\", \"Topic12\", \"Topic12\", \"Topic12\", \"Topic12\", \"Topic12\", \"Topic12\", \"Topic12\", \"Topic12\", \"Topic12\", \"Topic12\", \"Topic12\", \"Topic12\", \"Topic12\", \"Topic12\", \"Topic12\", \"Topic12\", \"Topic12\", \"Topic12\", \"Topic12\", \"Topic12\", \"Topic12\", \"Topic12\", \"Topic12\", \"Topic12\", \"Topic12\", \"Topic12\", \"Topic12\", \"Topic12\", \"Topic12\", \"Topic12\", \"Topic12\", \"Topic12\", \"Topic13\", \"Topic13\", \"Topic13\", \"Topic13\", \"Topic13\", \"Topic13\", \"Topic13\", \"Topic13\", \"Topic13\", \"Topic13\", \"Topic13\", \"Topic13\", \"Topic13\", \"Topic13\", \"Topic13\", \"Topic13\", \"Topic13\", \"Topic13\", \"Topic13\", \"Topic13\", \"Topic13\", \"Topic13\", \"Topic13\", \"Topic13\", \"Topic13\", \"Topic13\", \"Topic13\", \"Topic13\", \"Topic13\", \"Topic13\", \"Topic13\", \"Topic13\", \"Topic13\", \"Topic13\", \"Topic13\", \"Topic13\", \"Topic13\", \"Topic13\", \"Topic13\", \"Topic13\", \"Topic13\", \"Topic13\", \"Topic14\", \"Topic14\", \"Topic14\", \"Topic14\", \"Topic14\", \"Topic14\", \"Topic14\", \"Topic14\", \"Topic14\", \"Topic14\", \"Topic14\", \"Topic14\", \"Topic14\", \"Topic14\", \"Topic14\", \"Topic14\", \"Topic14\", \"Topic14\", \"Topic14\", \"Topic14\", \"Topic14\", \"Topic14\", \"Topic14\", \"Topic14\", \"Topic14\", \"Topic14\", \"Topic14\", \"Topic14\", \"Topic14\", \"Topic14\", \"Topic14\", \"Topic14\", \"Topic14\", \"Topic14\", \"Topic14\", \"Topic14\", \"Topic14\", \"Topic14\", \"Topic14\", \"Topic14\", \"Topic14\", \"Topic14\", \"Topic14\", \"Topic14\", \"Topic14\", \"Topic14\", \"Topic14\", \"Topic15\", \"Topic15\", \"Topic15\", \"Topic15\", \"Topic15\", \"Topic15\", \"Topic15\", \"Topic15\", \"Topic15\", \"Topic15\", \"Topic15\", \"Topic15\", \"Topic15\", \"Topic15\", \"Topic15\", \"Topic15\", \"Topic15\", \"Topic15\", \"Topic15\", \"Topic15\", \"Topic15\", \"Topic15\", \"Topic15\", \"Topic15\", \"Topic15\", \"Topic15\", \"Topic15\", \"Topic15\", \"Topic15\", \"Topic15\", \"Topic15\", \"Topic15\", \"Topic15\", \"Topic15\", \"Topic15\", \"Topic15\", \"Topic15\", \"Topic15\", \"Topic15\", \"Topic15\", \"Topic15\", \"Topic15\", \"Topic15\", \"Topic15\", \"Topic15\", \"Topic15\", \"Topic15\", \"Topic15\", \"Topic15\", \"Topic15\", \"Topic15\", \"Topic15\", \"Topic15\", \"Topic15\", \"Topic15\", \"Topic16\", \"Topic16\", \"Topic16\", \"Topic16\", \"Topic16\", \"Topic16\", \"Topic16\", \"Topic16\", \"Topic16\", \"Topic16\", \"Topic16\", \"Topic16\", \"Topic16\", \"Topic16\", \"Topic16\", \"Topic16\", \"Topic16\", \"Topic16\", \"Topic16\", \"Topic16\", \"Topic16\", \"Topic16\", \"Topic16\", \"Topic16\", \"Topic16\", \"Topic16\", \"Topic16\", \"Topic16\", \"Topic16\", \"Topic16\", \"Topic16\", \"Topic16\", \"Topic16\", \"Topic16\", \"Topic16\", \"Topic16\", \"Topic16\", \"Topic16\", \"Topic16\", \"Topic16\", \"Topic16\", \"Topic16\", \"Topic16\", \"Topic16\", \"Topic16\", \"Topic16\", \"Topic16\", \"Topic16\", \"Topic16\", \"Topic16\", \"Topic16\", \"Topic16\", \"Topic16\", \"Topic16\", \"Topic16\", \"Topic16\", \"Topic16\", \"Topic16\", \"Topic16\", \"Topic16\", \"Topic17\", \"Topic17\", \"Topic17\", \"Topic17\", \"Topic17\", \"Topic17\", \"Topic17\", \"Topic17\", \"Topic17\", \"Topic17\", \"Topic17\", \"Topic17\", \"Topic17\", \"Topic17\", \"Topic17\", \"Topic17\", \"Topic17\", \"Topic17\", \"Topic17\", \"Topic17\", \"Topic17\", \"Topic17\", \"Topic17\", \"Topic17\", \"Topic17\", \"Topic17\", \"Topic17\", \"Topic17\", \"Topic17\", \"Topic17\", \"Topic17\", \"Topic17\", \"Topic17\", \"Topic17\", \"Topic17\", \"Topic17\", \"Topic17\", \"Topic17\", \"Topic17\", \"Topic17\", \"Topic17\", \"Topic17\", \"Topic17\", \"Topic17\", \"Topic17\", \"Topic17\", \"Topic17\", \"Topic17\", \"Topic17\", \"Topic17\", \"Topic17\", \"Topic17\", \"Topic17\", \"Topic17\", \"Topic17\", \"Topic17\", \"Topic17\", \"Topic17\", \"Topic18\", \"Topic18\", \"Topic18\", \"Topic18\", \"Topic18\", \"Topic18\", \"Topic18\", \"Topic18\", \"Topic18\", \"Topic18\", \"Topic18\", \"Topic18\", \"Topic18\", \"Topic18\", \"Topic18\", \"Topic18\", \"Topic18\", \"Topic18\", \"Topic18\", \"Topic18\", \"Topic18\", \"Topic18\", \"Topic18\", \"Topic18\", \"Topic18\", \"Topic18\", \"Topic18\", \"Topic18\", \"Topic18\", \"Topic18\", \"Topic18\", \"Topic18\", \"Topic18\", \"Topic18\", \"Topic18\", \"Topic18\", \"Topic18\", \"Topic18\", \"Topic18\", \"Topic18\", \"Topic18\", \"Topic18\", \"Topic18\", \"Topic18\", \"Topic18\", \"Topic18\", \"Topic18\", \"Topic18\", \"Topic18\", \"Topic18\", \"Topic18\", \"Topic18\", \"Topic19\", \"Topic19\", \"Topic19\", \"Topic19\", \"Topic19\", \"Topic19\", \"Topic19\", \"Topic19\", \"Topic19\", \"Topic19\", \"Topic19\", \"Topic19\", \"Topic19\", \"Topic19\", \"Topic19\", \"Topic19\", \"Topic19\", \"Topic19\", \"Topic19\", \"Topic19\", \"Topic19\", \"Topic19\", \"Topic19\", \"Topic19\", \"Topic19\", \"Topic19\", \"Topic19\", \"Topic19\", \"Topic19\", \"Topic19\", \"Topic19\", \"Topic19\", \"Topic19\", \"Topic19\", \"Topic19\", \"Topic19\", \"Topic19\", \"Topic19\", \"Topic19\", \"Topic19\", \"Topic19\", \"Topic19\", \"Topic19\", \"Topic19\", \"Topic19\", \"Topic19\", \"Topic19\", \"Topic19\", \"Topic19\", \"Topic19\", \"Topic19\", \"Topic19\", \"Topic19\", \"Topic20\", \"Topic20\", \"Topic20\", \"Topic20\", \"Topic20\", \"Topic20\", \"Topic20\", \"Topic20\", \"Topic20\", \"Topic20\", \"Topic20\", \"Topic20\", \"Topic20\", \"Topic20\", \"Topic20\", \"Topic20\", \"Topic20\", \"Topic20\", \"Topic20\", \"Topic20\", \"Topic20\", \"Topic20\", \"Topic20\", \"Topic20\", \"Topic20\", \"Topic20\", \"Topic20\", \"Topic20\", \"Topic20\", \"Topic20\", \"Topic20\", \"Topic20\", \"Topic20\", \"Topic20\", \"Topic20\", \"Topic20\", \"Topic20\", \"Topic20\", \"Topic20\", \"Topic20\", \"Topic20\", \"Topic20\", \"Topic20\", \"Topic20\", \"Topic20\", \"Topic20\", \"Topic20\", \"Topic20\", \"Topic20\", \"Topic20\", \"Topic20\", \"Topic20\", \"Topic20\", \"Topic20\", \"Topic20\", \"Topic20\", \"Topic20\", \"Topic20\"], \"logprob\": [30.0, 29.0, 28.0, 27.0, 26.0, 25.0, 24.0, 23.0, 22.0, 21.0, 20.0, 19.0, 18.0, 17.0, 16.0, 15.0, 14.0, 13.0, 12.0, 11.0, 10.0, 9.0, 8.0, 7.0, 6.0, 5.0, 4.0, 3.0, 2.0, 1.0, -2.4068, -3.0782, -3.0782, -3.1296, -3.4026, -3.61, -3.7249, -3.7314, -3.8736, -3.9008, -3.952, -3.9665, -4.0398, -4.0407, -4.0748, -4.1348, -4.1848, -4.213, -4.2683, -4.3073, -4.3508, -4.5276, -4.5457, -4.6711, -4.7053, -4.7194, -4.7584, -4.7779, -4.7934, -4.8238, -4.4005, -3.3332, -4.5223, -2.4037, -2.9373, -3.0063, -3.2214, -3.4589, -3.4806, -3.7365, -3.7537, -3.8008, -3.8099, -3.9175, -3.9982, -4.1254, -4.16, -4.2018, -4.3021, -4.3125, -4.4453, -4.5364, -4.5918, -4.6108, -4.6383, -4.6583, -4.6911, -4.7198, -4.7363, -4.7645, -4.8079, -4.8178, -4.887, -2.851, -3.2367, -3.5169, -3.9692, -4.598, -2.3194, -2.3256, -2.643, -2.9473, -2.9672, -3.0448, -3.0778, -3.0937, -3.1791, -3.1809, -3.2233, -3.6398, -3.7139, -3.7816, -3.8923, -3.9079, -4.0419, -4.0584, -4.0855, -4.1238, -4.3998, -4.4356, -4.4561, -4.5324, -4.5453, -4.5799, -4.5922, -4.6253, -4.6493, -4.922, -1.7498, -2.2741, -2.2873, -2.3733, -2.4708, -2.5459, -2.8874, -3.3507, -3.4371, -3.5169, -3.5541, -4.0313, -4.0674, -4.2268, -4.3243, -4.3686, -4.3731, -4.511, -4.625, -4.7855, -4.9041, -4.9393, -4.9828, -5.496, -5.5288, -5.7146, -6.0296, -6.1562, -6.368, -6.8302, -1.0844, -1.7222, -2.5153, -2.7038, -2.7913, -3.4929, -3.6227, -3.8418, -3.8755, -4.0345, -4.1832, -4.2995, -4.3199, -4.3411, -4.3993, -4.5831, -4.7719, -4.7746, -4.9227, -5.0824, -5.3243, -5.807, -6.0916, -6.3717, -13.6996, -13.7009, -13.701, -13.7008, -13.701, -13.7006, -13.7009, -13.7008, -13.7009, -1.6921, -1.937, -2.6436, -3.244, -3.4513, -3.4627, -3.5137, -3.6247, -3.6711, -3.7112, -3.7776, -3.8151, -3.8283, -3.8584, -3.9236, -3.9452, -4.0141, -4.0202, -4.0331, -4.1837, -4.2786, -4.3473, -4.3528, -4.424, -4.4821, -4.6886, -4.6944, -4.7015, -4.7153, -4.8049, -1.9508, -2.1323, -2.1398, -2.5528, -2.7263, -2.8184, -2.9441, -3.1155, -3.4828, -3.526, -3.6014, -3.667, -3.7383, -3.8036, -3.8848, -4.019, -4.2273, -4.2972, -4.7865, -5.0007, -5.0767, -5.0877, -5.3529, -5.4364, -5.6522, -5.7014, -5.8192, -6.0247, -6.5461, -7.34, -1.336, -1.7776, -1.8718, -2.4824, -2.5861, -2.6918, -3.3497, -3.4819, -3.9479, -4.1342, -4.3054, -4.5028, -5.0641, -5.6642, -5.6991, -6.07, -6.1168, -6.3648, -13.5677, -13.5677, -13.5678, -13.5679, -13.5679, -13.5678, -13.5678, -13.5677, -13.5679, -13.5679, -13.5679, -13.5679, -13.5666, -13.5678, -13.5675, -13.5676, -13.5678, -13.5677, -13.5678, -13.5677, -13.5677, -13.5678, -1.6519, -1.74, -2.3168, -2.5957, -2.8923, -3.3171, -3.3654, -3.4192, -3.5464, -3.5537, -3.6121, -3.6569, -3.8978, -3.9137, -3.9266, -4.1666, -4.2897, -4.3618, -4.8615, -4.9606, -4.9671, -5.0306, -5.2819, -5.7052, -6.0873, -6.3736, -13.4499, -13.4501, -13.4502, -13.4501, -13.4489, -13.45, -13.4499, -13.4499, -1.392, -1.5189, -2.4896, -2.7086, -2.8042, -2.9856, -3.2146, -3.3565, -3.3692, -3.4517, -3.4719, -3.9932, -4.7763, -4.8584, -5.1212, -6.1009, -8.6846, -13.2812, -13.2811, -13.2812, -13.2811, -13.2812, -13.2812, -13.2811, -13.2811, -13.2812, -13.2812, -13.2812, -13.2812, -13.2812, -13.2811, -13.281, -13.281, -13.2809, -13.281, -13.281, -13.2811, -13.2811, -13.2801, -13.2811, -13.2809, -13.2808, -13.281, -13.281, -13.281, -13.281, -13.281, -13.281, -1.214, -2.2001, -2.6022, -2.6732, -2.7607, -3.0676, -3.2001, -3.3613, -3.4768, -3.8321, -3.8341, -3.8445, -3.9175, -4.0673, -4.0748, -4.4157, -4.4839, -4.6135, -4.8308, -4.8509, -5.1131, -5.1227, -5.2316, -5.9325, -6.042, -7.1782, -13.5789, -13.579, -13.579, -13.5791, -13.5789, -13.5788, -13.5779, -13.5788, -13.5789, -1.0295, -1.4332, -2.0075, -2.7942, -3.5212, -3.6363, -3.8216, -3.8327, -4.8425, -5.1065, -5.2244, -5.2581, -12.8757, -12.8768, -12.8772, -12.8769, -12.8772, -12.8772, -12.8772, -12.8773, -12.8773, -12.8773, -12.8773, -12.8773, -12.8773, -12.8772, -12.8772, -12.8773, -12.8773, -12.8773, -12.8772, -12.8771, -12.8771, -12.8772, -12.8771, -12.8771, -12.8772, -12.8772, -12.8772, -12.8772, -12.8772, -1.8453, -2.372, -2.4391, -2.4847, -2.6164, -2.6177, -2.6242, -2.6565, -3.3061, -3.4535, -3.5181, -3.6827, -3.7881, -3.816, -3.8402, -4.0157, -4.828, -4.8982, -6.7984, -13.1347, -13.1348, -13.1348, -13.1348, -13.1348, -13.1347, -13.1348, -13.1348, -13.1348, -13.1348, -13.1348, -13.1347, -13.1346, -13.1336, -13.1345, -13.1346, -13.1347, -13.1344, -13.1346, -13.1346, -13.1345, -13.1346, -13.1346, -0.4361, -2.0783, -3.1436, -3.2598, -3.8464, -4.0723, -4.3376, -4.7554, -5.1538, -12.9223, -12.9238, -12.9234, -12.9236, -12.9239, -12.9239, -12.9239, -12.9238, -12.9239, -12.9238, -12.9239, -12.9239, -12.924, -12.9238, -12.9239, -12.9239, -12.924, -12.9238, -12.9239, -12.9239, -12.924, -12.9239, -12.9238, -12.9238, -12.9239, -12.9237, -12.9239, -12.9238, -12.9238, -12.9238, -12.9238, -12.9238, -12.9238, -12.9238, -12.9238, -12.9238, -12.9238, -12.9238, -0.7485, -1.958, -2.2805, -2.4431, -3.3698, -3.6314, -3.849, -3.9113, -4.4795, -4.9501, -5.6861, -13.0318, -13.0319, -13.0319, -13.0319, -13.0319, -13.0319, -13.0319, -13.0319, -13.0319, -13.0319, -13.0319, -13.0319, -13.0319, -13.0319, -13.0319, -13.0319, -13.0319, -13.0319, -13.0319, -13.0319, -13.0319, -13.0319, -13.0318, -13.0318, -13.0318, -13.0317, -13.0318, -13.0318, -13.0316, -13.0308, -13.0317, -13.0318, -13.0317, -13.0318, -13.0316, -13.0317, -13.0318, -13.0318, -13.0318, -13.0317, -13.0318, -13.0318, -13.0318, -13.0318, -0.7244, -1.0949, -2.6115, -3.9517, -4.2663, -4.5918, -5.9188, -13.2018, -13.2018, -13.2019, -13.2019, -13.2019, -13.2018, -13.2019, -13.2019, -13.2019, -13.2019, -13.2019, -13.2019, -13.2019, -13.2019, -13.2019, -13.2019, -13.2018, -13.2019, -13.2019, -13.2019, -13.2019, -13.2019, -13.2019, -13.2019, -13.2019, -13.2019, -13.2019, -13.2019, -13.2019, -13.2018, -13.2017, -13.2018, -13.2019, -13.2019, -13.2019, -13.2018, -13.2018, -13.2019, -13.2019, -13.2018, -13.2018, -13.2018, -13.2018, -13.2015, -13.2018, -13.2018, -13.2018, -13.2018, -13.2018, -13.2018, -13.2018, -13.2018, -13.2018, -0.9662, -1.2267, -1.8094, -2.4708, -4.4114, -13.1311, -13.1313, -13.1312, -13.1313, -13.1313, -13.1313, -13.1313, -13.1313, -13.1313, -13.1313, -13.1313, -13.1313, -13.1313, -13.1312, -13.1313, -13.1313, -13.1313, -13.1313, -13.1313, -13.1313, -13.1313, -13.1313, -13.1313, -13.1313, -13.1313, -13.1313, -13.1312, -13.1311, -13.1313, -13.1311, -13.1311, -13.131, -13.1312, -13.1312, -13.1312, -13.1312, -13.1313, -13.1305, -13.1312, -13.1312, -13.1312, -13.1311, -13.1313, -13.1312, -13.1312, -13.1311, -13.1312, -13.1312, -13.1311, -13.1312, -13.1312, -13.1312, -13.1312, -1.0309, -1.8959, -2.2041, -2.5171, -3.2361, -3.587, -3.8884, -4.033, -4.2613, -4.5055, -4.536, -4.586, -4.6341, -4.6648, -5.4257, -12.4709, -12.4709, -12.471, -12.471, -12.471, -12.4709, -12.471, -12.471, -12.471, -12.471, -12.471, -12.471, -12.4709, -12.471, -12.471, -12.4709, -12.4707, -12.4709, -12.4706, -12.4708, -12.4707, -12.4699, -12.4708, -12.4709, -12.4709, -12.4708, -12.4708, -12.4709, -12.4709, -12.4706, -12.4708, -12.4708, -12.4708, -12.4708, -12.4708, -12.4708, -12.4708, -1.1721, -1.5609, -2.4409, -2.7267, -2.8276, -3.0933, -3.3805, -3.44, -3.8349, -4.2755, -5.0187, -5.5304, -12.6068, -12.6069, -12.6069, -12.6069, -12.607, -12.6069, -12.607, -12.607, -12.607, -12.607, -12.607, -12.6069, -12.607, -12.607, -12.607, -12.607, -12.607, -12.607, -12.607, -12.6068, -12.6069, -12.6069, -12.6068, -12.6069, -12.6069, -12.6068, -12.6068, -12.6066, -12.6068, -12.6068, -12.6069, -12.6067, -12.6068, -12.6067, -12.6062, -12.6068, -12.6068, -12.6068, -12.6068, -12.6068, -12.6068, -10.4104, -10.4104, -10.4104, -10.4104, -10.4104, -10.4104, -10.4104, -10.4104, -10.4104, -10.4104, -10.4104, -10.4104, -10.4104, -10.4104, -10.4104, -10.4104, -10.4104, -10.4104, -10.4104, -10.4104, -10.4104, -10.4104, -10.4104, -10.4104, -10.4104, -10.4104, -10.4104, -10.4104, -10.4104, -10.4104, -10.4104, -10.4104, -10.4104, -10.4104, -10.4104, -10.4104, -10.4104, -10.4104, -10.4104, -10.4104, -10.4104, -10.4104, -10.4104, -10.4104, -10.4104, -10.4104, -10.4104, -10.4104, -10.4104, -10.4104, -10.4104, -10.4104, -10.4104, -10.4104, -10.4104, -10.4104, -10.4104, -10.4104], \"loglift\": [30.0, 29.0, 28.0, 27.0, 26.0, 25.0, 24.0, 23.0, 22.0, 21.0, 20.0, 19.0, 18.0, 17.0, 16.0, 15.0, 14.0, 13.0, 12.0, 11.0, 10.0, 9.0, 8.0, 7.0, 6.0, 5.0, 4.0, 3.0, 2.0, 1.0, 1.1582, 1.1581, 1.1581, 1.1581, 1.1581, 1.1581, 1.1581, 1.1581, 1.1581, 1.1581, 1.1581, 1.1581, 1.1581, 1.1581, 1.1581, 1.1581, 1.1581, 1.1581, 1.1581, 1.158, 1.158, 1.158, 1.158, 1.158, 1.158, 1.158, 1.158, 1.158, 1.158, 1.1579, 1.1567, 0.9399, 1.0152, 1.3043, 1.3042, 1.3042, 1.3042, 1.3042, 1.3042, 1.3042, 1.3042, 1.3042, 1.3042, 1.3042, 1.3042, 1.3041, 1.3041, 1.3041, 1.3041, 1.3041, 1.3041, 1.3041, 1.3041, 1.3041, 1.3041, 1.304, 1.304, 1.304, 1.304, 1.304, 1.304, 1.304, 1.304, 1.2947, 1.2747, 1.2619, 1.1839, -0.325, 2.4757, 2.4757, 2.4757, 2.4756, 2.4756, 2.4756, 2.4756, 2.4756, 2.4756, 2.4756, 2.4756, 2.4755, 2.4755, 2.4754, 2.4754, 2.4754, 2.4753, 2.4753, 2.4753, 2.4753, 2.4752, 2.4751, 2.4751, 2.4751, 2.4751, 2.4751, 2.475, 2.475, 2.475, 2.4748, 3.147, 3.147, 3.147, 3.1469, 3.1469, 3.1469, 3.1468, 3.1467, 3.1467, 3.1466, 3.1466, 3.1463, 3.1463, 3.1461, 3.146, 3.146, 3.146, 3.1458, 3.1456, 3.1454, 3.1452, 3.1451, 3.145, 3.1436, 3.1435, 3.1428, 3.1412, 3.1404, 3.1388, 3.134, 3.322, 3.322, 3.3219, 3.3218, 3.3218, 3.3215, 3.3215, 3.3213, 3.3213, 3.3211, 3.321, 3.3209, 3.3208, 3.3208, 3.3207, 3.3204, 3.3201, 3.3201, 3.3198, 3.3194, 3.3186, 3.3165, 3.3147, 3.3123, 0.5508, 0.5507, 0.5506, 0.5506, 0.5506, 0.5506, 0.5506, 0.5506, 0.5505, 3.3811, 3.3811, 3.3809, 3.3807, 3.3806, 3.3806, 3.3806, 3.3805, 3.3805, 3.3804, 3.3804, 3.3804, 3.3804, 3.3803, 3.3803, 3.3802, 3.3802, 3.3802, 3.3802, 3.38, 3.3799, 3.3798, 3.3798, 3.3797, 3.3796, 3.3792, 3.3792, 3.3792, 3.3792, 3.379, 3.723, 3.723, 3.723, 3.7229, 3.7228, 3.7228, 3.7227, 3.7226, 3.7224, 3.7223, 3.7223, 3.7222, 3.7221, 3.7221, 3.722, 3.7218, 3.7215, 3.7213, 3.7202, 3.7194, 3.7191, 3.7191, 3.7178, 3.7174, 3.716, 3.7156, 3.7147, 3.7127, 3.7057, 3.6848, 3.7572, 3.7572, 3.7572, 3.757, 3.757, 3.7569, 3.7566, 3.7565, 3.756, 3.7557, 3.7554, 3.7549, 3.7532, 3.7497, 3.7495, 3.746, 3.7454, 3.7421, 0.6838, 0.6838, 0.6838, 0.6838, 0.6838, 0.6838, 0.6838, 0.6838, 0.6838, 0.6838, 0.6838, 0.6838, 0.6837, 0.6837, 0.6837, 0.6837, 0.6837, 0.6837, 0.6837, 0.6837, 0.6837, 0.6837, 3.8675, 3.8675, 3.8674, 3.8673, 3.8671, 3.8669, 3.8668, 3.8668, 3.8667, 3.8666, 3.8666, 3.8665, 3.8662, 3.8662, 3.8662, 3.8658, 3.8655, 3.8654, 3.8639, 3.8635, 3.8634, 3.8632, 3.8619, 3.8589, 3.8548, 3.8505, 0.8015, 0.8015, 0.8015, 0.8014, 0.8014, 0.8014, 0.8014, 0.8014, 3.8814, 3.8814, 3.8812, 3.8811, 3.881, 3.881, 3.8808, 3.8807, 3.8807, 3.8806, 3.8806, 3.8799, 3.878, 3.8777, 3.8766, 3.8684, 3.7201, 0.9705, 0.9705, 0.9705, 0.9705, 0.9705, 0.9705, 0.9705, 0.9705, 0.9705, 0.9705, 0.9705, 0.9705, 0.9705, 0.9705, 0.9705, 0.9705, 0.9705, 0.9705, 0.9705, 0.9705, 0.9705, 0.9702, 0.9705, 0.9704, 0.9704, 0.9705, 0.9704, 0.9705, 0.9705, 0.9705, 0.9704, 3.8994, 3.8992, 3.8991, 3.8991, 3.899, 3.8988, 3.8987, 3.8986, 3.8985, 3.8981, 3.8981, 3.8981, 3.898, 3.8977, 3.8977, 3.897, 3.8968, 3.8964, 3.8957, 3.8956, 3.8944, 3.8944, 3.8938, 3.888, 3.8867, 3.8601, 0.6726, 0.6726, 0.6726, 0.6726, 0.6725, 0.6725, 0.6724, 0.6725, 0.6725, 3.9916, 3.9915, 3.9914, 3.9911, 3.9906, 3.9904, 3.9902, 3.9902, 3.9876, 3.9863, 3.9857, 3.9855, 1.3747, 1.3745, 1.3744, 1.3744, 1.3744, 1.3744, 1.3744, 1.3744, 1.3744, 1.3744, 1.3744, 1.3744, 1.3743, 1.3743, 1.3743, 1.3743, 1.3743, 1.3743, 1.3743, 1.3743, 1.3743, 1.3743, 1.3743, 1.3743, 1.3743, 1.3743, 1.3743, 1.3743, 1.3743, 4.0351, 4.035, 4.035, 4.0349, 4.0349, 4.0349, 4.0349, 4.0349, 4.0344, 4.0343, 4.0342, 4.034, 4.0338, 4.0338, 4.0338, 4.0334, 4.031, 4.0307, 4.0048, 1.117, 1.1169, 1.1169, 1.1169, 1.1169, 1.1169, 1.1169, 1.1169, 1.1169, 1.1169, 1.1169, 1.1169, 1.1169, 1.1167, 1.1168, 1.1169, 1.1169, 1.1168, 1.1169, 1.1168, 1.1168, 1.1168, 1.1168, 4.1204, 4.1201, 4.1196, 4.1195, 4.1187, 4.1183, 4.1176, 4.1161, 4.114, 1.328, 1.3278, 1.3278, 1.3278, 1.3278, 1.3277, 1.3277, 1.3277, 1.3277, 1.3277, 1.3277, 1.3277, 1.3277, 1.3277, 1.3277, 1.3277, 1.3277, 1.3277, 1.3277, 1.3277, 1.3277, 1.3277, 1.3277, 1.3277, 1.3277, 1.3277, 1.3277, 1.3277, 1.3277, 1.3277, 1.3277, 1.3277, 1.3277, 1.3276, 1.3277, 1.3277, 1.3277, 1.3277, 4.392, 4.3917, 4.3916, 4.3915, 4.3906, 4.3902, 4.3897, 4.3896, 4.3877, 4.385, 4.3774, 1.2198, 1.2198, 1.2198, 1.2198, 1.2198, 1.2198, 1.2198, 1.2198, 1.2198, 1.2198, 1.2198, 1.2198, 1.2198, 1.2198, 1.2198, 1.2198, 1.2198, 1.2198, 1.2198, 1.2198, 1.2198, 1.2198, 1.2198, 1.2198, 1.2198, 1.2198, 1.2198, 1.2198, 1.2197, 1.2195, 1.2198, 1.2198, 1.2197, 1.2197, 1.2196, 1.2197, 1.2197, 1.2198, 1.2197, 1.2197, 1.2197, 1.2197, 1.2197, 1.2197, 4.476, 4.4759, 4.4753, 4.4732, 4.4722, 4.4707, 4.4558, 1.05, 1.0499, 1.0498, 1.0498, 1.0498, 1.0498, 1.0498, 1.0498, 1.0498, 1.0498, 1.0498, 1.0498, 1.0498, 1.0498, 1.0498, 1.0498, 1.0498, 1.0498, 1.0498, 1.0498, 1.0498, 1.0498, 1.0498, 1.0498, 1.0498, 1.0498, 1.0498, 1.0498, 1.0498, 1.0497, 1.0497, 1.0498, 1.0498, 1.0498, 1.0498, 1.0497, 1.0497, 1.0498, 1.0498, 1.0497, 1.0497, 1.0497, 1.0497, 1.0489, 1.0497, 1.0496, 1.0495, 1.0496, 1.0495, 1.0496, 1.0496, 1.0497, 1.0497, 4.5315, 4.5314, 4.5313, 4.5309, 4.5269, 1.1205, 1.1205, 1.1204, 1.1204, 1.1204, 1.1204, 1.1204, 1.1204, 1.1204, 1.1204, 1.1204, 1.1204, 1.1204, 1.1204, 1.1204, 1.1204, 1.1204, 1.1204, 1.1204, 1.1204, 1.1204, 1.1204, 1.1204, 1.1204, 1.1204, 1.1204, 1.1204, 1.1204, 1.1204, 1.1204, 1.1204, 1.1204, 1.1204, 1.1204, 1.1204, 1.1204, 1.1204, 1.1198, 1.1203, 1.1203, 1.1203, 1.1203, 1.1204, 1.1203, 1.1203, 1.1202, 1.1203, 1.1203, 1.1201, 1.1203, 1.1203, 1.1203, 1.1203, 4.5326, 4.5324, 4.5323, 4.5321, 4.5313, 4.5307, 4.53, 4.5296, 4.5288, 4.5277, 4.5275, 4.5273, 4.527, 4.5268, 4.5201, 1.7808, 1.7808, 1.7807, 1.7807, 1.7807, 1.7807, 1.7807, 1.7807, 1.7807, 1.7807, 1.7807, 1.7807, 1.7807, 1.7807, 1.7807, 1.7807, 1.7807, 1.7807, 1.7807, 1.7807, 1.7807, 1.7804, 1.7807, 1.7807, 1.7807, 1.7807, 1.7807, 1.7807, 1.7807, 1.7806, 1.7807, 1.7807, 1.7807, 1.7806, 1.7807, 1.7807, 1.7807, 4.5661, 4.566, 4.5656, 4.5654, 4.5653, 4.565, 4.5645, 4.5644, 4.5635, 4.562, 4.5574, 4.5515, 1.6448, 1.6448, 1.6448, 1.6448, 1.6448, 1.6448, 1.6448, 1.6448, 1.6448, 1.6448, 1.6448, 1.6448, 1.6448, 1.6448, 1.6448, 1.6448, 1.6448, 1.6448, 1.6448, 1.6447, 1.6448, 1.6448, 1.6447, 1.6447, 1.6447, 1.6447, 1.6447, 1.6446, 1.6447, 1.6447, 1.6447, 1.6446, 1.6447, 1.6446, 1.6442, 1.6446, 1.6447, 1.6447, 1.6447, 1.6446, 1.6446, 3.8414, 3.8414, 3.8414, 3.8414, 3.8414, 3.8414, 3.8414, 3.8414, 3.8414, 3.8414, 3.8414, 3.8414, 3.8414, 3.8414, 3.8414, 3.8414, 3.8414, 3.8414, 3.8414, 3.8414, 3.8414, 3.8414, 3.8414, 3.8414, 3.8414, 3.8414, 3.8414, 3.8414, 3.8414, 3.8414, -5.3171, -4.448, -2.9226, -4.2321, -3.8767, -4.311, -4.0607, -4.4114, -5.5274, -4.8042, -5.108, -5.5136, -3.8908, -2.9499, -1.6036, -3.7436, -5.2963, -2.8036, -4.984, -6.1226, -1.6146, -4.8902, -3.1605, -2.6348, -6.8454, -1.4721, 3.8414, 0.9128]}, \"token.table\": {\"Topic\": [1, 13, 18, 4, 1, 8, 6, 18, 1, 9, 2, 1, 8, 4, 7, 12, 9, 11, 3, 5, 6, 7, 10, 3, 4, 15, 5, 16, 19, 14, 4, 18, 15, 7, 11, 3, 13, 11, 10, 4, 9, 15, 6, 1, 2, 5, 8, 1, 2, 14, 5, 11, 1, 4, 15, 15, 3, 3, 12, 2, 9, 4, 11, 4, 6, 15, 4, 3, 8, 15, 16, 11, 19, 14, 5, 8, 3, 4, 7, 13, 7, 5, 11, 15, 11, 7, 16, 6, 15, 7, 10, 12, 19, 5, 4, 12, 18, 1, 7, 8, 7, 13, 1, 2, 3, 5, 11, 2, 2, 9, 5, 4, 3, 1, 18, 1, 2, 10, 3, 11, 10, 18, 7, 13, 6, 12, 13, 1, 14, 2, 7, 9, 6, 13, 1, 1, 2, 13, 17, 2, 1, 4, 18, 7, 2, 5, 19, 1, 7, 6, 10, 3, 8, 7, 2, 10, 19, 18, 1, 5, 11, 18, 6, 8, 3, 3, 4, 9, 9, 10, 4, 4, 2, 2, 6, 2, 9, 2, 2, 11, 3, 3, 8, 8, 19, 3, 2, 4, 13, 3, 6, 11, 13, 17, 16, 2, 5, 1, 4, 3, 1, 19, 9, 1, 6, 8, 3, 11, 6, 7, 8, 17, 1, 14, 12, 2, 16, 10, 1, 2, 9, 4, 3, 7, 3, 3, 1, 6, 11, 10, 4, 8, 4, 5, 9, 6, 16, 13, 7, 9, 1, 2, 6, 3, 18, 3, 12, 5, 3, 15, 2, 5, 12, 12, 1, 11, 5, 6, 6, 5, 19, 7, 2, 9, 6, 5, 10, 11, 4, 6, 11, 11, 11, 6, 19, 13, 11, 15, 13, 1, 18, 2, 2, 13, 7, 7, 12, 9, 18, 8, 9, 2, 2, 7, 11, 9, 18, 2, 19, 2, 1, 5, 5, 1, 10, 6, 8, 16, 3, 6, 3, 2, 10, 4, 2, 5, 19, 13, 4, 6, 3, 11, 2, 7, 9, 11, 6, 4, 9, 1, 6, 9, 1, 7, 10, 9, 9, 4, 10, 18, 13, 6, 17, 7, 7, 8, 9, 7, 5, 11, 2, 2, 4, 8, 13, 10, 4, 14, 14, 1, 1, 2, 6, 14, 1, 6, 7, 12, 7, 13, 7, 14, 2, 5, 12, 6, 13, 1, 1, 2, 10, 19, 9, 8, 3, 17, 1, 5, 18, 11, 7, 1, 9, 9, 3, 1, 4, 4], \"Freq\": [0.9998480187201888, 0.998482327021664, 0.9993746309074479, 0.9997507838959607, 0.9997178199660027, 0.9897178775135044, 0.9987138041072741, 0.9982488507172436, 0.9998221770830609, 0.9984308726142954, 0.9998548711877933, 0.9999070462255661, 0.9917164266920017, 0.9996987697342329, 0.9996338336359655, 0.9989587741367084, 0.9920771495185495, 0.9981702422025424, 0.9993937184738774, 0.9986816209330456, 0.9993855453686931, 0.9991579408314717, 0.9993031619378228, 0.9998057202596982, 0.9998642292806267, 0.9951822285105997, 0.9999448997049499, 0.9939793838132409, 0.9985175950832862, 0.9924664658670713, 0.9937074078594994, 0.9950894934068105, 0.9978572515929574, 0.9971916560058504, 0.9996810572993161, 0.9994294606978199, 0.995332681691781, 0.9996824388021291, 0.9989372502240725, 0.998644095904189, 0.9991074229767599, 0.9836034560929492, 0.9992166854974873, 0.009521009383396966, 0.9904423004512141, 0.9992896092230041, 0.9918803047161884, 0.9998384981060711, 0.9997567920764661, 0.9988098607733746, 0.9971531908177679, 0.9931322985980722, 0.9998680656485521, 0.9976334970646719, 0.9996438296493845, 0.9996209295323024, 0.9995825004459827, 0.9997751974408186, 0.9998269628814939, 0.9996528564732724, 0.9995721381306321, 0.9958598977001887, 0.9985974007117054, 0.9993524043583271, 0.9988414974628245, 0.9991646611858674, 0.996125940062741, 0.9991888156502686, 0.9843434723390186, 0.9998705930227216, 0.9948650342787437, 0.9944053066965551, 0.9995678388484871, 0.9971554594936098, 0.9912000938658454, 0.9988053037772295, 0.9998719428554986, 0.9895688877363564, 0.9986377023822428, 0.9996315838171362, 0.9893756777969939, 0.9981462407838482, 0.9982622925256404, 0.9980897532408961, 0.997295654974639, 0.9859658736946955, 0.988217574179932, 0.9986637997003598, 0.9985890112483782, 0.9993928851876195, 0.9994817515954877, 0.9997071648213267, 0.9992095502696983, 0.9975004170984917, 0.9988014962611305, 0.9949956121123057, 0.9965865843807643, 0.9996617585043525, 0.9951908301770378, 0.9996796194022541, 0.994573157250437, 0.9731971665600956, 0.8038948515319281, 0.19607802538793614, 0.9997556089875854, 0.9981709267778869, 0.9988097004530123, 0.9980851601028213, 0.9999085369928816, 0.9969935093376822, 0.996647607558751, 0.9983774930769653, 0.9992834078829954, 0.9998652453616335, 0.9996169435579306, 0.9985559193410024, 0.0013571433515658445, 0.9992962188636613, 0.9999013183672508, 0.9999278581837254, 0.992869707758431, 0.9835701766719186, 0.9993979332224057, 0.9971126945933563, 0.9998622678715462, 0.9995041484468461, 0.9998267789362432, 0.999918165000237, 0.9983399796177931, 0.9999088749633708, 0.9997664614317472, 0.9948337522882761, 0.9987654759188748, 0.9997109686542336, 0.9999771061178933, 0.11335354981986581, 0.8865938838930357, 0.9994153893115072, 0.9931740936910124, 0.99996838796462, 0.9999246040139234, 0.9986215216477058, 0.991776782814071, 0.9998170305045486, 0.9999238265225638, 0.9995271802670888, 0.9879224353948698, 0.9998052776564942, 0.9955003319248434, 0.9979543440540504, 0.9979674720831151, 0.9996308170311617, 0.9998828648167485, 0.9987982554389072, 0.9997729502870665, 0.9991834602777303, 0.9993128935723038, 0.9978322410500828, 0.9998029103542888, 0.9997640163013792, 0.9995072075055442, 0.9989877929191293, 0.9992000633390472, 0.9974551944978821, 0.9998883664625415, 0.999540916076285, 0.999075900860097, 0.9962741634319113, 0.998654411052905, 0.9980400093260509, 0.9983561177139303, 0.9989555230838904, 0.9999257689975286, 0.9998334169050597, 0.9986188192616882, 0.9998804396463812, 0.998930394110048, 0.9997928786217215, 0.9998493544738203, 0.999079748342596, 0.9994971831000424, 0.9994098436812313, 0.9998194287906497, 0.9996716986716883, 0.998395597732262, 0.99966132935998, 0.9997350024779966, 0.9993138758758925, 0.9986501202684978, 0.9997000443139266, 0.999607547139582, 0.9776768808379697, 0.9990576579088378, 0.9997339436732618, 0.9998364850527108, 0.9997224947763368, 0.9982833687093535, 0.9999148853206334, 0.9998721285892703, 0.999720834209059, 0.9998332423803215, 0.9996291997288584, 0.999418487716096, 0.9999609334455265, 0.9989275397383702, 0.9998808999069771, 0.999372544021695, 0.9984904994281065, 0.9995594076643568, 0.9958796242475, 0.9976607860258901, 0.9995440609182522, 0.9999320251516223, 0.9999345467290681, 0.9998773082384316, 0.9997968113617789, 0.999000615598969, 0.9998690237869472, 0.9999550721050839, 0.9996029333498371, 0.9993905931521812, 0.9998187729492861, 0.9993936330963444, 0.9963201068787318, 0.9997485961410562, 0.999772822274126, 0.9998996093214646, 0.9991811446456568, 0.9992716096537813, 0.851875155597185, 0.9957544888565087, 0.9994016995593099, 0.9993399466440458, 0.999855683330625, 0.9990886077917126, 0.9996313746061057, 0.9977715397800196, 0.9987801652279547, 0.9997761812171696, 0.9998052226767421, 0.02904124797094946, 0.9708679978609381, 0.9983767158844058, 0.9996385176480226, 0.9929711785018532, 0.9992659462499186, 0.9987344559939021, 0.9988374029243946, 0.99989297292745, 0.998067147540029, 0.9999397779429029, 0.9925176207193458, 0.9947438441434783, 0.9927657607041434, 0.9997662523804433, 0.9996107987382762, 0.9907052083865794, 0.9989377794742664, 0.9972837605861039, 0.9991843585370002, 0.9997301802972572, 0.9987890611087196, 0.9998992624512991, 0.9981719592756226, 0.9985738186922783, 0.9991746945924349, 0.9821388839802895, 0.9930483904346353, 0.9990779536395543, 0.9998268165263253, 0.9955508009670262, 0.9984898452515598, 0.9991971179889815, 0.999670080091461, 0.994261098526591, 0.9994579103354685, 0.9975067008576036, 0.9956292175268351, 0.9987707856333035, 0.999891816979724, 0.999794871657824, 0.9998970603251879, 0.9998528043244974, 0.9997464845598724, 0.9950355617733649, 0.9947342424715219, 0.9984177193078351, 0.9784738680156879, 0.9957946130775558, 0.9986235026956941, 0.9967477388397717, 0.9998597929205101, 0.9628239621757628, 0.9993747434134075, 0.9908375944926898, 0.9996102045810865, 0.9973414045453652, 0.9999736948924308, 0.9901189263416147, 0.9996930157895704, 0.9999036499221398, 0.9993504108478363, 0.9984250625502457, 0.9997266473915948, 0.999341875761297, 0.9999010466293531, 0.9829344575509436, 0.9998601935785537, 0.9993100062751469, 0.9988237855080906, 0.9998877788411369, 0.9998416018144018, 0.999745313955161, 0.9998161121816522, 0.9996939638882496, 0.9994062622191761, 0.9985707039269446, 0.9994601038703734, 0.9985777977798196, 0.9991622733564699, 0.9991996378697726, 0.9990467809781096, 0.9999186346798635, 0.9997375473709793, 0.9964830041531267, 0.9977026221029015, 0.9993537901867551, 0.9989813593358053, 0.9989292654804887, 0.9998674179880158, 0.9972709949177018, 0.9973010620855668, 0.999873554023885, 0.9987149249381854, 0.9991796211642807, 0.9998008447854043, 0.9991914156639773, 0.9999412517961452, 0.999845622684435, 0.9945567370925011, 0.998992213050085, 0.9994341568423158, 0.9993262422855975, 0.9894113015559758, 0.9994281745129019, 0.9977936233613448, 0.9982068352000452, 0.9988432031325026, 0.999885398125976, 0.9855899691989302, 0.9998228796696927, 0.9999453699084292, 0.9965967683050789, 0.9968403432089044, 0.9996285610183823, 0.9961286672978789, 0.9943074746660592, 0.9995798405968015, 0.9953922075512905, 0.9998877464848328, 0.8666813745748883, 0.13306264706881601, 0.9993330316195448, 0.9989878579023119, 0.9999387291907482, 0.999414684436369, 0.9990290050731909, 0.9985733144231218, 0.9645469266831768, 0.9989663778372644, 0.9986246095271624, 0.9985756119952768, 0.9999408577271582, 0.998625424772936, 0.9935802548020602, 0.9986496776024435, 0.9996038909658305, 0.9999164893957242, 0.04140328028082477, 0.9585067093774885, 0.9988120882310458, 0.9974928651983801, 0.9965900125325561, 0.9996398311528053, 0.9993338141555722, 0.9998993759147163, 0.9999571250246247, 0.9998600709224073, 0.9938850737018948, 0.9967301390294705, 0.9995862828896823, 0.99988954419194, 0.9952901612712595, 0.9988555600239162, 0.9998925755175349, 0.9997918397514814, 0.9993689601740364, 0.9999150838283436], \"Term\": [\"able\", \"absolute\", \"absolutely\", \"account\", \"actually\", \"advise\", \"ai\", \"aim\", \"almost\", \"alone\", \"already\", \"also\", \"alt\", \"always\", \"amazing\", \"annoy\", \"annoyed\", \"annoying\", \"anymore\", \"appeal\", \"attempt\", \"avoid\", \"awful\", \"back\", \"bad\", \"balance\", \"ban\", \"bank\", \"barely\", \"be\", \"billion\", \"boat\", \"boot\", \"boy\", \"break\", \"bring\", \"btw\", \"bug\", \"buggy\", \"build\", \"bullshit\", \"bully\", \"bunch\", \"buy\", \"buy\", \"buying\", \"cage\", \"car\", \"care\", \"case\", \"cash_grab\", \"casino\", \"character\", \"cheap\", \"cheat\", \"cheater\", \"close\", \"come\", \"community\", \"company\", \"computer\", \"concept\", \"connect\", \"connection\", \"constant\", \"control\", \"corner\", \"couple\", \"cow\", \"crash\", \"crazy\", \"credit\", \"cur\", \"cut\", \"d\", \"damn\", \"day\", \"dear\", \"decent\", \"decide\", \"dedicate\", \"delete\", \"design\", \"devs\", \"dick\", \"difficulty\", \"dime\", \"disappoint\", \"disappointed\", \"disconnect\", \"download\", \"due\", \"easy\", \"enable\", \"endless\", \"endlessly\", \"enemy\", \"enjoy\", \"epic\", \"error\", \"essentially\", \"eternity\", \"even\", \"even\", \"ever\", \"everytime\", \"everywhere\", \"exist\", \"experience\", \"extra\", \"false\", \"fantastic\", \"feature\", \"feel\", \"finally\", \"find\", \"find\", \"finish\", \"first\", \"fix\", \"flying_bike\", \"forth\", \"free\", \"freemode\", \"friend\", \"fuck\", \"full\", \"fun\", \"function\", \"game\", \"gameplay\", \"gaming_industry\", \"garage\", \"garbage\", \"get\", \"give\", \"give\", \"glitch\", \"glitchy\", \"go\", \"good\", \"grab\", \"grant\", \"graphic\", \"great\", \"greedy\", \"greifer\", \"grind\", \"grinding\", \"group\", \"gta\", \"guy\", \"hacker\", \"handle\", \"happen\", \"hate\", \"hear\", \"heavy\", \"heist\", \"help\", \"high\", \"hit\", \"horrible\", \"host\", \"hour\", \"however\", \"idea\", \"incredible\", \"install\", \"interest\", \"interesting\", \"internet\", \"issue\", \"join\", \"joke\", \"keep\", \"keyboard\", \"kill\", \"know\", \"lag\", \"last\", \"later\", \"launch\", \"launcher\", \"lead\", \"leave\", \"let\", \"level\", \"lie\", \"life\", \"like\", \"limitation\", \"line\", \"load\", \"loading\", \"lobby\", \"lol\", \"long\", \"look\", \"lose\", \"lot\", \"love\", \"m\", \"make\", \"manage\", \"many\", \"maybe\", \"mechanic\", \"menu\", \"mid\", \"milk\", \"minute\", \"mission\", \"mod\", \"modde\", \"modder\", \"modding\", \"mode\", \"money\", \"month\", \"mouse\", \"multiplayer\", \"multiple\", \"music\", \"need\", \"never\", \"new\", \"next\", \"nice\", \"obsolete\", \"official\", \"offline\", \"old\", \"open\", \"order\", \"other\", \"pass\", \"passive\", \"patch\", \"pay\", \"people\", \"people\", \"perfect\", \"person\", \"pistol\", \"place\", \"plan\", \"platform\", \"play\", \"playable\", \"player\", \"playstation\", \"playtime\", \"plot\", \"point\", \"port\", \"pos\", \"potential\", \"power\", \"previous\", \"price\", \"private\", \"problem\", \"program\", \"properly\", \"provide\", \"pump\", \"pure\", \"push\", \"put\", \"pvp\", \"quickly\", \"quit\", \"race\", \"radio\", \"randomly\", \"rate\", \"re\", \"ready\", \"really\", \"reason\", \"recommend\", \"release\", \"remove\", \"replay\", \"replayability\", \"reset\", \"resort\", \"respawn\", \"restart\", \"retard\", \"review\", \"ridden\", \"ridiculous\", \"ridiculously\", \"right\", \"rock\", \"rockstar\", \"rubbish\", \"ruin\", \"run\", \"sad\", \"sadly\", \"sale\", \"save\", \"say\", \"scratch\", \"screen\", \"screw\", \"script\", \"see\", \"seem\", \"sell\", \"server\", \"session\", \"shark\", \"shark_card\", \"shoot\", \"sign\", \"simple\", \"simply\", \"simulator\", \"single\", \"singleplayer\", \"slowly\", \"social\", \"sometimes\", \"sorry\", \"spec\", \"spend\", \"stable\", \"star\", \"start\", \"state\", \"stay\", \"steam\", \"stick\", \"still\", \"story\", \"struggle\", \"stuck\", \"stuff\", \"stupid\", \"stupidly\", \"suck\", \"suddenly\", \"suggest\", \"super\", \"support\", \"survive\", \"system\", \"take\", \"technical\", \"teleport\", \"terrible\", \"terribly\", \"text\", \"thank\", \"therefore\", \"thing\", \"think\", \"think\", \"though\", \"thumb\", \"time\", \"title\", \"together\", \"toxic\", \"toxicity\", \"trash\", \"true\", \"truly\", \"try\", \"type\", \"unbalanced\", \"understand\", \"unplayable\", \"update\", \"use\", \"use\", \"useless\", \"utter\", \"verify\", \"version\", \"video\", \"wait\", \"want\", \"waste\", \"wave\", \"website\", \"week\", \"well\", \"willing\", \"win\", \"work\", \"worth\", \"wrong\", \"year\"]}, \"R\": 30, \"lambda.step\": 0.01, \"plot.opts\": {\"xlab\": \"PC1\", \"ylab\": \"PC2\"}, \"topic.order\": [14, 10, 5, 19, 11, 18, 6, 2, 8, 3, 4, 7, 20, 16, 12, 9, 15, 1, 17, 13]};\n",
       "\n",
       "function LDAvis_load_lib(url, callback){\n",
       "  var s = document.createElement('script');\n",
       "  s.src = url;\n",
       "  s.async = true;\n",
       "  s.onreadystatechange = s.onload = callback;\n",
       "  s.onerror = function(){console.warn(\"failed to load library \" + url);};\n",
       "  document.getElementsByTagName(\"head\")[0].appendChild(s);\n",
       "}\n",
       "\n",
       "if(typeof(LDAvis) !== \"undefined\"){\n",
       "   // already loaded: just create the visualization\n",
       "   !function(LDAvis){\n",
       "       new LDAvis(\"#\" + \"ldavis_el76370122219103683776094815\", ldavis_el76370122219103683776094815_data);\n",
       "   }(LDAvis);\n",
       "}else if(typeof define === \"function\" && define.amd){\n",
       "   // require.js is available: use it to load d3/LDAvis\n",
       "   require.config({paths: {d3: \"https://d3js.org/d3.v5\"}});\n",
       "   require([\"d3\"], function(d3){\n",
       "      window.d3 = d3;\n",
       "      LDAvis_load_lib(\"https://cdn.jsdelivr.net/gh/bmabey/pyLDAvis@3.3.1/pyLDAvis/js/ldavis.v3.0.0.js\", function(){\n",
       "        new LDAvis(\"#\" + \"ldavis_el76370122219103683776094815\", ldavis_el76370122219103683776094815_data);\n",
       "      });\n",
       "    });\n",
       "}else{\n",
       "    // require.js not available: dynamically load d3 & LDAvis\n",
       "    LDAvis_load_lib(\"https://d3js.org/d3.v5.js\", function(){\n",
       "         LDAvis_load_lib(\"https://cdn.jsdelivr.net/gh/bmabey/pyLDAvis@3.3.1/pyLDAvis/js/ldavis.v3.0.0.js\", function(){\n",
       "                 new LDAvis(\"#\" + \"ldavis_el76370122219103683776094815\", ldavis_el76370122219103683776094815_data);\n",
       "            })\n",
       "         });\n",
       "}\n",
       "</script>"
      ],
      "text/plain": [
       "PreparedData(topic_coordinates=              x         y  topics  cluster       Freq\n",
       "topic                                                \n",
       "13    -0.291646 -0.202501       1        1  31.405394\n",
       "9     -0.290442 -0.195585       2        1  27.136720\n",
       "4     -0.161206  0.337740       3        1   8.409903\n",
       "18    -0.083167  0.132891       4        1   4.297670\n",
       "10    -0.036703  0.064136       5        1   3.607744\n",
       "17    -0.044615  0.073357       6        1   3.400740\n",
       "5     -0.005489  0.029360       7        1   2.415658\n",
       "1     -0.016367  0.041069       8        1   2.334614\n",
       "7      0.004268  0.020213       9        1   2.090695\n",
       "2      0.030759 -0.001686      10        1   2.061909\n",
       "3     -0.016796  0.041139      11        1   2.025206\n",
       "6      0.095396 -0.041549      12        1   1.846882\n",
       "19     0.055317 -0.019159      13        1   1.767932\n",
       "15     0.087734 -0.037595      14        1   1.623731\n",
       "11     0.070829 -0.028376      15        1   1.237500\n",
       "8      0.042355 -0.009833      16        1   1.137795\n",
       "14     0.053798 -0.017604      17        1   1.076305\n",
       "0      0.152906 -0.064065      18        1   1.075078\n",
       "16     0.134978 -0.058195      19        1   1.039681\n",
       "12     0.218092 -0.063754      20        1   0.008843, topic_info=         Term          Freq         Total Category  logprob  loglift\n",
       "441       mod  18038.000000  18038.000000  Default  30.0000  30.0000\n",
       "34        ban  20958.000000  20958.000000  Default  29.0000  29.0000\n",
       "26        get  48620.000000  48620.000000  Default  28.0000  28.0000\n",
       "62   rockstar  42144.000000  42144.000000  Default  27.0000  27.0000\n",
       "219     modde  11335.000000  11335.000000  Default  26.0000  26.0000\n",
       "..        ...           ...           ...      ...      ...      ...\n",
       "25      exist      0.004576    721.381330  Topic20 -10.4104  -2.6348\n",
       "26        get      0.004576  48620.113103  Topic20 -10.4104  -6.8454\n",
       "27    glitchy      0.004576    225.539512  Topic20 -10.4104  -1.4721\n",
       "28    mislead      0.004576      1.110733  Topic20 -10.4104   3.8414\n",
       "29     ridden      0.004576     20.772229  Topic20 -10.4104   0.9128\n",
       "\n",
       "[874 rows x 6 columns], token_table=      Topic      Freq        Term\n",
       "term                             \n",
       "316       1  0.999848        able\n",
       "139      13  0.998482    absolute\n",
       "65       18  0.999375  absolutely\n",
       "58        4  0.999751     account\n",
       "101       1  0.999718    actually\n",
       "...     ...       ...         ...\n",
       "167       9  0.998856         win\n",
       "314       3  0.999893        work\n",
       "238       1  0.999792       worth\n",
       "684       4  0.999369       wrong\n",
       "407       4  0.999915        year\n",
       "\n",
       "[398 rows x 3 columns], R=30, lambda_step=0.01, plot_opts={'xlab': 'PC1', 'ylab': 'PC2'}, topic_order=[14, 10, 5, 19, 11, 18, 6, 2, 8, 3, 4, 7, 20, 16, 12, 9, 15, 1, 17, 13])"
      ]
     },
     "execution_count": 16,
     "metadata": {},
     "output_type": "execute_result"
    }
   ],
   "source": [
    "# Visualize the topics\n",
    "pyLDAvis.enable_notebook()\n",
    "vis = pyLDAvis.gensim_models.prepare(lda_model, corpus, id2word)\n",
    "vis"
   ]
  },
  {
   "attachments": {},
   "cell_type": "markdown",
   "metadata": {},
   "source": [
    "The bubbles on the left-hand slide plot represents each of the topics in the model. The size of the bubble represents how prevalent the topic is. If the bubbles are non-overlapping and scattered throughout the chart, then the model is good. In our case, there are many overlapping bubbles, which indicates we need to do further optimization to get better results. "
   ]
  },
  {
   "attachments": {},
   "cell_type": "markdown",
   "metadata": {},
   "source": [
    "## Model Optimization"
   ]
  },
  {
   "attachments": {},
   "cell_type": "markdown",
   "metadata": {},
   "source": [
    "Topic coherence value measures how good a given topic model is. Therefore, we will use coherence valeus to determine the optimal number of topics to look at for our topic modeling.  "
   ]
  },
  {
   "cell_type": "code",
   "execution_count": 17,
   "metadata": {},
   "outputs": [],
   "source": [
    "# Define a function for computing the coherence value for a given number of topic \n",
    "def compute_coherence_values(dictionary, corpus, texts, limit, start=2, step=3):\n",
    "    \"\"\"\n",
    "    Compute c_v coherence for various number of topics\n",
    "\n",
    "    Parameters:\n",
    "    ----------\n",
    "    dictionary : Gensim dictionary\n",
    "    corpus : Gensim corpus\n",
    "    texts : List of input texts\n",
    "    limit : Max num of topics\n",
    "\n",
    "    Returns:\n",
    "    -------\n",
    "    model_list : List of LDA topic models\n",
    "    coherence_values : Coherence values corresponding to the LDA model with respective number of topics\n",
    "    \"\"\"\n",
    "    coherence_values = []\n",
    "    model_list = []\n",
    "    for num_topics in range(start, limit, step):\n",
    "        model = gensim.models.ldamodel.LdaModel( corpus=corpus, num_topics=num_topics, id2word=id2word)\n",
    "        model_list.append(model)\n",
    "        coherencemodel = CoherenceModel(model=model, texts=texts, dictionary=dictionary, coherence='c_v')\n",
    "        coherence_values.append(coherencemodel.get_coherence())\n",
    "\n",
    "    return model_list, coherence_values"
   ]
  },
  {
   "cell_type": "code",
   "execution_count": 18,
   "metadata": {},
   "outputs": [],
   "source": [
    "model_list, coherence_values = compute_coherence_values(dictionary=id2word, corpus=corpus, texts=data_lemmatized, start=2, limit=40, step=6)"
   ]
  },
  {
   "cell_type": "code",
   "execution_count": 19,
   "metadata": {},
   "outputs": [
    {
     "data": {
      "image/png": "[encoded data removed]",
      "text/plain": [
       "<Figure size 432x288 with 1 Axes>"
      ]
     },
     "metadata": {
      "needs_background": "light"
     },
     "output_type": "display_data"
    }
   ],
   "source": [
    "# Show graph\n",
    "limit=40; start=2; step=6;\n",
    "x = range(start, limit, step)\n",
    "plt.plot(x, coherence_values)\n",
    "plt.xlabel(\"Num Topics\")\n",
    "plt.ylabel(\"Coherence score\")\n",
    "plt.legend((\"coherence_values\"), loc='best')\n",
    "plt.show()"
   ]
  },
  {
   "cell_type": "code",
   "execution_count": 20,
   "metadata": {},
   "outputs": [
    {
     "name": "stdout",
     "output_type": "stream",
     "text": [
      "Num Topics = 2  has Coherence Value of 0.4375\n",
      "Num Topics = 8  has Coherence Value of 0.479\n",
      "Num Topics = 14  has Coherence Value of 0.4454\n",
      "Num Topics = 20  has Coherence Value of 0.4505\n",
      "Num Topics = 26  has Coherence Value of 0.4124\n",
      "Num Topics = 32  has Coherence Value of 0.4045\n",
      "Num Topics = 38  has Coherence Value of 0.4123\n"
     ]
    }
   ],
   "source": [
    "# Print the coherence scores\n",
    "for m, cv in zip(x, coherence_values):\n",
    "    print(\"Num Topics =\", m, \" has Coherence Value of\", round(cv, 4))"
   ]
  },
  {
   "attachments": {},
   "cell_type": "markdown",
   "metadata": {},
   "source": [
    "Looking at the result, we decided that 8 topics was ideal for our topic modeling because it has the highest Coherence value."
   ]
  },
  {
   "cell_type": "code",
   "execution_count": 21,
   "metadata": {},
   "outputs": [
    {
     "name": "stdout",
     "output_type": "stream",
     "text": [
      "[(0,\n",
      "  '0.081*\"player\" + 0.072*\"single\" + 0.041*\"money\" + 0.022*\"buy\" + '\n",
      "  '0.022*\"multiplayer\" + 0.020*\"mod\" + 0.020*\"take\" + 0.019*\"fun\" + '\n",
      "  '0.018*\"want\" + 0.017*\"pay\"'),\n",
      " (1,\n",
      "  '0.137*\"loading\" + 0.080*\"screen\" + 0.064*\"load\" + 0.049*\"wait\" + '\n",
      "  '0.047*\"take\" + 0.047*\"time\" + 0.026*\"crash\" + 0.024*\"minute\" + 0.018*\"suck\" '\n",
      "  '+ 0.018*\"long\"'),\n",
      " (2,\n",
      "  '0.022*\"fix\" + 0.020*\"crash\" + 0.019*\"hacker\" + 0.018*\"server\" + '\n",
      "  '0.018*\"issue\" + 0.016*\"many\" + 0.016*\"get\" + 0.015*\"problem\" + '\n",
      "  '0.014*\"session\" + 0.013*\"bug\"'),\n",
      " (3,\n",
      "  '0.049*\"rockstar\" + 0.029*\"buy\" + 0.023*\"work\" + 0.018*\"even\" + '\n",
      "  '0.018*\"steam\" + 0.014*\"support\" + 0.014*\"try\" + 0.012*\"game\" + '\n",
      "  '0.012*\"launch\" + 0.012*\"account\"'),\n",
      " (4,\n",
      "  '0.056*\"hacker\" + 0.045*\"good\" + 0.039*\"mod\" + 0.029*\"singleplayer\" + '\n",
      "  '0.029*\"ruin\" + 0.022*\"multiplayer\" + 0.018*\"great\" + 0.017*\"rip\" + '\n",
      "  '0.017*\"rockstar\" + 0.013*\"kill\"'),\n",
      " (5,\n",
      "  '0.062*\"pc\" + 0.026*\"community\" + 0.019*\"console\" + 0.019*\"version\" + '\n",
      "  '0.018*\"hate\" + 0.017*\"port\" + 0.015*\"garbage\" + 0.014*\"run\" + '\n",
      "  '0.012*\"gaming\" + 0.011*\"time\"'),\n",
      " (6,\n",
      "  '0.021*\"get\" + 0.014*\"money\" + 0.013*\"make\" + 0.011*\"time\" + 0.010*\"car\" + '\n",
      "  '0.009*\"people\" + 0.009*\"even\" + 0.009*\"go\" + 0.009*\"buy\" + 0.008*\"fun\"'),\n",
      " (7,\n",
      "  '0.063*\"ban\" + 0.038*\"get\" + 0.033*\"take\" + 0.025*\"modde\" + 0.025*\"rockstar\" '\n",
      "  '+ 0.021*\"mod\" + 0.016*\"buy\" + 0.016*\"reason\" + 0.014*\"support\" + '\n",
      "  '0.013*\"people\"')]\n"
     ]
    }
   ],
   "source": [
    "# Select the model and print the topics\n",
    "optimal_model = model_list[1]\n",
    "model_topics = optimal_model.show_topics(formatted=False)\n",
    "pprint(optimal_model.print_topics(num_words=10))"
   ]
  },
  {
   "cell_type": "code",
   "execution_count": 22,
   "metadata": {},
   "outputs": [],
   "source": [
    "# Build LDA model\n",
    "lda_model = gensim.models.ldamodel.LdaModel(corpus=corpus,\n",
    "                                           id2word=id2word,\n",
    "                                           num_topics=8, \n",
    "                                           random_state=100,\n",
    "                                           update_every=1,\n",
    "                                           chunksize=100,\n",
    "                                           passes=10,\n",
    "                                           alpha='auto',\n",
    "                                           per_word_topics=True)"
   ]
  },
  {
   "cell_type": "code",
   "execution_count": 23,
   "metadata": {},
   "outputs": [
    {
     "name": "stderr",
     "output_type": "stream",
     "text": [
      "/Users/jewonju/opt/anaconda3/lib/python3.9/site-packages/pyLDAvis/_prepare.py:246: FutureWarning: In a future version of pandas all arguments of DataFrame.drop except for the argument 'labels' will be keyword-only.\n",
      "  default_term_info = default_term_info.sort_values(\n",
      "/Users/jewonju/opt/anaconda3/lib/python3.9/site-packages/joblib/backports.py:36: DeprecationWarning: distutils Version classes are deprecated. Use packaging.version instead.\n",
      "  if LooseVersion(np.__version__) < '1.13':\n",
      "/Users/jewonju/opt/anaconda3/lib/python3.9/site-packages/joblib/backports.py:36: DeprecationWarning: distutils Version classes are deprecated. Use packaging.version instead.\n",
      "  if LooseVersion(np.__version__) < '1.13':\n",
      "/Users/jewonju/opt/anaconda3/lib/python3.9/site-packages/joblib/backports.py:36: DeprecationWarning: distutils Version classes are deprecated. Use packaging.version instead.\n",
      "  if LooseVersion(np.__version__) < '1.13':\n",
      "/Users/jewonju/opt/anaconda3/lib/python3.9/site-packages/joblib/backports.py:36: DeprecationWarning: distutils Version classes are deprecated. Use packaging.version instead.\n",
      "  if LooseVersion(np.__version__) < '1.13':\n",
      "/Users/jewonju/opt/anaconda3/lib/python3.9/site-packages/setuptools/_distutils/version.py:351: DeprecationWarning: distutils Version classes are deprecated. Use packaging.version instead.\n",
      "  other = LooseVersion(other)\n",
      "/Users/jewonju/opt/anaconda3/lib/python3.9/site-packages/setuptools/_distutils/version.py:351: DeprecationWarning: distutils Version classes are deprecated. Use packaging.version instead.\n",
      "  other = LooseVersion(other)\n",
      "/Users/jewonju/opt/anaconda3/lib/python3.9/site-packages/setuptools/_distutils/version.py:351: DeprecationWarning: distutils Version classes are deprecated. Use packaging.version instead.\n",
      "  other = LooseVersion(other)\n",
      "/Users/jewonju/opt/anaconda3/lib/python3.9/site-packages/setuptools/_distutils/version.py:351: DeprecationWarning: distutils Version classes are deprecated. Use packaging.version instead.\n",
      "  other = LooseVersion(other)\n",
      "/Users/jewonju/opt/anaconda3/lib/python3.9/site-packages/joblib/backports.py:36: DeprecationWarning: distutils Version classes are deprecated. Use packaging.version instead.\n",
      "  if LooseVersion(np.__version__) < '1.13':\n",
      "/Users/jewonju/opt/anaconda3/lib/python3.9/site-packages/setuptools/_distutils/version.py:351: DeprecationWarning: distutils Version classes are deprecated. Use packaging.version instead.\n",
      "  other = LooseVersion(other)\n",
      "/Users/jewonju/opt/anaconda3/lib/python3.9/site-packages/joblib/backports.py:36: DeprecationWarning: distutils Version classes are deprecated. Use packaging.version instead.\n",
      "  if LooseVersion(np.__version__) < '1.13':\n",
      "/Users/jewonju/opt/anaconda3/lib/python3.9/site-packages/setuptools/_distutils/version.py:351: DeprecationWarning: distutils Version classes are deprecated. Use packaging.version instead.\n",
      "  other = LooseVersion(other)\n",
      "/Users/jewonju/opt/anaconda3/lib/python3.9/site-packages/joblib/backports.py:36: DeprecationWarning: distutils Version classes are deprecated. Use packaging.version instead.\n",
      "  if LooseVersion(np.__version__) < '1.13':\n",
      "/Users/jewonju/opt/anaconda3/lib/python3.9/site-packages/setuptools/_distutils/version.py:351: DeprecationWarning: distutils Version classes are deprecated. Use packaging.version instead.\n",
      "  other = LooseVersion(other)\n",
      "/Users/jewonju/opt/anaconda3/lib/python3.9/site-packages/joblib/backports.py:36: DeprecationWarning: distutils Version classes are deprecated. Use packaging.version instead.\n",
      "  if LooseVersion(np.__version__) < '1.13':\n",
      "/Users/jewonju/opt/anaconda3/lib/python3.9/site-packages/joblib/backports.py:36: DeprecationWarning: distutils Version classes are deprecated. Use packaging.version instead.\n",
      "  if LooseVersion(np.__version__) < '1.13':\n",
      "/Users/jewonju/opt/anaconda3/lib/python3.9/site-packages/joblib/backports.py:36: DeprecationWarning: distutils Version classes are deprecated. Use packaging.version instead.\n",
      "  if LooseVersion(np.__version__) < '1.13':\n",
      "/Users/jewonju/opt/anaconda3/lib/python3.9/site-packages/setuptools/_distutils/version.py:351: DeprecationWarning: distutils Version classes are deprecated. Use packaging.version instead.\n",
      "  other = LooseVersion(other)\n",
      "/Users/jewonju/opt/anaconda3/lib/python3.9/site-packages/setuptools/_distutils/version.py:351: DeprecationWarning: distutils Version classes are deprecated. Use packaging.version instead.\n",
      "  other = LooseVersion(other)\n",
      "/Users/jewonju/opt/anaconda3/lib/python3.9/site-packages/setuptools/_distutils/version.py:351: DeprecationWarning: distutils Version classes are deprecated. Use packaging.version instead.\n",
      "  other = LooseVersion(other)\n",
      "/Users/jewonju/opt/anaconda3/lib/python3.9/site-packages/joblib/backports.py:36: DeprecationWarning: distutils Version classes are deprecated. Use packaging.version instead.\n",
      "  if LooseVersion(np.__version__) < '1.13':\n",
      "/Users/jewonju/opt/anaconda3/lib/python3.9/site-packages/setuptools/_distutils/version.py:351: DeprecationWarning: distutils Version classes are deprecated. Use packaging.version instead.\n",
      "  other = LooseVersion(other)\n",
      "/Users/jewonju/opt/anaconda3/lib/python3.9/site-packages/joblib/backports.py:36: DeprecationWarning: distutils Version classes are deprecated. Use packaging.version instead.\n",
      "  if LooseVersion(np.__version__) < '1.13':\n",
      "/Users/jewonju/opt/anaconda3/lib/python3.9/site-packages/setuptools/_distutils/version.py:351: DeprecationWarning: distutils Version classes are deprecated. Use packaging.version instead.\n",
      "  other = LooseVersion(other)\n",
      "/Users/jewonju/opt/anaconda3/lib/python3.9/site-packages/joblib/backports.py:36: DeprecationWarning: distutils Version classes are deprecated. Use packaging.version instead.\n",
      "  if LooseVersion(np.__version__) < '1.13':\n",
      "/Users/jewonju/opt/anaconda3/lib/python3.9/site-packages/setuptools/_distutils/version.py:351: DeprecationWarning: distutils Version classes are deprecated. Use packaging.version instead.\n",
      "  other = LooseVersion(other)\n",
      "/Users/jewonju/opt/anaconda3/lib/python3.9/site-packages/joblib/backports.py:36: DeprecationWarning: distutils Version classes are deprecated. Use packaging.version instead.\n",
      "  if LooseVersion(np.__version__) < '1.13':\n",
      "/Users/jewonju/opt/anaconda3/lib/python3.9/site-packages/setuptools/_distutils/version.py:351: DeprecationWarning: distutils Version classes are deprecated. Use packaging.version instead.\n",
      "  other = LooseVersion(other)\n",
      "/Users/jewonju/opt/anaconda3/lib/python3.9/site-packages/joblib/backports.py:36: DeprecationWarning: distutils Version classes are deprecated. Use packaging.version instead.\n",
      "  if LooseVersion(np.__version__) < '1.13':\n",
      "/Users/jewonju/opt/anaconda3/lib/python3.9/site-packages/setuptools/_distutils/version.py:351: DeprecationWarning: distutils Version classes are deprecated. Use packaging.version instead.\n",
      "  other = LooseVersion(other)\n",
      "/Users/jewonju/opt/anaconda3/lib/python3.9/site-packages/joblib/backports.py:36: DeprecationWarning: distutils Version classes are deprecated. Use packaging.version instead.\n",
      "  if LooseVersion(np.__version__) < '1.13':\n",
      "/Users/jewonju/opt/anaconda3/lib/python3.9/site-packages/setuptools/_distutils/version.py:351: DeprecationWarning: distutils Version classes are deprecated. Use packaging.version instead.\n",
      "  other = LooseVersion(other)\n",
      "/Users/jewonju/opt/anaconda3/lib/python3.9/site-packages/past/builtins/misc.py:45: DeprecationWarning: the imp module is deprecated in favour of importlib; see the module's documentation for alternative uses\n",
      "  from imp import reload\n",
      "/Users/jewonju/opt/anaconda3/lib/python3.9/site-packages/joblib/backports.py:36: DeprecationWarning: distutils Version classes are deprecated. Use packaging.version instead.\n",
      "  if LooseVersion(np.__version__) < '1.13':\n",
      "/Users/jewonju/opt/anaconda3/lib/python3.9/site-packages/setuptools/_distutils/version.py:351: DeprecationWarning: distutils Version classes are deprecated. Use packaging.version instead.\n",
      "  other = LooseVersion(other)\n",
      "/Users/jewonju/opt/anaconda3/lib/python3.9/site-packages/joblib/backports.py:36: DeprecationWarning: distutils Version classes are deprecated. Use packaging.version instead.\n",
      "  if LooseVersion(np.__version__) < '1.13':\n",
      "/Users/jewonju/opt/anaconda3/lib/python3.9/site-packages/setuptools/_distutils/version.py:351: DeprecationWarning: distutils Version classes are deprecated. Use packaging.version instead.\n",
      "  other = LooseVersion(other)\n"
     ]
    },
    {
     "data": {
      "text/html": [
       "\n",
       "<link rel=\"stylesheet\" type=\"text/css\" href=\"https://cdn.jsdelivr.net/gh/bmabey/pyLDAvis@3.3.1/pyLDAvis/js/ldavis.v1.0.0.css\">\n",
       "\n",
       "\n",
       "<div id=\"ldavis_el7637043916444003477078116\"></div>\n",
       "<script type=\"text/javascript\">\n",
       "\n",
       "var ldavis_el7637043916444003477078116_data = {\"mdsDat\": {\"x\": [-0.34953519274030503, -0.08819496964449956, -0.1685656148386436, 0.02877219219048963, 0.13674102194860363, 0.14616070464674333, 0.14857510321688996, 0.14604675522072186], \"y\": [-0.28716550226136967, 0.21220468201820325, 0.2541994930713726, 0.11267433737553614, -0.07947582375836454, -0.1055373129809634, -0.05784982740769158, -0.04905004605672209], \"topics\": [1, 2, 3, 4, 5, 6, 7, 8], \"cluster\": [1, 1, 1, 1, 1, 1, 1, 1], \"Freq\": [38.70652179244611, 15.568494605827379, 14.744661263300937, 10.462332395199033, 6.768920867605529, 6.317611667580084, 4.38928876367978, 3.042168644361155]}, \"tinfo\": {\"Term\": [\"rockstar\", \"ban\", \"get\", \"player\", \"time\", \"fix\", \"take\", \"loading\", \"pay\", \"pc\", \"single\", \"support\", \"modde\", \"game\", \"buy\", \"steam\", \"work\", \"money\", \"try\", \"crash\", \"even\", \"make\", \"mission\", \"wait\", \"never\", \"screen\", \"car\", \"update\", \"account\", \"issue\", \"get\", \"buy\", \"money\", \"even\", \"make\", \"people\", \"go\", \"good\", \"mod\", \"play\", \"want\", \"use\", \"still\", \"hacker\", \"fun\", \"well\", \"say\", \"really\", \"great\", \"hour\", \"thing\", \"run\", \"give\", \"mode\", \"review\", \"friend\", \"recommend\", \"story\", \"day\", \"first\", \"start\", \"also\", \"player\", \"single\", \"multiplayer\", \"year\", \"see\", \"release\", \"look\", \"experience\", \"keep\", \"put\", \"bad\", \"enjoy\", \"already\", \"seem\", \"content\", \"guy\", \"add\", \"auto\", \"yet\", \"far\", \"always\", \"life\", \"dlc\", \"old\", \"save\", \"level\", \"gaming\", \"developer\", \"base\", \"fine\", \"many\", \"away\", \"actually\", \"new\", \"least\", \"due\", \"time\", \"loading\", \"pc\", \"work\", \"try\", \"crash\", \"wait\", \"screen\", \"issue\", \"problem\", \"load\", \"long\", \"server\", \"kill\", \"modder\", \"back\", \"minute\", \"session\", \"waste\", \"lobby\", \"version\", \"join\", \"leave\", \"happen\", \"help\", \"error\", \"cause\", \"port\", \"anymore\", \"glitch\", \"take\", \"month\", \"mission\", \"car\", \"update\", \"heist\", \"change\", \"character\", \"feel\", \"drive\", \"end\", \"world\", \"vehicle\", \"big\", \"download\", \"delay\", \"little\", \"different\", \"move\", \"remove\", \"nice\", \"option\", \"bit\", \"require\", \"boring\", \"main\", \"map\", \"place\", \"shitty\", \"expensive\", \"set\", \"window\", \"find\", \"complete\", \"rockstar\", \"support\", \"stop\", \"care\", \"company\", \"allow\", \"cheat\", \"user\", \"social_club\", \"modding\", \"finally\", \"customer\", \"ask\", \"product\", \"name\", \"freeze\", \"interactive\", \"shame\", \"original\", \"response\", \"provide\", \"playable\", \"public\", \"link\", \"available\", \"buck\", \"taketwo\", \"desist\", \"treat\", \"ball\", \"game\", \"create\", \"ban\", \"modde\", \"never\", \"account\", \"reason\", \"system\", \"enough\", \"open\", \"thank\", \"setting\", \"control\", \"garbage\", \"shoot\", \"fps\", \"die\", \"damn\", \"rip\", \"hit\", \"miss\", \"performance\", \"openiv\", \"cop\", \"contact\", \"illegal\", \"appear\", \"head\", \"dumb\", \"reccomend\", \"apparently\", \"absolute\", \"pay\", \"steam\", \"purchase\", \"real\", \"m\", \"stupid\", \"sell\", \"dollar\", \"cost\", \"suck\", \"log\", \"shark_cards\", \"win\", \"bullshit\", \"order\", \"manage\", \"install\", \"bunch\", \"return\", \"future\", \"forget\", \"own\", \"form\", \"everytime\", \"currency\", \"policy\", \"store\", \"reward\", \"group\", \"million\", \"fix\", \"bug\", \"patch\", \"edit\", \"cheater\", \"high\", \"unplayable\", \"lag\", \"simulator\", \"connect\", \"man\", \"fill\", \"poor\", \"alot\", \"everywhere\", \"annoying\", \"quit\", \"trash\", \"design\", \"card\", \"hardware\", \"rig\", \"kid\", \"check\", \"mechanic\", \"refuse\", \"totally\", \"beautiful\", \"properly\", \"meet\"], \"Freq\": [27606.0, 14264.0, 33820.0, 16809.0, 14777.0, 8050.0, 13701.0, 10198.0, 6042.0, 9775.0, 9977.0, 6834.0, 6612.0, 6769.0, 18892.0, 5533.0, 8984.0, 17283.0, 8525.0, 8399.0, 16654.0, 16417.0, 6433.0, 7462.0, 5121.0, 7041.0, 5892.0, 5689.0, 4529.0, 6487.0, 33820.2371035406, 18891.28763345479, 17282.64733130583, 16653.66227536483, 16416.463260025277, 13104.380346200982, 12919.635255976336, 12493.490624728714, 12051.780141007506, 10442.02002900369, 10153.634307002234, 10030.402577040164, 9649.024326704754, 9330.528850121458, 9052.09011167586, 8993.200376714818, 8013.813934421131, 7800.771967626351, 7718.224391389903, 7602.077564596913, 7592.0810319324355, 7109.1518834763465, 6899.117547574918, 6622.845963267671, 6440.694768879386, 6273.181000541881, 5941.081196822572, 5833.957262709638, 5607.522171854345, 5497.162061584541, 6599.248200286469, 5705.7340794177635, 16809.172505562063, 9976.878280694711, 5593.2677560931415, 5519.804803710645, 4981.363638385378, 4948.940689989087, 4594.508413727534, 4248.821240658477, 3720.446510206797, 3030.4639966671466, 3029.1464017837966, 2953.9856976278015, 2909.7365317419326, 2827.509044818688, 2796.9756704799147, 2551.4045333582467, 2500.9223888409892, 2033.5908652410897, 2026.1717024468976, 1969.7154148217535, 1905.8560326327022, 1759.5074631186365, 1724.1382988237006, 1614.0486251466173, 1580.0159888435837, 1555.2004132876893, 1498.5621436125762, 1481.9788580392374, 1461.9680570182584, 1461.974534134342, 5861.40043237355, 1738.482370630923, 2652.1314111763063, 4273.350577507438, 1828.4024293830503, 1778.0784759701467, 14776.440373880538, 10197.991226339567, 9774.262082834804, 8983.994041306187, 8524.501529552788, 8398.876269289418, 7461.84063058781, 7041.064005820766, 6487.131475667249, 6188.594883510644, 5751.10068900732, 4750.2874368243965, 4422.693756793212, 4144.377930650467, 3748.8041228534657, 3638.285688725415, 3211.317126787787, 2805.981415301069, 2802.5393267710565, 2625.316477584145, 2535.296743549628, 2428.4686039378516, 2399.099135145201, 2360.8593695279324, 2321.1223461266163, 2285.4500496562114, 2019.0138999528845, 1940.9787164650984, 1578.4982930350473, 1381.3261236395933, 13679.782332915172, 1952.0284836301096, 6432.382569128526, 5891.944646608206, 5689.194291466951, 4688.400313196945, 3898.032929448661, 3552.6781630129253, 3133.8734443755575, 2793.1819782962484, 2589.8706208396316, 2370.4274752284673, 2270.4363042651476, 2265.7477244847823, 1970.801970930821, 1720.3855041118723, 1588.7905330629255, 1567.5621786635143, 1551.230164078298, 1499.75255144154, 1489.4400531950664, 1402.0041341391384, 1385.6618236296026, 1280.7698763968933, 1262.733760776744, 1252.979000284262, 1155.8298392599372, 1106.095000154337, 1071.5813877012695, 1060.8001319248015, 1050.8006967430028, 1051.44641024057, 3707.2445968192483, 1230.3970248102898, 27605.799635442934, 6833.524138802397, 2606.255487302751, 2493.7044866431715, 2469.0927083045726, 2163.1444789973552, 2002.3388910174224, 1905.4688169918504, 1869.2502024941325, 1704.602205847302, 1678.4819503979522, 1389.8147577525394, 1320.776286799629, 1232.0520108347391, 1027.7528479477621, 936.3895223093288, 903.0813902157886, 766.0430088597221, 761.017874852777, 679.1465171444136, 676.7505763152069, 673.666684572743, 671.1487831470902, 611.677828539899, 607.6363403203655, 601.7839105446321, 581.634416977248, 564.3970305111523, 555.2176001486181, 556.9594920776116, 6672.873221987406, 1242.5074783080477, 14263.567415913481, 6612.2211149278055, 5120.80851576212, 4528.5053319748195, 4397.505709966391, 3259.342799162403, 2797.7104878266587, 2587.996576162367, 2427.1953822392134, 2144.353901555885, 1877.230531604614, 1747.4409748470332, 1736.075459724038, 1640.53186157193, 1468.4762520839001, 1135.4956115856419, 1064.3071797129503, 994.8141533809405, 958.1343158298205, 956.5086634238994, 948.984018738723, 894.2914955964198, 807.5260767251863, 753.4168009901316, 750.7009273062021, 732.4898496469499, 634.5517476883094, 633.0894591458277, 613.812371622734, 602.3666403947641, 6041.951501060836, 5532.899035342519, 2500.2018446333873, 2492.001724889936, 2351.28291656257, 1936.5867519521128, 1773.6336734885183, 1745.524074306285, 1492.4611251145159, 1489.0309701875708, 1474.9105707622725, 1294.3327693972954, 1142.9016626658658, 1089.0345765571928, 1031.9846342540736, 859.6146082877148, 813.5403470205448, 780.4101129916181, 727.289347908657, 674.2140251091172, 668.7682555768758, 615.3715357310667, 558.4108274636304, 549.9111538735142, 538.7190776672074, 535.2248329665035, 528.2456497514224, 522.5617120845877, 521.1568642437925, 516.022377864756, 8049.38319392164, 3002.666161739222, 2985.7128877196433, 2502.8253607993774, 2213.064104343939, 1870.9394172801678, 1448.6187693228721, 1104.6356984210602, 940.1675604494396, 837.639936057874, 830.1914074580653, 683.4012820480592, 682.9488559324171, 608.1298241360904, 587.1543193593399, 585.9533504870561, 579.8779697105776, 549.7804367640224, 539.1001331059654, 511.20130151137965, 497.7083035385176, 495.89694397718335, 474.7985237773645, 465.04765543520523, 464.0638939362801, 460.40622302202223, 458.9172182850673, 454.94507860525664, 422.96112250038846, 407.1492581372028], \"Total\": [27606.0, 14264.0, 33820.0, 16809.0, 14777.0, 8050.0, 13701.0, 10198.0, 6042.0, 9775.0, 9977.0, 6834.0, 6612.0, 6769.0, 18892.0, 5533.0, 8984.0, 17283.0, 8525.0, 8399.0, 16654.0, 16417.0, 6433.0, 7462.0, 5121.0, 7041.0, 5892.0, 5689.0, 4529.0, 6487.0, 33820.97274411523, 18892.02323186299, 17283.382899859836, 16654.398105037733, 16417.199030549902, 13105.116013054185, 12920.370915422769, 12494.226296037768, 12052.515840982658, 10442.755697004035, 10154.369866331774, 10031.138503647495, 9649.76018211432, 9331.26422859882, 9052.825587372, 8993.937282972465, 8014.549686125188, 7801.507587463865, 7718.960019004497, 7602.813320982245, 7592.816722879879, 7109.887835661117, 6899.853191835949, 6623.581512290283, 6441.430594355019, 6273.916505224225, 5941.816973827983, 5834.6927863793235, 5608.2580830200295, 5497.897898307557, 6601.373837004351, 5714.719650861529, 16809.91033240783, 9977.616173147051, 5594.005555462426, 5520.543056595109, 4982.101736502206, 4949.679054974869, 4595.246676609835, 4249.55923261321, 3721.1846567965117, 3031.2020431128303, 3029.8845089627252, 2954.723720355543, 2910.474994367187, 2828.247071346835, 2797.713586898923, 2552.1428831505505, 2501.660285854509, 2034.3288143670945, 2026.9100636663097, 1970.4535036794623, 1906.593999440317, 1760.2454752644087, 1724.876284521585, 1614.786902792421, 1580.754176403081, 1555.9382281264634, 1499.3004007715945, 1482.7168987754828, 1462.706240981233, 1462.7127967930066, 5876.396351121091, 1783.608591165101, 3090.585395885853, 5896.0951577147425, 1954.271657656905, 2307.5849654418957, 14777.19258273304, 10198.742779110493, 9775.014602525367, 8984.746585518997, 8525.253911722393, 8399.62868633939, 7462.593124355069, 7041.8156739789465, 6487.8840175907135, 6189.347348141496, 5751.852801824926, 4751.039854419284, 4423.445861011953, 4145.13005319985, 3749.5562740040145, 3639.03791284031, 3212.06912567893, 2806.7332137934554, 2803.291594893898, 2626.0684722059427, 2536.0492674912366, 2429.2205044860198, 2399.851275790417, 2361.611797793032, 2321.874643781555, 2286.2025111299913, 2019.7666207932834, 1941.731602436605, 1579.2505850371901, 1382.0787354345803, 13701.750778503712, 2112.509850145576, 6433.130374697295, 5892.692452961154, 5689.942515728898, 4689.148064025923, 3898.781275557672, 3553.4260489160215, 3134.6214643973467, 2793.9300086722683, 2590.6187674261887, 2371.175365088853, 2271.184121741284, 2266.495802245201, 1971.5508191254307, 1721.13521017597, 1589.5385482036581, 1568.3104982510715, 1551.9782790855468, 1500.5009537052824, 1490.1879513580902, 1402.7524096876996, 1386.4098744436562, 1281.5181088025724, 1263.4816166324815, 1253.727146847275, 1156.5775410701997, 1106.842976757605, 1072.329468754466, 1061.548124533202, 1051.5486211732082, 1052.1950309516346, 4097.34762893343, 1617.2376183233516, 27606.54173314364, 6834.266095376172, 2606.9976306735653, 2494.446556633461, 2469.8345706214236, 2163.8866210536858, 2003.080792395503, 1906.2112524298154, 1869.9926424320763, 1705.3443747864474, 1679.2246095418968, 1390.5566015061104, 1321.5183921508055, 1232.7942335365344, 1028.495362253732, 937.1320387755043, 903.8235658740384, 766.7851604932488, 761.7601341475497, 679.8886728976738, 677.4935287493771, 674.40929802386, 671.8906027349724, 612.4202021173196, 608.3787420064256, 602.5260123899845, 582.3764574458829, 565.1391064044349, 555.9595521857069, 557.7056576133748, 6769.5663191423355, 1421.163503054178, 14264.298045047777, 6612.9520695927595, 5121.539574690676, 4529.236593605358, 4398.23648884543, 3260.0737720198395, 2798.4415875237755, 2588.7277821891644, 2427.9265628309327, 2145.0856115315282, 1877.9617419472731, 1748.172101293305, 1736.8063583213623, 1641.2633104067622, 1469.2072051944674, 1136.2268852238628, 1065.0382253587263, 995.5452195555021, 958.8656218121554, 957.2401082564337, 949.7152439536666, 895.0226265868926, 808.25705258592, 754.1479277874134, 751.4325271414704, 733.2208065262785, 635.2828958837421, 633.8206774130285, 614.5435319189272, 603.0976840170681, 6042.687273826774, 5533.634924060688, 2500.9376487030077, 2492.7373159235117, 2352.018804342413, 1937.3224205316628, 1774.3692892448526, 1746.2596090801171, 1493.1966590886173, 1489.7665797875254, 1475.6466010190347, 1295.06851127904, 1143.6373727538682, 1089.770398234821, 1032.7204037249855, 860.3506144712434, 814.2770025160604, 781.1459685775379, 728.0252763988258, 674.949976636694, 669.5039257476108, 616.1078630792578, 559.1467580662918, 550.6470867346405, 539.4546026115362, 535.9606295763193, 528.9813174730382, 523.2973873796016, 521.8925260130952, 516.7578150710259, 8050.147039784972, 3003.4298348848665, 2986.476564766416, 2503.5891859649855, 2213.8273055619266, 1871.7031806004024, 1449.3823576204784, 1105.3990699125384, 940.9311487863239, 838.4035152587549, 830.9567059235911, 684.1648282023147, 683.7125246252375, 608.8931909690747, 587.9175375134893, 586.7168810756922, 580.6418881318031, 550.543919660445, 539.8635154098511, 511.9650648326998, 498.47279456914856, 496.6610466621926, 475.56177190633554, 465.81119862308503, 464.82781824050477, 461.16995204972466, 459.6811326783875, 455.70897129356445, 423.7250847542566, 407.913036186529], \"Category\": [\"Default\", \"Default\", \"Default\", \"Default\", \"Default\", \"Default\", \"Default\", \"Default\", \"Default\", \"Default\", \"Default\", \"Default\", \"Default\", \"Default\", \"Default\", \"Default\", \"Default\", \"Default\", \"Default\", \"Default\", \"Default\", \"Default\", \"Default\", \"Default\", \"Default\", \"Default\", \"Default\", \"Default\", \"Default\", \"Default\", \"Topic1\", \"Topic1\", \"Topic1\", \"Topic1\", \"Topic1\", \"Topic1\", \"Topic1\", \"Topic1\", \"Topic1\", \"Topic1\", \"Topic1\", \"Topic1\", \"Topic1\", \"Topic1\", \"Topic1\", \"Topic1\", \"Topic1\", \"Topic1\", \"Topic1\", \"Topic1\", \"Topic1\", \"Topic1\", \"Topic1\", \"Topic1\", \"Topic1\", \"Topic1\", \"Topic1\", \"Topic1\", \"Topic1\", \"Topic1\", \"Topic1\", \"Topic1\", \"Topic2\", \"Topic2\", \"Topic2\", \"Topic2\", \"Topic2\", \"Topic2\", \"Topic2\", \"Topic2\", \"Topic2\", \"Topic2\", \"Topic2\", \"Topic2\", \"Topic2\", \"Topic2\", \"Topic2\", \"Topic2\", \"Topic2\", \"Topic2\", \"Topic2\", \"Topic2\", \"Topic2\", \"Topic2\", \"Topic2\", \"Topic2\", \"Topic2\", \"Topic2\", \"Topic2\", \"Topic2\", \"Topic2\", \"Topic2\", \"Topic2\", \"Topic2\", \"Topic2\", \"Topic2\", \"Topic2\", \"Topic2\", \"Topic3\", \"Topic3\", \"Topic3\", \"Topic3\", \"Topic3\", \"Topic3\", \"Topic3\", \"Topic3\", \"Topic3\", \"Topic3\", \"Topic3\", \"Topic3\", \"Topic3\", \"Topic3\", \"Topic3\", \"Topic3\", \"Topic3\", \"Topic3\", \"Topic3\", \"Topic3\", \"Topic3\", \"Topic3\", \"Topic3\", \"Topic3\", \"Topic3\", \"Topic3\", \"Topic3\", \"Topic3\", \"Topic3\", \"Topic3\", \"Topic3\", \"Topic3\", \"Topic4\", \"Topic4\", \"Topic4\", \"Topic4\", \"Topic4\", \"Topic4\", \"Topic4\", \"Topic4\", \"Topic4\", \"Topic4\", \"Topic4\", \"Topic4\", \"Topic4\", \"Topic4\", \"Topic4\", \"Topic4\", \"Topic4\", \"Topic4\", \"Topic4\", \"Topic4\", \"Topic4\", \"Topic4\", \"Topic4\", \"Topic4\", \"Topic4\", \"Topic4\", \"Topic4\", \"Topic4\", \"Topic4\", \"Topic4\", \"Topic4\", \"Topic4\", \"Topic5\", \"Topic5\", \"Topic5\", \"Topic5\", \"Topic5\", \"Topic5\", \"Topic5\", \"Topic5\", \"Topic5\", \"Topic5\", \"Topic5\", \"Topic5\", \"Topic5\", \"Topic5\", \"Topic5\", \"Topic5\", \"Topic5\", \"Topic5\", \"Topic5\", \"Topic5\", \"Topic5\", \"Topic5\", \"Topic5\", \"Topic5\", \"Topic5\", \"Topic5\", \"Topic5\", \"Topic5\", \"Topic5\", \"Topic5\", \"Topic5\", \"Topic5\", \"Topic6\", \"Topic6\", \"Topic6\", \"Topic6\", \"Topic6\", \"Topic6\", \"Topic6\", \"Topic6\", \"Topic6\", \"Topic6\", \"Topic6\", \"Topic6\", \"Topic6\", \"Topic6\", \"Topic6\", \"Topic6\", \"Topic6\", \"Topic6\", \"Topic6\", \"Topic6\", \"Topic6\", \"Topic6\", \"Topic6\", \"Topic6\", \"Topic6\", \"Topic6\", \"Topic6\", \"Topic6\", \"Topic6\", \"Topic6\", \"Topic7\", \"Topic7\", \"Topic7\", \"Topic7\", \"Topic7\", \"Topic7\", \"Topic7\", \"Topic7\", \"Topic7\", \"Topic7\", \"Topic7\", \"Topic7\", \"Topic7\", \"Topic7\", \"Topic7\", \"Topic7\", \"Topic7\", \"Topic7\", \"Topic7\", \"Topic7\", \"Topic7\", \"Topic7\", \"Topic7\", \"Topic7\", \"Topic7\", \"Topic7\", \"Topic7\", \"Topic7\", \"Topic7\", \"Topic7\", \"Topic8\", \"Topic8\", \"Topic8\", \"Topic8\", \"Topic8\", \"Topic8\", \"Topic8\", \"Topic8\", \"Topic8\", \"Topic8\", \"Topic8\", \"Topic8\", \"Topic8\", \"Topic8\", \"Topic8\", \"Topic8\", \"Topic8\", \"Topic8\", \"Topic8\", \"Topic8\", \"Topic8\", \"Topic8\", \"Topic8\", \"Topic8\", \"Topic8\", \"Topic8\", \"Topic8\", \"Topic8\", \"Topic8\", \"Topic8\"], \"logprob\": [30.0, 29.0, 28.0, 27.0, 26.0, 25.0, 24.0, 23.0, 22.0, 21.0, 20.0, 19.0, 18.0, 17.0, 16.0, 15.0, 14.0, 13.0, 12.0, 11.0, 10.0, 9.0, 8.0, 7.0, 6.0, 5.0, 4.0, 3.0, 2.0, 1.0, -2.9788, -3.5611, -3.6501, -3.6872, -3.7016, -3.9269, -3.9411, -3.9746, -4.0106, -4.154, -4.182, -4.1942, -4.233, -4.2666, -4.2968, -4.3034, -4.4187, -4.4456, -4.4563, -4.4714, -4.4727, -4.5385, -4.5684, -4.6093, -4.6372, -4.6636, -4.718, -4.7361, -4.7757, -4.7956, -4.6129, -4.7584, -2.7672, -3.2888, -3.8675, -3.8807, -3.9834, -3.9899, -4.0642, -4.1424, -4.2752, -4.4804, -4.4808, -4.5059, -4.521, -4.5497, -4.5605, -4.6524, -4.6724, -4.8793, -4.8829, -4.9112, -4.9442, -5.024, -5.0444, -5.1103, -5.1316, -5.1475, -5.1846, -5.1957, -5.2093, -5.2093, -3.8207, -5.0361, -4.6137, -4.1367, -4.9856, -5.0136, -2.8417, -3.2125, -3.255, -3.3393, -3.3918, -3.4066, -3.5249, -3.583, -3.6649, -3.712, -3.7853, -3.9765, -4.048, -4.113, -4.2133, -4.2432, -4.368, -4.503, -4.5042, -4.5695, -4.6044, -4.6475, -4.6596, -4.6757, -4.6927, -4.7082, -4.8321, -4.8715, -5.0782, -5.2117, -2.9188, -4.8658, -3.3303, -3.418, -3.453, -3.6465, -3.8311, -3.9239, -4.0493, -4.1644, -4.24, -4.3285, -4.3716, -4.3737, -4.5132, -4.6491, -4.7286, -4.7421, -4.7526, -4.7863, -4.7932, -4.8537, -4.8654, -4.9442, -4.9583, -4.9661, -5.0468, -5.0908, -5.1225, -5.1326, -5.1421, -5.1414, -3.8813, -4.9843, -1.4382, -2.8343, -3.7983, -3.8424, -3.8523, -3.9846, -4.0619, -4.1114, -4.1306, -4.2228, -4.2383, -4.427, -4.478, -4.5475, -4.7288, -4.8219, -4.8581, -5.0227, -5.0293, -5.1431, -5.1466, -5.1512, -5.1549, -5.2477, -5.2544, -5.264, -5.2981, -5.3282, -5.3446, -5.3414, -2.8581, -4.539, -2.0295, -2.7983, -3.0539, -3.1768, -3.2061, -3.5057, -3.6584, -3.7363, -3.8004, -3.9243, -4.0574, -4.129, -4.1355, -4.1922, -4.303, -4.5601, -4.6249, -4.6924, -4.7299, -4.7316, -4.7395, -4.7989, -4.901, -4.9703, -4.9739, -4.9985, -5.142, -5.1443, -5.1752, -5.1941, -2.5243, -2.6123, -3.4066, -3.4099, -3.468, -3.6621, -3.75, -3.7659, -3.9226, -3.9249, -3.9344, -4.065, -4.1894, -4.2377, -4.2915, -4.4743, -4.5294, -4.5709, -4.6414, -4.7172, -4.7253, -4.8085, -4.9057, -4.921, -4.9416, -4.9481, -4.9612, -4.972, -4.9747, -4.9846, -1.8708, -2.8569, -2.8626, -3.039, -3.162, -3.33, -3.5858, -3.8569, -4.0181, -4.1336, -4.1425, -4.3371, -4.3377, -4.4538, -4.4889, -4.4909, -4.5013, -4.5546, -4.5743, -4.6274, -4.6541, -4.6578, -4.7013, -4.722, -4.7241, -4.7321, -4.7353, -4.744, -4.8169, -4.855], \"loglift\": [30.0, 29.0, 28.0, 27.0, 26.0, 25.0, 24.0, 23.0, 22.0, 21.0, 20.0, 19.0, 18.0, 17.0, 16.0, 15.0, 14.0, 13.0, 12.0, 11.0, 10.0, 9.0, 8.0, 7.0, 6.0, 5.0, 4.0, 3.0, 2.0, 1.0, 0.9491, 0.9491, 0.9491, 0.9491, 0.9491, 0.9491, 0.9491, 0.9491, 0.9491, 0.9491, 0.9491, 0.9491, 0.9491, 0.9491, 0.9491, 0.9491, 0.9491, 0.9491, 0.9491, 0.9491, 0.9491, 0.9491, 0.9491, 0.9491, 0.949, 0.949, 0.949, 0.949, 0.949, 0.949, 0.9488, 0.9476, 1.8599, 1.8598, 1.8598, 1.8598, 1.8598, 1.8598, 1.8598, 1.8597, 1.8597, 1.8597, 1.8597, 1.8597, 1.8597, 1.8597, 1.8597, 1.8596, 1.8596, 1.8596, 1.8596, 1.8595, 1.8595, 1.8595, 1.8595, 1.8595, 1.8595, 1.8594, 1.8594, 1.8594, 1.8594, 1.8594, 1.8574, 1.8343, 1.7069, 1.538, 1.7933, 1.5993, 1.9142, 1.9142, 1.9142, 1.9142, 1.9142, 1.9142, 1.9142, 1.9142, 1.9142, 1.9142, 1.9142, 1.9141, 1.9141, 1.9141, 1.9141, 1.9141, 1.9141, 1.914, 1.914, 1.914, 1.914, 1.914, 1.914, 1.914, 1.914, 1.914, 1.9139, 1.9139, 1.9138, 1.9137, 1.9127, 1.8353, 2.2573, 2.2573, 2.2573, 2.2572, 2.2572, 2.2572, 2.2572, 2.2571, 2.2571, 2.2571, 2.2571, 2.2571, 2.257, 2.257, 2.2569, 2.2569, 2.2569, 2.2569, 2.2569, 2.2569, 2.2568, 2.2568, 2.2568, 2.2568, 2.2567, 2.2567, 2.2567, 2.2567, 2.2567, 2.2567, 2.1573, 1.984, 2.6928, 2.6927, 2.6925, 2.6925, 2.6925, 2.6925, 2.6925, 2.6924, 2.6924, 2.6924, 2.6924, 2.6923, 2.6923, 2.6922, 2.6921, 2.692, 2.692, 2.6919, 2.6919, 2.6917, 2.6917, 2.6917, 2.6917, 2.6916, 2.6916, 2.6916, 2.6916, 2.6915, 2.6915, 2.6915, 2.6784, 2.5585, 2.7618, 2.7617, 2.7617, 2.7617, 2.7617, 2.7616, 2.7616, 2.7615, 2.7615, 2.7615, 2.7614, 2.7614, 2.7614, 2.7614, 2.7613, 2.7612, 2.7611, 2.7611, 2.7611, 2.7611, 2.7611, 2.761, 2.7609, 2.7609, 2.7609, 2.7608, 2.7607, 2.7607, 2.7606, 2.7606, 3.1259, 3.1259, 3.1257, 3.1257, 3.1257, 3.1256, 3.1256, 3.1256, 3.1255, 3.1255, 3.1255, 3.1254, 3.1254, 3.1253, 3.1253, 3.1251, 3.1251, 3.1251, 3.125, 3.1249, 3.1249, 3.1248, 3.1247, 3.1247, 3.1246, 3.1246, 3.1246, 3.1246, 3.1246, 3.1246, 3.4925, 3.4923, 3.4923, 3.4923, 3.4923, 3.4922, 3.4921, 3.4919, 3.4918, 3.4917, 3.4917, 3.4915, 3.4915, 3.4913, 3.4913, 3.4913, 3.4913, 3.4912, 3.4912, 3.4911, 3.4911, 3.4911, 3.491, 3.491, 3.491, 3.4909, 3.4909, 3.4909, 3.4908, 3.4907]}, \"token.table\": {\"Topic\": [6, 6, 2, 3, 2, 5, 8, 2, 1, 4, 2, 8, 3, 6, 6, 5, 2, 5, 2, 3, 3, 2, 5, 6, 2, 8, 4, 4, 4, 5, 8, 7, 7, 1, 4, 8, 5, 3, 4, 4, 5, 8, 8, 5, 1, 4, 8, 6, 2, 6, 6, 7, 3, 4, 5, 7, 5, 6, 1, 4, 8, 5, 2, 6, 4, 2, 7, 4, 4, 1, 2, 3, 6, 8, 4, 2, 6, 3, 1, 7, 8, 4, 2, 2, 4, 8, 5, 3, 4, 2, 1, 8, 7, 7, 6, 5, 1, 1, 7, 2, 5, 2, 6, 1, 1, 3, 1, 1, 1, 7, 2, 1, 3, 8, 6, 4, 3, 8, 6, 1, 6, 7, 5, 3, 3, 2, 8, 3, 8, 2, 3, 3, 2, 2, 5, 4, 3, 3, 3, 7, 3, 2, 7, 4, 1, 8, 7, 1, 2, 4, 8, 8, 7, 3, 6, 4, 1, 6, 3, 5, 1, 1, 1, 3, 4, 2, 5, 6, 1, 2, 4, 4, 2, 6, 6, 4, 7, 5, 7, 8, 7, 3, 1, 6, 4, 1, 5, 2, 7, 8, 3, 3, 5, 8, 5, 5, 7, 2, 8, 7, 1, 6, 6, 1, 8, 2, 4, 4, 5, 7, 1, 7, 8, 6, 5, 1, 2, 1, 3, 2, 2, 7, 3, 3, 4, 6, 5, 7, 4, 6, 8, 2, 5, 1, 4, 7, 1, 5, 7, 1, 7, 7, 5, 6, 1, 3, 5, 6, 1, 3, 8, 8, 5, 3, 8, 4, 1, 5, 4, 3, 3, 1, 3, 1, 7, 4, 3, 4, 2, 2], \"Freq\": [0.9981799233421744, 0.9999477630279477, 0.8580898633412, 0.14172072403599004, 0.999736060943909, 0.9995902645521908, 0.9985330908896302, 0.9998367983342561, 0.9984741769685562, 0.0013998936936117157, 0.9996884499581498, 0.9987781482026257, 0.9992081148811728, 0.9991155518027665, 0.9994243965680915, 0.9996077299007834, 0.9998383671485296, 0.9993774568697511, 0.9744290359493569, 0.024669089517705238, 0.9997147837243883, 0.9997080717234902, 0.9987347131883249, 0.9999791055229752, 0.9995171682724487, 0.9984442454763355, 0.9997812472254703, 0.9997043627204252, 0.999618817855249, 0.9991269880815634, 0.9998568853249462, 0.9992930637168446, 0.9985329648700297, 0.9999458378888046, 0.9998824895467255, 0.9981149791284779, 0.9998209796749208, 0.9996204409037207, 0.9997996103134664, 0.9998801019325697, 0.9994604349462057, 0.9996263007688775, 0.9982585248583914, 0.9996620945259449, 0.23867859344020212, 0.7605561397187788, 0.9995187099631491, 0.9996819667887864, 0.9997449392595923, 0.9994878799041582, 0.9988574293470186, 0.9991985924417032, 0.9999251530796339, 0.12524948721063114, 0.8746354640607557, 0.9991572921811485, 0.9995997275439867, 0.9989202110601166, 0.9999539816077989, 0.9993404294042337, 0.9984004931150136, 0.9979843787281292, 0.999516496523325, 0.9991783288359877, 0.9998020173610915, 0.9994919725377128, 0.9998513342009588, 0.9997206163188453, 0.9996671324373261, 0.11353861457917229, 0.7705025065716348, 0.11570538203297329, 0.9995546930578879, 0.9997646634806188, 0.9997611507204499, 0.9997550632735789, 0.99984220234371, 0.9994740137305698, 0.9999760961017491, 0.9988248612401134, 0.9984393431817499, 0.9994836555022476, 0.9998684022077118, 0.9997698480686728, 0.9998017418037854, 0.9982974450683539, 0.9992707291597931, 0.09493946699886423, 0.9047316302436753, 0.9995126884822711, 0.9998366833425857, 0.9998575131883551, 0.9992473147232885, 0.9979490928817013, 0.9998395684561443, 0.9987920178494981, 0.9998539181668321, 0.9999088033494037, 0.9985925228986187, 0.014181115225733195, 0.9857352281387252, 0.9997996393708426, 0.9993295275148036, 0.9999712384347255, 0.9998763463783609, 0.9992194833717335, 0.999971292200108, 0.9999018509823088, 0.9998756284522613, 0.9982898279461606, 0.9995521868473368, 0.9999716835155079, 0.9997409405755833, 0.9990515137951366, 0.9983350083420816, 0.9997551657550054, 0.999623302754997, 0.9996243097689362, 0.9994523407427485, 0.9998930236811154, 0.9984778479856316, 0.9996598178320099, 0.9990887979633039, 0.9998637433116381, 0.9994975736110551, 0.9996816452539252, 0.9988187193766992, 0.9997273781074787, 0.9996389811395716, 0.935386844934189, 0.06396244836803809, 0.9996452797725407, 0.9993970016871472, 0.9998605448683958, 0.9993138663357825, 0.9996611921086993, 0.9998517344142298, 0.999927169541719, 0.999593128580899, 0.999561818514956, 0.9997811311941918, 0.9999463191799712, 0.999566838351576, 0.9994200118828858, 0.9999269649744958, 0.9988486693509167, 0.9995924748987843, 0.002382412479261903, 0.997379967211001, 0.9995006464766164, 0.9982190862766384, 0.9977616891211305, 0.9985335198638036, 0.9996671535894471, 0.9990972438760298, 0.9998242885451628, 0.9999572005555135, 0.999856029563992, 0.9998516427109332, 0.9997980614405284, 0.9999122057622143, 0.9999778457804207, 0.07573929181394075, 0.924019360130077, 0.999369656715735, 0.9998202441072938, 0.9995183621901351, 0.9998946459979842, 0.24422943685293694, 0.724716933105972, 0.03086788715780175, 0.9992028177673778, 0.9995126893888846, 0.999718864921151, 0.9992468858868802, 0.9994636190374699, 0.9993024213307038, 0.9990021345125912, 0.9982018358380937, 0.9998404257471704, 0.9998862635454012, 0.9998962045002874, 0.9999148414212379, 0.9997491661137444, 0.9992383953502832, 0.9999276343308259, 0.9993931014518049, 0.9999458454929366, 0.9982076489889217, 0.9989578593347722, 0.9996232216462425, 0.999943879681983, 0.9993557452534021, 0.998288784921296, 0.9992715373233334, 0.9986744825253588, 0.9996250811356717, 0.9996034434208827, 0.9988945197635184, 0.9997042143515076, 0.9999349372594752, 0.9999462309846162, 0.9987051899026422, 0.9998625043767619, 0.9974630783195552, 0.9998628082816426, 0.9996661423612925, 0.9995957069985874, 0.9986929141003537, 0.998591702194878, 0.9999331523721771, 0.9994317048264072, 0.998669018505407, 0.9990251754969859, 0.999980376638665, 0.9998751266290499, 0.999522900894814, 0.9999314139724982, 0.9998841670931603, 0.9997788610990952, 0.9999126415264995, 0.999791875768426, 0.99989920504829, 0.9997387661250268, 0.9994782731276884, 0.9994939075971178, 0.9989760358784934, 0.9991749384146599, 0.9996927541729794, 0.9995357235321607, 0.9990103964700021, 0.9999382444527471, 0.9994691730814591, 0.9996404025793776, 0.00015148361912098462, 0.9998852609416051, 0.9999212226936242, 0.9996173258226907, 0.9981448920016193, 0.9998812642919366, 0.9998335741494313, 0.9994854363106771, 0.9999610645280036, 0.9996706295332777, 0.0015326508516668033, 0.9984125548000891, 0.9993535840244402, 0.9996183727938409, 0.9998924347959804, 0.9999192957169393, 0.9985182496518428, 0.999012032208474, 0.9982740611579844, 0.999970216520819, 0.9997361927179064, 0.9998343540859521, 0.9998865030477766, 0.9993645759732708, 0.9994786324323296, 0.999586259027107, 0.9999205203412291, 0.9999635756490415, 0.9998959812477485, 0.9998957872461219, 0.9994426793238372, 0.9988642495768547, 0.9999169052224356, 0.9995043111926017, 0.9999016298596819, 0.9995510093503293], \"Term\": [\"absolute\", \"account\", \"actually\", \"actually\", \"add\", \"allow\", \"alot\", \"already\", \"also\", \"also\", \"always\", \"annoying\", \"anymore\", \"apparently\", \"appear\", \"ask\", \"auto\", \"available\", \"away\", \"away\", \"back\", \"bad\", \"ball\", \"ban\", \"base\", \"beautiful\", \"big\", \"bit\", \"boring\", \"buck\", \"bug\", \"bullshit\", \"bunch\", \"buy\", \"car\", \"card\", \"care\", \"cause\", \"change\", \"character\", \"cheat\", \"cheater\", \"check\", \"company\", \"complete\", \"complete\", \"connect\", \"contact\", \"content\", \"control\", \"cop\", \"cost\", \"crash\", \"create\", \"create\", \"currency\", \"customer\", \"damn\", \"day\", \"delay\", \"design\", \"desist\", \"developer\", \"die\", \"different\", \"dlc\", \"dollar\", \"download\", \"drive\", \"due\", \"due\", \"due\", \"dumb\", \"edit\", \"end\", \"enjoy\", \"enough\", \"error\", \"even\", \"everytime\", \"everywhere\", \"expensive\", \"experience\", \"far\", \"feel\", \"fill\", \"finally\", \"find\", \"find\", \"fine\", \"first\", \"fix\", \"forget\", \"form\", \"fps\", \"freeze\", \"friend\", \"fun\", \"future\", \"game\", \"game\", \"gaming\", \"garbage\", \"get\", \"give\", \"glitch\", \"go\", \"good\", \"great\", \"group\", \"guy\", \"hacker\", \"happen\", \"hardware\", \"head\", \"heist\", \"help\", \"high\", \"hit\", \"hour\", \"illegal\", \"install\", \"interactive\", \"issue\", \"join\", \"keep\", \"kid\", \"kill\", \"lag\", \"least\", \"least\", \"leave\", \"level\", \"life\", \"link\", \"little\", \"load\", \"loading\", \"lobby\", \"log\", \"long\", \"look\", \"m\", \"main\", \"make\", \"man\", \"manage\", \"many\", \"many\", \"map\", \"mechanic\", \"meet\", \"million\", \"minute\", \"miss\", \"mission\", \"mod\", \"modde\", \"modder\", \"modding\", \"mode\", \"money\", \"month\", \"month\", \"move\", \"multiplayer\", \"name\", \"never\", \"new\", \"new\", \"new\", \"nice\", \"old\", \"open\", \"openiv\", \"option\", \"order\", \"original\", \"own\", \"patch\", \"pay\", \"pc\", \"people\", \"performance\", \"place\", \"play\", \"playable\", \"player\", \"policy\", \"poor\", \"port\", \"problem\", \"product\", \"properly\", \"provide\", \"public\", \"purchase\", \"put\", \"quit\", \"real\", \"really\", \"reason\", \"reccomend\", \"recommend\", \"refuse\", \"release\", \"remove\", \"require\", \"response\", \"return\", \"review\", \"reward\", \"rig\", \"rip\", \"rockstar\", \"run\", \"save\", \"say\", \"screen\", \"see\", \"seem\", \"sell\", \"server\", \"session\", \"set\", \"setting\", \"shame\", \"shark_cards\", \"shitty\", \"shoot\", \"simulator\", \"single\", \"social_club\", \"start\", \"start\", \"steam\", \"still\", \"stop\", \"store\", \"story\", \"stupid\", \"suck\", \"support\", \"system\", \"take\", \"take\", \"taketwo\", \"thank\", \"thing\", \"time\", \"totally\", \"trash\", \"treat\", \"try\", \"unplayable\", \"update\", \"use\", \"user\", \"vehicle\", \"version\", \"wait\", \"want\", \"waste\", \"well\", \"win\", \"window\", \"work\", \"world\", \"year\", \"yet\"]}, \"R\": 30, \"lambda.step\": 0.01, \"plot.opts\": {\"xlab\": \"PC1\", \"ylab\": \"PC2\"}, \"topic.order\": [6, 3, 5, 7, 1, 2, 8, 4]};\n",
       "\n",
       "function LDAvis_load_lib(url, callback){\n",
       "  var s = document.createElement('script');\n",
       "  s.src = url;\n",
       "  s.async = true;\n",
       "  s.onreadystatechange = s.onload = callback;\n",
       "  s.onerror = function(){console.warn(\"failed to load library \" + url);};\n",
       "  document.getElementsByTagName(\"head\")[0].appendChild(s);\n",
       "}\n",
       "\n",
       "if(typeof(LDAvis) !== \"undefined\"){\n",
       "   // already loaded: just create the visualization\n",
       "   !function(LDAvis){\n",
       "       new LDAvis(\"#\" + \"ldavis_el7637043916444003477078116\", ldavis_el7637043916444003477078116_data);\n",
       "   }(LDAvis);\n",
       "}else if(typeof define === \"function\" && define.amd){\n",
       "   // require.js is available: use it to load d3/LDAvis\n",
       "   require.config({paths: {d3: \"https://d3js.org/d3.v5\"}});\n",
       "   require([\"d3\"], function(d3){\n",
       "      window.d3 = d3;\n",
       "      LDAvis_load_lib(\"https://cdn.jsdelivr.net/gh/bmabey/pyLDAvis@3.3.1/pyLDAvis/js/ldavis.v3.0.0.js\", function(){\n",
       "        new LDAvis(\"#\" + \"ldavis_el7637043916444003477078116\", ldavis_el7637043916444003477078116_data);\n",
       "      });\n",
       "    });\n",
       "}else{\n",
       "    // require.js not available: dynamically load d3 & LDAvis\n",
       "    LDAvis_load_lib(\"https://d3js.org/d3.v5.js\", function(){\n",
       "         LDAvis_load_lib(\"https://cdn.jsdelivr.net/gh/bmabey/pyLDAvis@3.3.1/pyLDAvis/js/ldavis.v3.0.0.js\", function(){\n",
       "                 new LDAvis(\"#\" + \"ldavis_el7637043916444003477078116\", ldavis_el7637043916444003477078116_data);\n",
       "            })\n",
       "         });\n",
       "}\n",
       "</script>"
      ],
      "text/plain": [
       "PreparedData(topic_coordinates=              x         y  topics  cluster       Freq\n",
       "topic                                                \n",
       "5     -0.349535 -0.287166       1        1  38.706522\n",
       "2     -0.088195  0.212205       2        1  15.568495\n",
       "4     -0.168566  0.254199       3        1  14.744661\n",
       "6      0.028772  0.112674       4        1  10.462332\n",
       "0      0.136741 -0.079476       5        1   6.768921\n",
       "1      0.146161 -0.105537       6        1   6.317612\n",
       "7      0.148575 -0.057850       7        1   4.389289\n",
       "3      0.146047 -0.049050       8        1   3.042169, topic_info=           Term          Freq         Total Category  logprob  loglift\n",
       "62     rockstar  27606.000000  27606.000000  Default  30.0000  30.0000\n",
       "34          ban  14264.000000  14264.000000  Default  29.0000  29.0000\n",
       "26          get  33820.000000  33820.000000  Default  28.0000  28.0000\n",
       "285      player  16809.000000  16809.000000  Default  27.0000  27.0000\n",
       "56         time  14777.000000  14777.000000  Default  26.0000  26.0000\n",
       "...         ...           ...           ...      ...      ...      ...\n",
       "909      refuse    460.406223    461.169952   Topic8  -4.7321   3.4909\n",
       "252     totally    458.917218    459.681133   Topic8  -4.7353   3.4909\n",
       "1280  beautiful    454.945079    455.708971   Topic8  -4.7440   3.4909\n",
       "540    properly    422.961123    423.725085   Topic8  -4.8169   3.4908\n",
       "1781       meet    407.149258    407.913036   Topic8  -4.8550   3.4907\n",
       "\n",
       "[284 rows x 6 columns], token_table=      Topic      Freq      Term\n",
       "term                           \n",
       "139       6  0.998180  absolute\n",
       "58        6  0.999948   account\n",
       "101       2  0.858090  actually\n",
       "101       3  0.141721  actually\n",
       "141       2  0.999736       add\n",
       "...     ...       ...       ...\n",
       "2774      4  0.998864    window\n",
       "314       3  0.999917      work\n",
       "237       4  0.999504     world\n",
       "407       2  0.999902      year\n",
       "32        2  0.999551       yet\n",
       "\n",
       "[270 rows x 3 columns], R=30, lambda_step=0.01, plot_opts={'xlab': 'PC1', 'ylab': 'PC2'}, topic_order=[6, 3, 5, 7, 1, 2, 8, 4])"
      ]
     },
     "execution_count": 23,
     "metadata": {},
     "output_type": "execute_result"
    }
   ],
   "source": [
    "pyLDAvis.enable_notebook()\n",
    "vis = pyLDAvis.gensim_models.prepare(lda_model, corpus, id2word)\n",
    "vis"
   ]
  },
  {
   "cell_type": "code",
   "execution_count": null,
   "metadata": {},
   "outputs": [],
   "source": []
  }
 ],
 "metadata": {
  "kernelspec": {
   "display_name": "Python 3.9.12 ('base')",
   "language": "python",
   "name": "python3"
  },
  "language_info": {
   "codemirror_mode": {
    "name": "ipython",
    "version": 3
   },
   "file_extension": ".py",
   "mimetype": "text/x-python",
   "name": "python",
   "nbconvert_exporter": "python",
   "pygments_lexer": "ipython3",
   "version": "3.9.12"
  },
  "orig_nbformat": 4,
  "vscode": {
   "interpreter": {
    "hash": "ed343a87219b975df84d5260125e17249ec3c1727fa796fd58ecd90702b8aed1"
   }
  }
 },
 "nbformat": 4,
 "nbformat_minor": 2
}
